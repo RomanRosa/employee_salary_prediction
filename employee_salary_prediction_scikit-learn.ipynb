{
 "cells": [
  {
   "cell_type": "markdown",
   "id": "3f5f6fd6-e3db-49c7-9413-610caa291c2a",
   "metadata": {
    "tags": []
   },
   "source": [
    "## TASK 1 - Understand the problem statement."
   ]
  },
  {
   "cell_type": "markdown",
   "id": "95211a33-fb2e-4938-ace2-b56ab351b6b3",
   "metadata": {},
   "source": [
    "- The objective of this case study is to predict the employee salary based on the number of years of experience. \n",
    "- In simple linear regression, we predict the value of one variable Y based on another variable X.\n",
    "- X is called the independent variable and Y is called the dependant variable.\n",
    "- Why simple? Because it examines relationship between two variables only.\n",
    "- Why linear? when the independent variable increases (or decreases), the dependent variable increases (or decreases) in a linear fashion.\n"
   ]
  },
  {
   "cell_type": "markdown",
   "id": "0195d1ca-8734-405e-9daf-01b1658408ca",
   "metadata": {},
   "source": [
    "## TASK 2 - Import libraries and datasets."
   ]
  },
  {
   "cell_type": "code",
   "execution_count": 1,
   "id": "3206f4af-d18f-4db7-aecf-79649ca133ea",
   "metadata": {
    "tags": []
   },
   "outputs": [
    {
     "name": "stdout",
     "output_type": "stream",
     "text": [
      "Requirement already satisfied: tensorflow in /opt/conda/lib/python3.10/site-packages (2.14.0)\n",
      "Requirement already satisfied: seaborn in /opt/conda/lib/python3.10/site-packages (0.11.2)\n",
      "Requirement already satisfied: absl-py>=1.0.0 in /opt/conda/lib/python3.10/site-packages (from tensorflow) (2.0.0)\n",
      "Requirement already satisfied: astunparse>=1.6.0 in /opt/conda/lib/python3.10/site-packages (from tensorflow) (1.6.3)\n",
      "Requirement already satisfied: flatbuffers>=23.5.26 in /opt/conda/lib/python3.10/site-packages (from tensorflow) (23.5.26)\n",
      "Requirement already satisfied: gast!=0.5.0,!=0.5.1,!=0.5.2,>=0.2.1 in /opt/conda/lib/python3.10/site-packages (from tensorflow) (0.5.4)\n",
      "Requirement already satisfied: google-pasta>=0.1.1 in /opt/conda/lib/python3.10/site-packages (from tensorflow) (0.2.0)\n",
      "Requirement already satisfied: h5py>=2.9.0 in /opt/conda/lib/python3.10/site-packages (from tensorflow) (3.7.0)\n",
      "Requirement already satisfied: libclang>=13.0.0 in /opt/conda/lib/python3.10/site-packages (from tensorflow) (16.0.6)\n",
      "Requirement already satisfied: ml-dtypes==0.2.0 in /opt/conda/lib/python3.10/site-packages (from tensorflow) (0.2.0)\n",
      "Requirement already satisfied: numpy>=1.23.5 in /opt/conda/lib/python3.10/site-packages (from tensorflow) (1.26.0)\n",
      "Requirement already satisfied: opt-einsum>=2.3.2 in /opt/conda/lib/python3.10/site-packages (from tensorflow) (3.3.0)\n",
      "Requirement already satisfied: packaging in /opt/conda/lib/python3.10/site-packages (from tensorflow) (21.3)\n",
      "Requirement already satisfied: protobuf!=4.21.0,!=4.21.1,!=4.21.2,!=4.21.3,!=4.21.4,!=4.21.5,<5.0.0dev,>=3.20.3 in /opt/conda/lib/python3.10/site-packages (from tensorflow) (4.24.4)\n",
      "Requirement already satisfied: setuptools in /opt/conda/lib/python3.10/site-packages (from tensorflow) (68.2.2)\n",
      "Requirement already satisfied: six>=1.12.0 in /opt/conda/lib/python3.10/site-packages (from tensorflow) (1.16.0)\n",
      "Requirement already satisfied: termcolor>=1.1.0 in /opt/conda/lib/python3.10/site-packages (from tensorflow) (2.3.0)\n",
      "Requirement already satisfied: typing-extensions>=3.6.6 in /opt/conda/lib/python3.10/site-packages (from tensorflow) (4.3.0)\n",
      "Requirement already satisfied: wrapt<1.15,>=1.11.0 in /opt/conda/lib/python3.10/site-packages (from tensorflow) (1.14.1)\n",
      "Requirement already satisfied: tensorflow-io-gcs-filesystem>=0.23.1 in /opt/conda/lib/python3.10/site-packages (from tensorflow) (0.34.0)\n",
      "Requirement already satisfied: grpcio<2.0,>=1.24.3 in /opt/conda/lib/python3.10/site-packages (from tensorflow) (1.59.0)\n",
      "Requirement already satisfied: tensorboard<2.15,>=2.14 in /opt/conda/lib/python3.10/site-packages (from tensorflow) (2.14.1)\n",
      "Requirement already satisfied: tensorflow-estimator<2.15,>=2.14.0 in /opt/conda/lib/python3.10/site-packages (from tensorflow) (2.14.0)\n",
      "Requirement already satisfied: keras<2.15,>=2.14.0 in /opt/conda/lib/python3.10/site-packages (from tensorflow) (2.14.0)\n",
      "Requirement already satisfied: scipy>=1.0 in /opt/conda/lib/python3.10/site-packages (from seaborn) (1.11.3)\n",
      "Requirement already satisfied: pandas>=0.23 in /opt/conda/lib/python3.10/site-packages (from seaborn) (1.4.4)\n",
      "Requirement already satisfied: matplotlib>=2.2 in /opt/conda/lib/python3.10/site-packages (from seaborn) (3.5.2)\n",
      "Requirement already satisfied: wheel<1.0,>=0.23.0 in /opt/conda/lib/python3.10/site-packages (from astunparse>=1.6.0->tensorflow) (0.41.2)\n",
      "Requirement already satisfied: cycler>=0.10 in /opt/conda/lib/python3.10/site-packages (from matplotlib>=2.2->seaborn) (0.11.0)\n",
      "Requirement already satisfied: fonttools>=4.22.0 in /opt/conda/lib/python3.10/site-packages (from matplotlib>=2.2->seaborn) (4.25.0)\n",
      "Requirement already satisfied: kiwisolver>=1.0.1 in /opt/conda/lib/python3.10/site-packages (from matplotlib>=2.2->seaborn) (1.4.2)\n",
      "Requirement already satisfied: pillow>=6.2.0 in /opt/conda/lib/python3.10/site-packages (from matplotlib>=2.2->seaborn) (10.0.1)\n",
      "Requirement already satisfied: pyparsing>=2.2.1 in /opt/conda/lib/python3.10/site-packages (from matplotlib>=2.2->seaborn) (3.0.9)\n",
      "Requirement already satisfied: python-dateutil>=2.7 in /opt/conda/lib/python3.10/site-packages (from matplotlib>=2.2->seaborn) (2.8.2)\n",
      "Requirement already satisfied: pytz>=2020.1 in /opt/conda/lib/python3.10/site-packages (from pandas>=0.23->seaborn) (2022.1)\n",
      "Requirement already satisfied: google-auth<3,>=1.6.3 in /opt/conda/lib/python3.10/site-packages (from tensorboard<2.15,>=2.14->tensorflow) (2.23.3)\n",
      "Requirement already satisfied: google-auth-oauthlib<1.1,>=0.5 in /opt/conda/lib/python3.10/site-packages (from tensorboard<2.15,>=2.14->tensorflow) (1.0.0)\n",
      "Requirement already satisfied: markdown>=2.6.8 in /opt/conda/lib/python3.10/site-packages (from tensorboard<2.15,>=2.14->tensorflow) (3.3.4)\n",
      "Requirement already satisfied: requests<3,>=2.21.0 in /opt/conda/lib/python3.10/site-packages (from tensorboard<2.15,>=2.14->tensorflow) (2.31.0)\n",
      "Requirement already satisfied: tensorboard-data-server<0.8.0,>=0.7.0 in /opt/conda/lib/python3.10/site-packages (from tensorboard<2.15,>=2.14->tensorflow) (0.7.1)\n",
      "Requirement already satisfied: werkzeug>=1.0.1 in /opt/conda/lib/python3.10/site-packages (from tensorboard<2.15,>=2.14->tensorflow) (3.0.0)\n",
      "Requirement already satisfied: cachetools<6.0,>=2.0.0 in /opt/conda/lib/python3.10/site-packages (from google-auth<3,>=1.6.3->tensorboard<2.15,>=2.14->tensorflow) (5.3.1)\n",
      "Requirement already satisfied: pyasn1-modules>=0.2.1 in /opt/conda/lib/python3.10/site-packages (from google-auth<3,>=1.6.3->tensorboard<2.15,>=2.14->tensorflow) (0.2.8)\n",
      "Requirement already satisfied: rsa<5,>=3.1.4 in /opt/conda/lib/python3.10/site-packages (from google-auth<3,>=1.6.3->tensorboard<2.15,>=2.14->tensorflow) (4.7.2)\n",
      "Requirement already satisfied: requests-oauthlib>=0.7.0 in /opt/conda/lib/python3.10/site-packages (from google-auth-oauthlib<1.1,>=0.5->tensorboard<2.15,>=2.14->tensorflow) (1.3.1)\n",
      "Requirement already satisfied: charset-normalizer<4,>=2 in /opt/conda/lib/python3.10/site-packages (from requests<3,>=2.21.0->tensorboard<2.15,>=2.14->tensorflow) (2.0.4)\n",
      "Requirement already satisfied: idna<4,>=2.5 in /opt/conda/lib/python3.10/site-packages (from requests<3,>=2.21.0->tensorboard<2.15,>=2.14->tensorflow) (3.3)\n",
      "Requirement already satisfied: urllib3<3,>=1.21.1 in /opt/conda/lib/python3.10/site-packages (from requests<3,>=2.21.0->tensorboard<2.15,>=2.14->tensorflow) (2.0.6)\n",
      "Requirement already satisfied: certifi>=2017.4.17 in /opt/conda/lib/python3.10/site-packages (from requests<3,>=2.21.0->tensorboard<2.15,>=2.14->tensorflow) (2023.7.22)\n",
      "Requirement already satisfied: MarkupSafe>=2.1.1 in /opt/conda/lib/python3.10/site-packages (from werkzeug>=1.0.1->tensorboard<2.15,>=2.14->tensorflow) (2.1.3)\n",
      "Requirement already satisfied: pyasn1<0.5.0,>=0.4.6 in /opt/conda/lib/python3.10/site-packages (from pyasn1-modules>=0.2.1->google-auth<3,>=1.6.3->tensorboard<2.15,>=2.14->tensorflow) (0.4.8)\n",
      "Requirement already satisfied: oauthlib>=3.0.0 in /opt/conda/lib/python3.10/site-packages (from requests-oauthlib>=0.7.0->google-auth-oauthlib<1.1,>=0.5->tensorboard<2.15,>=2.14->tensorflow) (3.2.2)\n",
      "\u001b[33mWARNING: Running pip as the 'root' user can result in broken permissions and conflicting behaviour with the system package manager. It is recommended to use a virtual environment instead: https://pip.pypa.io/warnings/venv\u001b[0m\u001b[33m\n",
      "\u001b[0m\u001b[33mWARNING: There was an error checking the latest version of pip.\u001b[0m\u001b[33m\n",
      "\u001b[0m"
     ]
    }
   ],
   "source": [
    "!pip install tensorflow seaborn"
   ]
  },
  {
   "cell_type": "code",
   "execution_count": 2,
   "id": "dad2b2f1-faf1-4b32-b260-d70c69a48220",
   "metadata": {
    "tags": []
   },
   "outputs": [
    {
     "name": "stdout",
     "output_type": "stream",
     "text": [
      "Requirement already satisfied: pip in /opt/conda/lib/python3.10/site-packages (23.3)\n",
      "\u001b[33mWARNING: Running pip as the 'root' user can result in broken permissions and conflicting behaviour with the system package manager. It is recommended to use a virtual environment instead: https://pip.pypa.io/warnings/venv\u001b[0m\u001b[33m\n",
      "\u001b[0m\u001b[33mWARNING: There was an error checking the latest version of pip.\u001b[0m\u001b[33m\n",
      "\u001b[0m"
     ]
    }
   ],
   "source": [
    "!pip install --upgrade pip"
   ]
  },
  {
   "cell_type": "code",
   "execution_count": 3,
   "id": "27245043-2e18-4bda-b3e6-82c1144ae6dd",
   "metadata": {
    "tags": []
   },
   "outputs": [
    {
     "name": "stderr",
     "output_type": "stream",
     "text": [
      "2023-10-19 18:29:58.307827: I tensorflow/tsl/cuda/cudart_stub.cc:28] Could not find cuda drivers on your machine, GPU will not be used.\n",
      "2023-10-19 18:29:58.357666: E tensorflow/compiler/xla/stream_executor/cuda/cuda_dnn.cc:9342] Unable to register cuDNN factory: Attempting to register factory for plugin cuDNN when one has already been registered\n",
      "2023-10-19 18:29:58.357705: E tensorflow/compiler/xla/stream_executor/cuda/cuda_fft.cc:609] Unable to register cuFFT factory: Attempting to register factory for plugin cuFFT when one has already been registered\n",
      "2023-10-19 18:29:58.357733: E tensorflow/compiler/xla/stream_executor/cuda/cuda_blas.cc:1518] Unable to register cuBLAS factory: Attempting to register factory for plugin cuBLAS when one has already been registered\n",
      "2023-10-19 18:29:58.366255: I tensorflow/tsl/cuda/cudart_stub.cc:28] Could not find cuda drivers on your machine, GPU will not be used.\n",
      "2023-10-19 18:29:58.367220: I tensorflow/core/platform/cpu_feature_guard.cc:182] This TensorFlow binary is optimized to use available CPU instructions in performance-critical operations.\n",
      "To enable the following instructions: AVX2 AVX512F FMA, in other operations, rebuild TensorFlow with the appropriate compiler flags.\n",
      "2023-10-19 18:29:59.801172: W tensorflow/compiler/tf2tensorrt/utils/py_utils.cc:38] TF-TRT Warning: Could not find TensorRT\n"
     ]
    }
   ],
   "source": [
    "import tensorflow as tf\n",
    "import pandas as pd\n",
    "import numpy as np\n",
    "import seaborn as sns\n",
    "import matplotlib.pyplot as plt"
   ]
  },
  {
   "cell_type": "code",
   "execution_count": 4,
   "id": "39c54d88-4b7c-4a1b-a985-814631fdf2a4",
   "metadata": {
    "tags": []
   },
   "outputs": [
    {
     "name": "stdout",
     "output_type": "stream",
     "text": [
      "(35, 2)\n"
     ]
    },
    {
     "data": {
      "text/html": [
       "<div>\n",
       "<style scoped>\n",
       "    .dataframe tbody tr th:only-of-type {\n",
       "        vertical-align: middle;\n",
       "    }\n",
       "\n",
       "    .dataframe tbody tr th {\n",
       "        vertical-align: top;\n",
       "    }\n",
       "\n",
       "    .dataframe thead th {\n",
       "        text-align: right;\n",
       "    }\n",
       "</style>\n",
       "<table border=\"1\" class=\"dataframe\">\n",
       "  <thead>\n",
       "    <tr style=\"text-align: right;\">\n",
       "      <th></th>\n",
       "      <th>YearsExperience</th>\n",
       "      <th>Salary</th>\n",
       "    </tr>\n",
       "  </thead>\n",
       "  <tbody>\n",
       "    <tr>\n",
       "      <th>0</th>\n",
       "      <td>1.1</td>\n",
       "      <td>39343</td>\n",
       "    </tr>\n",
       "    <tr>\n",
       "      <th>1</th>\n",
       "      <td>1.3</td>\n",
       "      <td>46205</td>\n",
       "    </tr>\n",
       "    <tr>\n",
       "      <th>2</th>\n",
       "      <td>1.5</td>\n",
       "      <td>37731</td>\n",
       "    </tr>\n",
       "    <tr>\n",
       "      <th>3</th>\n",
       "      <td>2.0</td>\n",
       "      <td>43525</td>\n",
       "    </tr>\n",
       "    <tr>\n",
       "      <th>4</th>\n",
       "      <td>2.2</td>\n",
       "      <td>39891</td>\n",
       "    </tr>\n",
       "  </tbody>\n",
       "</table>\n",
       "</div>"
      ],
      "text/plain": [
       "   YearsExperience  Salary\n",
       "0              1.1   39343\n",
       "1              1.3   46205\n",
       "2              1.5   37731\n",
       "3              2.0   43525\n",
       "4              2.2   39891"
      ]
     },
     "execution_count": 4,
     "metadata": {},
     "output_type": "execute_result"
    }
   ],
   "source": [
    "# read source csv file\n",
    "salary_df = pd.read_csv('salary.csv')\n",
    "print(salary_df.shape)\n",
    "salary_df.head()"
   ]
  },
  {
   "cell_type": "code",
   "execution_count": 5,
   "id": "38055952-2c58-4ebe-abff-17fabc9a3abb",
   "metadata": {
    "tags": []
   },
   "outputs": [
    {
     "data": {
      "text/html": [
       "<div>\n",
       "<style scoped>\n",
       "    .dataframe tbody tr th:only-of-type {\n",
       "        vertical-align: middle;\n",
       "    }\n",
       "\n",
       "    .dataframe tbody tr th {\n",
       "        vertical-align: top;\n",
       "    }\n",
       "\n",
       "    .dataframe thead th {\n",
       "        text-align: right;\n",
       "    }\n",
       "</style>\n",
       "<table border=\"1\" class=\"dataframe\">\n",
       "  <thead>\n",
       "    <tr style=\"text-align: right;\">\n",
       "      <th></th>\n",
       "      <th>YearsExperience</th>\n",
       "      <th>Salary</th>\n",
       "    </tr>\n",
       "  </thead>\n",
       "  <tbody>\n",
       "    <tr>\n",
       "      <th>30</th>\n",
       "      <td>11.2</td>\n",
       "      <td>127345</td>\n",
       "    </tr>\n",
       "    <tr>\n",
       "      <th>31</th>\n",
       "      <td>11.5</td>\n",
       "      <td>126756</td>\n",
       "    </tr>\n",
       "    <tr>\n",
       "      <th>32</th>\n",
       "      <td>12.3</td>\n",
       "      <td>128765</td>\n",
       "    </tr>\n",
       "    <tr>\n",
       "      <th>33</th>\n",
       "      <td>12.9</td>\n",
       "      <td>135675</td>\n",
       "    </tr>\n",
       "    <tr>\n",
       "      <th>34</th>\n",
       "      <td>13.5</td>\n",
       "      <td>139465</td>\n",
       "    </tr>\n",
       "  </tbody>\n",
       "</table>\n",
       "</div>"
      ],
      "text/plain": [
       "    YearsExperience  Salary\n",
       "30             11.2  127345\n",
       "31             11.5  126756\n",
       "32             12.3  128765\n",
       "33             12.9  135675\n",
       "34             13.5  139465"
      ]
     },
     "execution_count": 5,
     "metadata": {},
     "output_type": "execute_result"
    }
   ],
   "source": [
    "salary_df.tail()"
   ]
  },
  {
   "cell_type": "code",
   "execution_count": 6,
   "id": "e335abf0-3fdc-4ace-afea-81033b5667ed",
   "metadata": {
    "tags": []
   },
   "outputs": [
    {
     "name": "stdout",
     "output_type": "stream",
     "text": [
      "37731\n",
      "\n",
      "\n",
      "139465\n"
     ]
    }
   ],
   "source": [
    "print(salary_df['Salary'].min())\n",
    "print('\\n')\n",
    "print(salary_df['Salary'].max())"
   ]
  },
  {
   "cell_type": "markdown",
   "id": "9174f959-01ca-4118-bdd2-e32f813baa2f",
   "metadata": {},
   "source": [
    "### TASK #3: Perform exploratory data analysis and visualization"
   ]
  },
  {
   "cell_type": "code",
   "execution_count": 7,
   "id": "bdaab236-cdf6-4549-9705-1f66d7847b4f",
   "metadata": {
    "tags": []
   },
   "outputs": [
    {
     "data": {
      "text/plain": [
       "<AxesSubplot:>"
      ]
     },
     "execution_count": 7,
     "metadata": {},
     "output_type": "execute_result"
    },
    {
     "data": {
      "image/png": "[encoded data removed]",
      "text/plain": [
       "<Figure size 640x480 with 1 Axes>"
      ]
     },
     "metadata": {},
     "output_type": "display_data"
    }
   ],
   "source": [
    "# Check if there are any Null Values\n",
    "sns.heatmap(salary_df.isnull(), yticklabels = False, cbar = False, cmap = 'Blues')"
   ]
  },
  {
   "cell_type": "code",
   "execution_count": 8,
   "id": "b27fc2b0-820b-49c8-a5de-51001c6f350b",
   "metadata": {
    "tags": []
   },
   "outputs": [
    {
     "name": "stdout",
     "output_type": "stream",
     "text": [
      "<class 'pandas.core.frame.DataFrame'>\n",
      "RangeIndex: 35 entries, 0 to 34\n",
      "Data columns (total 2 columns):\n",
      " #   Column           Non-Null Count  Dtype  \n",
      "---  ------           --------------  -----  \n",
      " 0   YearsExperience  35 non-null     float64\n",
      " 1   Salary           35 non-null     int64  \n",
      "dtypes: float64(1), int64(1)\n",
      "memory usage: 688.0 bytes\n"
     ]
    }
   ],
   "source": [
    "# Check the dataframe info\n",
    "salary_df.info()"
   ]
  },
  {
   "cell_type": "code",
   "execution_count": 9,
   "id": "f675858a-5dfa-46ca-a970-93a49811242a",
   "metadata": {
    "tags": []
   },
   "outputs": [
    {
     "data": {
      "text/html": [
       "<div>\n",
       "<style scoped>\n",
       "    .dataframe tbody tr th:only-of-type {\n",
       "        vertical-align: middle;\n",
       "    }\n",
       "\n",
       "    .dataframe tbody tr th {\n",
       "        vertical-align: top;\n",
       "    }\n",
       "\n",
       "    .dataframe thead th {\n",
       "        text-align: right;\n",
       "    }\n",
       "</style>\n",
       "<table border=\"1\" class=\"dataframe\">\n",
       "  <thead>\n",
       "    <tr style=\"text-align: right;\">\n",
       "      <th></th>\n",
       "      <th>YearsExperience</th>\n",
       "      <th>Salary</th>\n",
       "    </tr>\n",
       "  </thead>\n",
       "  <tbody>\n",
       "    <tr>\n",
       "      <th>count</th>\n",
       "      <td>35.000000</td>\n",
       "      <td>35.000000</td>\n",
       "    </tr>\n",
       "    <tr>\n",
       "      <th>mean</th>\n",
       "      <td>6.308571</td>\n",
       "      <td>83945.600000</td>\n",
       "    </tr>\n",
       "    <tr>\n",
       "      <th>std</th>\n",
       "      <td>3.618610</td>\n",
       "      <td>32162.673003</td>\n",
       "    </tr>\n",
       "    <tr>\n",
       "      <th>min</th>\n",
       "      <td>1.100000</td>\n",
       "      <td>37731.000000</td>\n",
       "    </tr>\n",
       "    <tr>\n",
       "      <th>25%</th>\n",
       "      <td>3.450000</td>\n",
       "      <td>57019.000000</td>\n",
       "    </tr>\n",
       "    <tr>\n",
       "      <th>50%</th>\n",
       "      <td>5.300000</td>\n",
       "      <td>81363.000000</td>\n",
       "    </tr>\n",
       "    <tr>\n",
       "      <th>75%</th>\n",
       "      <td>9.250000</td>\n",
       "      <td>113223.500000</td>\n",
       "    </tr>\n",
       "    <tr>\n",
       "      <th>max</th>\n",
       "      <td>13.500000</td>\n",
       "      <td>139465.000000</td>\n",
       "    </tr>\n",
       "  </tbody>\n",
       "</table>\n",
       "</div>"
      ],
      "text/plain": [
       "       YearsExperience         Salary\n",
       "count        35.000000      35.000000\n",
       "mean          6.308571   83945.600000\n",
       "std           3.618610   32162.673003\n",
       "min           1.100000   37731.000000\n",
       "25%           3.450000   57019.000000\n",
       "50%           5.300000   81363.000000\n",
       "75%           9.250000  113223.500000\n",
       "max          13.500000  139465.000000"
      ]
     },
     "execution_count": 9,
     "metadata": {},
     "output_type": "execute_result"
    }
   ],
   "source": [
    "# Statistical summary of the dataframe\n",
    "salary_df.describe()"
   ]
  },
  {
   "cell_type": "markdown",
   "id": "92776785-22f1-4cc4-a544-e15a912feed9",
   "metadata": {},
   "source": [
    "MINI CHALLENGE\n",
    " - What are the number of years of experience corresponding to employees with minimum and maximim salaries?"
   ]
  },
  {
   "cell_type": "code",
   "execution_count": 10,
   "id": "86a33209-76da-4407-8845-926c2cd74b6f",
   "metadata": {
    "tags": []
   },
   "outputs": [
    {
     "name": "stdout",
     "output_type": "stream",
     "text": [
      "Employees with minimum salaries:\n",
      "YearsExperience        1.1\n",
      "Salary             37731.0\n",
      "dtype: float64\n",
      "\n",
      "\n",
      "Employees with maximum salaries:\n",
      "YearsExperience        13.5\n",
      "Salary             139465.0\n",
      "dtype: float64\n"
     ]
    }
   ],
   "source": [
    "print(f'Employees with minimum salaries:\\n{salary_df.min()}')\n",
    "print('\\n')\n",
    "print(f'Employees with maximum salaries:\\n{salary_df.max()}')"
   ]
  },
  {
   "cell_type": "code",
   "execution_count": 11,
   "id": "f80e2698-5a52-4997-925c-ea4911cb8781",
   "metadata": {
    "tags": []
   },
   "outputs": [
    {
     "data": {
      "text/html": [
       "<div>\n",
       "<style scoped>\n",
       "    .dataframe tbody tr th:only-of-type {\n",
       "        vertical-align: middle;\n",
       "    }\n",
       "\n",
       "    .dataframe tbody tr th {\n",
       "        vertical-align: top;\n",
       "    }\n",
       "\n",
       "    .dataframe thead th {\n",
       "        text-align: right;\n",
       "    }\n",
       "</style>\n",
       "<table border=\"1\" class=\"dataframe\">\n",
       "  <thead>\n",
       "    <tr style=\"text-align: right;\">\n",
       "      <th></th>\n",
       "      <th>YearsExperience</th>\n",
       "      <th>Salary</th>\n",
       "    </tr>\n",
       "  </thead>\n",
       "  <tbody>\n",
       "    <tr>\n",
       "      <th>34</th>\n",
       "      <td>13.5</td>\n",
       "      <td>139465</td>\n",
       "    </tr>\n",
       "  </tbody>\n",
       "</table>\n",
       "</div>"
      ],
      "text/plain": [
       "    YearsExperience  Salary\n",
       "34             13.5  139465"
      ]
     },
     "execution_count": 11,
     "metadata": {},
     "output_type": "execute_result"
    }
   ],
   "source": [
    "# Employee w/maximum salary\n",
    "max = salary_df[salary_df['Salary']==salary_df['Salary'].max()]\n",
    "max"
   ]
  },
  {
   "cell_type": "code",
   "execution_count": 13,
   "id": "695d6331-22fa-46fe-bc06-54afa5e07627",
   "metadata": {
    "tags": []
   },
   "outputs": [
    {
     "data": {
      "text/html": [
       "<div>\n",
       "<style scoped>\n",
       "    .dataframe tbody tr th:only-of-type {\n",
       "        vertical-align: middle;\n",
       "    }\n",
       "\n",
       "    .dataframe tbody tr th {\n",
       "        vertical-align: top;\n",
       "    }\n",
       "\n",
       "    .dataframe thead th {\n",
       "        text-align: right;\n",
       "    }\n",
       "</style>\n",
       "<table border=\"1\" class=\"dataframe\">\n",
       "  <thead>\n",
       "    <tr style=\"text-align: right;\">\n",
       "      <th></th>\n",
       "      <th>YearsExperience</th>\n",
       "      <th>Salary</th>\n",
       "    </tr>\n",
       "  </thead>\n",
       "  <tbody>\n",
       "    <tr>\n",
       "      <th>2</th>\n",
       "      <td>1.5</td>\n",
       "      <td>37731</td>\n",
       "    </tr>\n",
       "  </tbody>\n",
       "</table>\n",
       "</div>"
      ],
      "text/plain": [
       "   YearsExperience  Salary\n",
       "2              1.5   37731"
      ]
     },
     "execution_count": 13,
     "metadata": {},
     "output_type": "execute_result"
    }
   ],
   "source": [
    "# Employee v/minimum salary\n",
    "min = salary_df[salary_df['Salary']==salary_df['Salary'].min()]\n",
    "min"
   ]
  },
  {
   "cell_type": "code",
   "execution_count": 14,
   "id": "5af96f7f-d996-45ea-9bc7-24aa089cb858",
   "metadata": {
    "tags": []
   },
   "outputs": [
    {
     "data": {
      "text/plain": [
       "array([[<AxesSubplot:title={'center':'YearsExperience'}>,\n",
       "        <AxesSubplot:title={'center':'Salary'}>]], dtype=object)"
      ]
     },
     "execution_count": 14,
     "metadata": {},
     "output_type": "execute_result"
    },
    {
     "data": {
      "image/png": "[encoded data removed]",
      "text/plain": [
       "<Figure size 2000x1000 with 2 Axes>"
      ]
     },
     "metadata": {},
     "output_type": "display_data"
    }
   ],
   "source": [
    "salary_df.hist(bins = 30, figsize = (20,10), color = 'r')"
   ]
  },
  {
   "cell_type": "code",
   "execution_count": 15,
   "id": "9435fa6b-df7b-4700-b8c8-93e3b1042360",
   "metadata": {
    "tags": []
   },
   "outputs": [
    {
     "data": {
      "text/plain": [
       "<seaborn.axisgrid.PairGrid at 0x7fa8a34cc820>"
      ]
     },
     "execution_count": 15,
     "metadata": {},
     "output_type": "execute_result"
    },
    {
     "data": {
      "image/png": "[encoded data removed]",
      "text/plain": [
       "<Figure size 500x500 with 6 Axes>"
      ]
     },
     "metadata": {},
     "output_type": "display_data"
    }
   ],
   "source": [
    "# Plot pairplot\n",
    "sns.pairplot(salary_df)"
   ]
  },
  {
   "cell_type": "code",
   "execution_count": 16,
   "id": "672abe24-a626-4eff-ab21-999dcd6b92a7",
   "metadata": {
    "tags": []
   },
   "outputs": [
    {
     "data": {
      "image/png": "[encoded data removed]",
      "text/plain": [
       "<Figure size 640x480 with 2 Axes>"
      ]
     },
     "metadata": {},
     "output_type": "display_data"
    }
   ],
   "source": [
    "corr_matrix = salary_df.corr()\n",
    "sns.heatmap(corr_matrix, annot = True)\n",
    "plt.show()"
   ]
  },
  {
   "cell_type": "markdown",
   "id": "8cb52241-2049-4a82-89eb-e4856b8a51fe",
   "metadata": {},
   "source": [
    "MINI CHALLENGE\n",
    "- Use regplot in Seaborn to obtain a straight line fit between \"salary\" and \"years of experience\""
   ]
  },
  {
   "cell_type": "code",
   "execution_count": 17,
   "id": "178a9063-b7c7-4d6d-84c1-bed83388b081",
   "metadata": {
    "tags": []
   },
   "outputs": [
    {
     "data": {
      "text/plain": [
       "<AxesSubplot:xlabel='YearsExperience', ylabel='Salary'>"
      ]
     },
     "execution_count": 17,
     "metadata": {},
     "output_type": "execute_result"
    },
    {
     "data": {
      "image/png": "[encoded data removed]",
      "text/plain": [
       "<Figure size 640x480 with 1 Axes>"
      ]
     },
     "metadata": {},
     "output_type": "display_data"
    }
   ],
   "source": [
    "sns.regplot(data = salary_df, x = 'YearsExperience', y = 'Salary')"
   ]
  },
  {
   "cell_type": "markdown",
   "id": "9c3bd125-f4f3-45bb-83ed-ae653862f2de",
   "metadata": {},
   "source": [
    "### TASK #4: Create Training and Testing Dataset"
   ]
  },
  {
   "cell_type": "code",
   "execution_count": 18,
   "id": "cd642fd9-0977-4678-8dce-5b66b227a9b8",
   "metadata": {
    "tags": []
   },
   "outputs": [],
   "source": [
    "X = salary_df[['YearsExperience']]\n",
    "y = salary_df[['Salary']]"
   ]
  },
  {
   "cell_type": "code",
   "execution_count": 19,
   "id": "c9aca71e-ce51-4997-a5cd-2b2c9070b9ef",
   "metadata": {
    "tags": []
   },
   "outputs": [
    {
     "data": {
      "text/html": [
       "<div>\n",
       "<style scoped>\n",
       "    .dataframe tbody tr th:only-of-type {\n",
       "        vertical-align: middle;\n",
       "    }\n",
       "\n",
       "    .dataframe tbody tr th {\n",
       "        vertical-align: top;\n",
       "    }\n",
       "\n",
       "    .dataframe thead th {\n",
       "        text-align: right;\n",
       "    }\n",
       "</style>\n",
       "<table border=\"1\" class=\"dataframe\">\n",
       "  <thead>\n",
       "    <tr style=\"text-align: right;\">\n",
       "      <th></th>\n",
       "      <th>YearsExperience</th>\n",
       "    </tr>\n",
       "  </thead>\n",
       "  <tbody>\n",
       "    <tr>\n",
       "      <th>0</th>\n",
       "      <td>1.1</td>\n",
       "    </tr>\n",
       "    <tr>\n",
       "      <th>1</th>\n",
       "      <td>1.3</td>\n",
       "    </tr>\n",
       "    <tr>\n",
       "      <th>2</th>\n",
       "      <td>1.5</td>\n",
       "    </tr>\n",
       "    <tr>\n",
       "      <th>3</th>\n",
       "      <td>2.0</td>\n",
       "    </tr>\n",
       "    <tr>\n",
       "      <th>4</th>\n",
       "      <td>2.2</td>\n",
       "    </tr>\n",
       "    <tr>\n",
       "      <th>5</th>\n",
       "      <td>2.9</td>\n",
       "    </tr>\n",
       "    <tr>\n",
       "      <th>6</th>\n",
       "      <td>3.0</td>\n",
       "    </tr>\n",
       "    <tr>\n",
       "      <th>7</th>\n",
       "      <td>3.2</td>\n",
       "    </tr>\n",
       "    <tr>\n",
       "      <th>8</th>\n",
       "      <td>3.2</td>\n",
       "    </tr>\n",
       "    <tr>\n",
       "      <th>9</th>\n",
       "      <td>3.7</td>\n",
       "    </tr>\n",
       "    <tr>\n",
       "      <th>10</th>\n",
       "      <td>3.9</td>\n",
       "    </tr>\n",
       "    <tr>\n",
       "      <th>11</th>\n",
       "      <td>4.0</td>\n",
       "    </tr>\n",
       "    <tr>\n",
       "      <th>12</th>\n",
       "      <td>4.0</td>\n",
       "    </tr>\n",
       "    <tr>\n",
       "      <th>13</th>\n",
       "      <td>4.1</td>\n",
       "    </tr>\n",
       "    <tr>\n",
       "      <th>14</th>\n",
       "      <td>4.5</td>\n",
       "    </tr>\n",
       "    <tr>\n",
       "      <th>15</th>\n",
       "      <td>4.9</td>\n",
       "    </tr>\n",
       "    <tr>\n",
       "      <th>16</th>\n",
       "      <td>5.1</td>\n",
       "    </tr>\n",
       "    <tr>\n",
       "      <th>17</th>\n",
       "      <td>5.3</td>\n",
       "    </tr>\n",
       "    <tr>\n",
       "      <th>18</th>\n",
       "      <td>5.9</td>\n",
       "    </tr>\n",
       "    <tr>\n",
       "      <th>19</th>\n",
       "      <td>6.0</td>\n",
       "    </tr>\n",
       "    <tr>\n",
       "      <th>20</th>\n",
       "      <td>6.8</td>\n",
       "    </tr>\n",
       "    <tr>\n",
       "      <th>21</th>\n",
       "      <td>7.1</td>\n",
       "    </tr>\n",
       "    <tr>\n",
       "      <th>22</th>\n",
       "      <td>7.9</td>\n",
       "    </tr>\n",
       "    <tr>\n",
       "      <th>23</th>\n",
       "      <td>8.2</td>\n",
       "    </tr>\n",
       "    <tr>\n",
       "      <th>24</th>\n",
       "      <td>8.7</td>\n",
       "    </tr>\n",
       "    <tr>\n",
       "      <th>25</th>\n",
       "      <td>9.0</td>\n",
       "    </tr>\n",
       "    <tr>\n",
       "      <th>26</th>\n",
       "      <td>9.5</td>\n",
       "    </tr>\n",
       "    <tr>\n",
       "      <th>27</th>\n",
       "      <td>9.6</td>\n",
       "    </tr>\n",
       "    <tr>\n",
       "      <th>28</th>\n",
       "      <td>10.3</td>\n",
       "    </tr>\n",
       "    <tr>\n",
       "      <th>29</th>\n",
       "      <td>10.5</td>\n",
       "    </tr>\n",
       "    <tr>\n",
       "      <th>30</th>\n",
       "      <td>11.2</td>\n",
       "    </tr>\n",
       "    <tr>\n",
       "      <th>31</th>\n",
       "      <td>11.5</td>\n",
       "    </tr>\n",
       "    <tr>\n",
       "      <th>32</th>\n",
       "      <td>12.3</td>\n",
       "    </tr>\n",
       "    <tr>\n",
       "      <th>33</th>\n",
       "      <td>12.9</td>\n",
       "    </tr>\n",
       "    <tr>\n",
       "      <th>34</th>\n",
       "      <td>13.5</td>\n",
       "    </tr>\n",
       "  </tbody>\n",
       "</table>\n",
       "</div>"
      ],
      "text/plain": [
       "    YearsExperience\n",
       "0               1.1\n",
       "1               1.3\n",
       "2               1.5\n",
       "3               2.0\n",
       "4               2.2\n",
       "5               2.9\n",
       "6               3.0\n",
       "7               3.2\n",
       "8               3.2\n",
       "9               3.7\n",
       "10              3.9\n",
       "11              4.0\n",
       "12              4.0\n",
       "13              4.1\n",
       "14              4.5\n",
       "15              4.9\n",
       "16              5.1\n",
       "17              5.3\n",
       "18              5.9\n",
       "19              6.0\n",
       "20              6.8\n",
       "21              7.1\n",
       "22              7.9\n",
       "23              8.2\n",
       "24              8.7\n",
       "25              9.0\n",
       "26              9.5\n",
       "27              9.6\n",
       "28             10.3\n",
       "29             10.5\n",
       "30             11.2\n",
       "31             11.5\n",
       "32             12.3\n",
       "33             12.9\n",
       "34             13.5"
      ]
     },
     "execution_count": 19,
     "metadata": {},
     "output_type": "execute_result"
    }
   ],
   "source": [
    "X"
   ]
  },
  {
   "cell_type": "code",
   "execution_count": 20,
   "id": "04145267-7bc8-4eeb-9b47-7323c8d05969",
   "metadata": {
    "tags": []
   },
   "outputs": [
    {
     "data": {
      "text/html": [
       "<div>\n",
       "<style scoped>\n",
       "    .dataframe tbody tr th:only-of-type {\n",
       "        vertical-align: middle;\n",
       "    }\n",
       "\n",
       "    .dataframe tbody tr th {\n",
       "        vertical-align: top;\n",
       "    }\n",
       "\n",
       "    .dataframe thead th {\n",
       "        text-align: right;\n",
       "    }\n",
       "</style>\n",
       "<table border=\"1\" class=\"dataframe\">\n",
       "  <thead>\n",
       "    <tr style=\"text-align: right;\">\n",
       "      <th></th>\n",
       "      <th>Salary</th>\n",
       "    </tr>\n",
       "  </thead>\n",
       "  <tbody>\n",
       "    <tr>\n",
       "      <th>0</th>\n",
       "      <td>39343</td>\n",
       "    </tr>\n",
       "    <tr>\n",
       "      <th>1</th>\n",
       "      <td>46205</td>\n",
       "    </tr>\n",
       "    <tr>\n",
       "      <th>2</th>\n",
       "      <td>37731</td>\n",
       "    </tr>\n",
       "    <tr>\n",
       "      <th>3</th>\n",
       "      <td>43525</td>\n",
       "    </tr>\n",
       "    <tr>\n",
       "      <th>4</th>\n",
       "      <td>39891</td>\n",
       "    </tr>\n",
       "    <tr>\n",
       "      <th>5</th>\n",
       "      <td>56642</td>\n",
       "    </tr>\n",
       "    <tr>\n",
       "      <th>6</th>\n",
       "      <td>60150</td>\n",
       "    </tr>\n",
       "    <tr>\n",
       "      <th>7</th>\n",
       "      <td>54445</td>\n",
       "    </tr>\n",
       "    <tr>\n",
       "      <th>8</th>\n",
       "      <td>64445</td>\n",
       "    </tr>\n",
       "    <tr>\n",
       "      <th>9</th>\n",
       "      <td>57189</td>\n",
       "    </tr>\n",
       "    <tr>\n",
       "      <th>10</th>\n",
       "      <td>63218</td>\n",
       "    </tr>\n",
       "    <tr>\n",
       "      <th>11</th>\n",
       "      <td>55794</td>\n",
       "    </tr>\n",
       "    <tr>\n",
       "      <th>12</th>\n",
       "      <td>56957</td>\n",
       "    </tr>\n",
       "    <tr>\n",
       "      <th>13</th>\n",
       "      <td>57081</td>\n",
       "    </tr>\n",
       "    <tr>\n",
       "      <th>14</th>\n",
       "      <td>61111</td>\n",
       "    </tr>\n",
       "    <tr>\n",
       "      <th>15</th>\n",
       "      <td>67938</td>\n",
       "    </tr>\n",
       "    <tr>\n",
       "      <th>16</th>\n",
       "      <td>66029</td>\n",
       "    </tr>\n",
       "    <tr>\n",
       "      <th>17</th>\n",
       "      <td>83088</td>\n",
       "    </tr>\n",
       "    <tr>\n",
       "      <th>18</th>\n",
       "      <td>81363</td>\n",
       "    </tr>\n",
       "    <tr>\n",
       "      <th>19</th>\n",
       "      <td>93940</td>\n",
       "    </tr>\n",
       "    <tr>\n",
       "      <th>20</th>\n",
       "      <td>91738</td>\n",
       "    </tr>\n",
       "    <tr>\n",
       "      <th>21</th>\n",
       "      <td>98273</td>\n",
       "    </tr>\n",
       "    <tr>\n",
       "      <th>22</th>\n",
       "      <td>101302</td>\n",
       "    </tr>\n",
       "    <tr>\n",
       "      <th>23</th>\n",
       "      <td>113812</td>\n",
       "    </tr>\n",
       "    <tr>\n",
       "      <th>24</th>\n",
       "      <td>109431</td>\n",
       "    </tr>\n",
       "    <tr>\n",
       "      <th>25</th>\n",
       "      <td>105582</td>\n",
       "    </tr>\n",
       "    <tr>\n",
       "      <th>26</th>\n",
       "      <td>116969</td>\n",
       "    </tr>\n",
       "    <tr>\n",
       "      <th>27</th>\n",
       "      <td>112635</td>\n",
       "    </tr>\n",
       "    <tr>\n",
       "      <th>28</th>\n",
       "      <td>122391</td>\n",
       "    </tr>\n",
       "    <tr>\n",
       "      <th>29</th>\n",
       "      <td>121872</td>\n",
       "    </tr>\n",
       "    <tr>\n",
       "      <th>30</th>\n",
       "      <td>127345</td>\n",
       "    </tr>\n",
       "    <tr>\n",
       "      <th>31</th>\n",
       "      <td>126756</td>\n",
       "    </tr>\n",
       "    <tr>\n",
       "      <th>32</th>\n",
       "      <td>128765</td>\n",
       "    </tr>\n",
       "    <tr>\n",
       "      <th>33</th>\n",
       "      <td>135675</td>\n",
       "    </tr>\n",
       "    <tr>\n",
       "      <th>34</th>\n",
       "      <td>139465</td>\n",
       "    </tr>\n",
       "  </tbody>\n",
       "</table>\n",
       "</div>"
      ],
      "text/plain": [
       "    Salary\n",
       "0    39343\n",
       "1    46205\n",
       "2    37731\n",
       "3    43525\n",
       "4    39891\n",
       "5    56642\n",
       "6    60150\n",
       "7    54445\n",
       "8    64445\n",
       "9    57189\n",
       "10   63218\n",
       "11   55794\n",
       "12   56957\n",
       "13   57081\n",
       "14   61111\n",
       "15   67938\n",
       "16   66029\n",
       "17   83088\n",
       "18   81363\n",
       "19   93940\n",
       "20   91738\n",
       "21   98273\n",
       "22  101302\n",
       "23  113812\n",
       "24  109431\n",
       "25  105582\n",
       "26  116969\n",
       "27  112635\n",
       "28  122391\n",
       "29  121872\n",
       "30  127345\n",
       "31  126756\n",
       "32  128765\n",
       "33  135675\n",
       "34  139465"
      ]
     },
     "execution_count": 20,
     "metadata": {},
     "output_type": "execute_result"
    }
   ],
   "source": [
    "y"
   ]
  },
  {
   "cell_type": "code",
   "execution_count": 21,
   "id": "71cd079a-1578-4234-be4a-21ec6ed06c1f",
   "metadata": {
    "tags": []
   },
   "outputs": [
    {
     "data": {
      "text/plain": [
       "(35, 1)"
      ]
     },
     "execution_count": 21,
     "metadata": {},
     "output_type": "execute_result"
    }
   ],
   "source": [
    "X.shape"
   ]
  },
  {
   "cell_type": "code",
   "execution_count": 22,
   "id": "c6d73ee0-d79b-45f2-a642-87e092ac924f",
   "metadata": {
    "tags": []
   },
   "outputs": [
    {
     "data": {
      "text/plain": [
       "(35, 1)"
      ]
     },
     "execution_count": 22,
     "metadata": {},
     "output_type": "execute_result"
    }
   ],
   "source": [
    "y.shape"
   ]
  },
  {
   "cell_type": "code",
   "execution_count": 23,
   "id": "775af30d-1def-4dbc-9e97-c5f4107bee68",
   "metadata": {
    "tags": []
   },
   "outputs": [],
   "source": [
    "# Convert the X and y to numpy arrays\n",
    "X = np.array(X).astype('float32')\n",
    "y = np.array(y).astype('float32')"
   ]
  },
  {
   "cell_type": "code",
   "execution_count": 24,
   "id": "38050e0b-e018-4894-95df-51343c8abeff",
   "metadata": {
    "tags": []
   },
   "outputs": [
    {
     "data": {
      "text/plain": [
       "array([[ 1.1],\n",
       "       [ 1.3],\n",
       "       [ 1.5],\n",
       "       [ 2. ],\n",
       "       [ 2.2],\n",
       "       [ 2.9],\n",
       "       [ 3. ],\n",
       "       [ 3.2],\n",
       "       [ 3.2],\n",
       "       [ 3.7],\n",
       "       [ 3.9],\n",
       "       [ 4. ],\n",
       "       [ 4. ],\n",
       "       [ 4.1],\n",
       "       [ 4.5],\n",
       "       [ 4.9],\n",
       "       [ 5.1],\n",
       "       [ 5.3],\n",
       "       [ 5.9],\n",
       "       [ 6. ],\n",
       "       [ 6.8],\n",
       "       [ 7.1],\n",
       "       [ 7.9],\n",
       "       [ 8.2],\n",
       "       [ 8.7],\n",
       "       [ 9. ],\n",
       "       [ 9.5],\n",
       "       [ 9.6],\n",
       "       [10.3],\n",
       "       [10.5],\n",
       "       [11.2],\n",
       "       [11.5],\n",
       "       [12.3],\n",
       "       [12.9],\n",
       "       [13.5]], dtype=float32)"
      ]
     },
     "execution_count": 24,
     "metadata": {},
     "output_type": "execute_result"
    }
   ],
   "source": [
    "# Only take the numerical variables and scale them\n",
    "X"
   ]
  },
  {
   "cell_type": "code",
   "execution_count": 25,
   "id": "b08de6d7-b551-49e8-9c34-10e481074eda",
   "metadata": {
    "tags": []
   },
   "outputs": [],
   "source": [
    "# Split the data into test and train sets\n",
    "from sklearn.model_selection import train_test_split\n",
    "\n",
    "X_train, X_test, y_train, y_test = train_test_split(X, y, test_size = 0.2)"
   ]
  },
  {
   "cell_type": "code",
   "execution_count": 26,
   "id": "009441a4-ead7-4dfc-b960-c27c9b9e8dbc",
   "metadata": {
    "tags": []
   },
   "outputs": [
    {
     "data": {
      "text/plain": [
       "array([[12.3],\n",
       "       [ 3.2],\n",
       "       [ 3. ],\n",
       "       [11.5],\n",
       "       [ 4.5],\n",
       "       [ 3.2],\n",
       "       [ 8.2],\n",
       "       [ 1.3],\n",
       "       [11.2],\n",
       "       [ 3.9],\n",
       "       [ 4. ],\n",
       "       [ 6. ],\n",
       "       [ 9.5],\n",
       "       [ 2.2],\n",
       "       [ 1.5],\n",
       "       [ 9.6],\n",
       "       [ 4.9],\n",
       "       [ 4. ],\n",
       "       [ 7.9],\n",
       "       [10.5],\n",
       "       [ 9. ],\n",
       "       [13.5],\n",
       "       [ 2. ],\n",
       "       [ 5.1],\n",
       "       [ 4.1],\n",
       "       [ 7.1],\n",
       "       [ 5.9],\n",
       "       [ 1.1]], dtype=float32)"
      ]
     },
     "execution_count": 26,
     "metadata": {},
     "output_type": "execute_result"
    }
   ],
   "source": [
    "X_train"
   ]
  },
  {
   "cell_type": "code",
   "execution_count": 27,
   "id": "f45206c6-bed4-43d2-b084-4e8894f322db",
   "metadata": {
    "tags": []
   },
   "outputs": [
    {
     "data": {
      "text/plain": [
       "(28, 1)"
      ]
     },
     "execution_count": 27,
     "metadata": {},
     "output_type": "execute_result"
    }
   ],
   "source": [
    "X_train.shape"
   ]
  },
  {
   "cell_type": "code",
   "execution_count": 28,
   "id": "05956969-a174-43d0-b633-31644e0503a5",
   "metadata": {
    "tags": []
   },
   "outputs": [
    {
     "data": {
      "text/plain": [
       "array([[ 5.3],\n",
       "       [ 2.9],\n",
       "       [12.9],\n",
       "       [ 3.7],\n",
       "       [ 6.8],\n",
       "       [10.3],\n",
       "       [ 8.7]], dtype=float32)"
      ]
     },
     "execution_count": 28,
     "metadata": {},
     "output_type": "execute_result"
    }
   ],
   "source": [
    "X_test"
   ]
  },
  {
   "cell_type": "code",
   "execution_count": 29,
   "id": "df42accc-ea85-4ceb-8307-5159ee2f0144",
   "metadata": {
    "tags": []
   },
   "outputs": [
    {
     "data": {
      "text/plain": [
       "(7, 1)"
      ]
     },
     "execution_count": 29,
     "metadata": {},
     "output_type": "execute_result"
    }
   ],
   "source": [
    "X_test.shape"
   ]
  },
  {
   "cell_type": "markdown",
   "id": "56452241-88c9-4f45-9cde-ef91ffc4e659",
   "metadata": {},
   "source": [
    "MINI CHALLENGE\n",
    " - Try splitting the data into 75% for training and the rest for testing\n",
    " - Verify that the split was successful by obtaining the shape of both X_train and X_test\n",
    " - Did you notice any change in the order of the data? why?"
   ]
  },
  {
   "cell_type": "code",
   "execution_count": 30,
   "id": "d1e64461-8833-4892-8aab-45018151d274",
   "metadata": {
    "tags": []
   },
   "outputs": [],
   "source": [
    "X_train, X_test, y_train, y_test = train_test_split(X, y, test_size = 0.25)"
   ]
  },
  {
   "cell_type": "code",
   "execution_count": 31,
   "id": "c3444f04-efe8-4d73-afa6-7b5cf6bf0e23",
   "metadata": {
    "tags": []
   },
   "outputs": [
    {
     "data": {
      "text/plain": [
       "array([[ 2. ],\n",
       "       [11.2],\n",
       "       [ 3. ],\n",
       "       [13.5],\n",
       "       [ 4. ],\n",
       "       [ 8.2],\n",
       "       [ 3.2],\n",
       "       [12.9],\n",
       "       [ 8.7],\n",
       "       [10.5],\n",
       "       [ 4. ],\n",
       "       [ 2.2],\n",
       "       [ 5.9],\n",
       "       [ 4.5],\n",
       "       [ 7.1],\n",
       "       [ 9.6],\n",
       "       [11.5],\n",
       "       [ 1.3],\n",
       "       [ 6.8],\n",
       "       [ 6. ],\n",
       "       [ 3.9],\n",
       "       [ 2.9],\n",
       "       [ 1.1],\n",
       "       [ 3.7],\n",
       "       [ 9.5],\n",
       "       [10.3]], dtype=float32)"
      ]
     },
     "execution_count": 31,
     "metadata": {},
     "output_type": "execute_result"
    }
   ],
   "source": [
    "X_train"
   ]
  },
  {
   "cell_type": "code",
   "execution_count": 32,
   "id": "f5839ec7-56f4-4f72-99da-45146f7fe54c",
   "metadata": {
    "tags": []
   },
   "outputs": [
    {
     "data": {
      "text/plain": [
       "(26, 1)"
      ]
     },
     "execution_count": 32,
     "metadata": {},
     "output_type": "execute_result"
    }
   ],
   "source": [
    "X_train.shape"
   ]
  },
  {
   "cell_type": "code",
   "execution_count": 33,
   "id": "08b7b338-41a8-4c4c-80d4-eb3e2a9a9291",
   "metadata": {
    "tags": []
   },
   "outputs": [
    {
     "data": {
      "text/plain": [
       "array([[ 7.9],\n",
       "       [ 4.1],\n",
       "       [ 1.5],\n",
       "       [ 9. ],\n",
       "       [ 3.2],\n",
       "       [ 5.1],\n",
       "       [ 4.9],\n",
       "       [ 5.3],\n",
       "       [12.3]], dtype=float32)"
      ]
     },
     "execution_count": 33,
     "metadata": {},
     "output_type": "execute_result"
    }
   ],
   "source": [
    "X_test"
   ]
  },
  {
   "cell_type": "code",
   "execution_count": 34,
   "id": "98ca89b7-aeff-4111-b83a-6393ed1e98b9",
   "metadata": {
    "tags": []
   },
   "outputs": [
    {
     "data": {
      "text/plain": [
       "(9, 1)"
      ]
     },
     "execution_count": 34,
     "metadata": {},
     "output_type": "execute_result"
    }
   ],
   "source": [
    "X_test.shape"
   ]
  },
  {
   "cell_type": "markdown",
   "id": "5da7ed05-4600-4e01-bd68-8768fd922acc",
   "metadata": {},
   "source": [
    "### TASK #5: Train a Linear Regression Model in sk-learn (Note That Sagemaker Built-In Algorithms Are Not Used Here)"
   ]
  },
  {
   "cell_type": "code",
   "execution_count": 35,
   "id": "648fc5db-69ce-40af-a56d-a728c251a144",
   "metadata": {
    "tags": []
   },
   "outputs": [
    {
     "data": {
      "text/plain": [
       "LinearRegression()"
      ]
     },
     "execution_count": 35,
     "metadata": {},
     "output_type": "execute_result"
    }
   ],
   "source": [
    "# Using Linear Regression Model\n",
    "from sklearn.linear_model import LinearRegression\n",
    "from sklearn.metrics import mean_squared_error, accuracy_score\n",
    "\n",
    "\n",
    "regression_model_sklearn = LinearRegression(fit_intercept = True)\n",
    "regression_model_sklearn.fit(X_train, y_train)"
   ]
  },
  {
   "cell_type": "code",
   "execution_count": 36,
   "id": "75c6509c-be4e-42d0-b451-535ec8f52d0f",
   "metadata": {
    "tags": []
   },
   "outputs": [
    {
     "data": {
      "text/plain": [
       "0.9507863826558033"
      ]
     },
     "execution_count": 36,
     "metadata": {},
     "output_type": "execute_result"
    }
   ],
   "source": [
    "regression_model_sklearn_accuracy = regression_model_sklearn.score(X_test, y_test)\n",
    "regression_model_sklearn_accuracy"
   ]
  },
  {
   "cell_type": "code",
   "execution_count": 37,
   "id": "ef21872d-0cd9-4277-9190-9760fc88c1a6",
   "metadata": {
    "tags": []
   },
   "outputs": [
    {
     "name": "stdout",
     "output_type": "stream",
     "text": [
      "Linear Model Coefficient (m):  [[8706.275]]\n",
      "\n",
      "\n",
      "Linear Model Coefficient (b):  [29916.691]\n"
     ]
    }
   ],
   "source": [
    "print('Linear Model Coefficient (m): ', regression_model_sklearn.coef_)\n",
    "print('\\n')\n",
    "print('Linear Model Coefficient (b): ', regression_model_sklearn.intercept_)"
   ]
  },
  {
   "cell_type": "markdown",
   "id": "15c952e1-aeb0-4915-ab8e-81eeb4c6c5a5",
   "metadata": {},
   "source": [
    "MINI CHALLENGE\n",
    "- Retrain the model while setting the fit_intercept = False, what do you notice?"
   ]
  },
  {
   "cell_type": "code",
   "execution_count": 38,
   "id": "226564cc-27f9-4581-954c-8e88aa8652f9",
   "metadata": {
    "tags": []
   },
   "outputs": [
    {
     "data": {
      "text/plain": [
       "LinearRegression(fit_intercept=False)"
      ]
     },
     "execution_count": 38,
     "metadata": {},
     "output_type": "execute_result"
    }
   ],
   "source": [
    "regression_model_sklearn = LinearRegression(fit_intercept = False)\n",
    "regression_model_sklearn.fit(X_train, y_train)"
   ]
  },
  {
   "cell_type": "code",
   "execution_count": 39,
   "id": "c0a02cc9-1ee6-4a15-8ec9-53cb8af121b8",
   "metadata": {
    "tags": []
   },
   "outputs": [
    {
     "data": {
      "text/plain": [
       "0.7663196757494611"
      ]
     },
     "execution_count": 39,
     "metadata": {},
     "output_type": "execute_result"
    }
   ],
   "source": [
    "regression_model_sklearn_accuracy = regression_model_sklearn.score(X_test, y_test)\n",
    "regression_model_sklearn_accuracy"
   ]
  },
  {
   "cell_type": "code",
   "execution_count": 40,
   "id": "797a594c-dc54-4963-9e84-7e211e59dbb3",
   "metadata": {},
   "outputs": [
    {
     "name": "stdout",
     "output_type": "stream",
     "text": [
      "Linear Model Coefficient (m):  [[12195.791]]\n",
      "\n",
      "\n",
      "Linear Model Coefficient (b):  0.0\n"
     ]
    }
   ],
   "source": [
    "print('Linear Model Coefficient (m): ', regression_model_sklearn.coef_)\n",
    "print('\\n')\n",
    "print('Linear Model Coefficient (b): ', regression_model_sklearn.intercept_)"
   ]
  },
  {
   "cell_type": "markdown",
   "id": "96357963-cd76-4b13-bf21-9f4590d66921",
   "metadata": {},
   "source": [
    "### TASK #6: Evaluate Trained Model Performance (NOTE THAT SAGEMAKER BUILT-IN ALGORITHMS ARE NOT USED HERE)"
   ]
  },
  {
   "cell_type": "code",
   "execution_count": 41,
   "id": "7d5cb0ba-aa74-45fa-a472-772337cd002c",
   "metadata": {
    "tags": []
   },
   "outputs": [],
   "source": [
    "y_predict = regression_model_sklearn.predict(X_test)"
   ]
  },
  {
   "cell_type": "code",
   "execution_count": 42,
   "id": "9b085378-c692-41d8-b989-4dac8d17016b",
   "metadata": {
    "tags": []
   },
   "outputs": [
    {
     "data": {
      "text/plain": [
       "array([[ 96346.75 ],\n",
       "       [ 50002.742],\n",
       "       [ 18293.688],\n",
       "       [109762.12 ],\n",
       "       [ 39026.53 ],\n",
       "       [ 62198.53 ],\n",
       "       [ 59759.38 ],\n",
       "       [ 64637.695],\n",
       "       [150008.23 ]], dtype=float32)"
      ]
     },
     "execution_count": 42,
     "metadata": {},
     "output_type": "execute_result"
    }
   ],
   "source": [
    "y_predict"
   ]
  },
  {
   "cell_type": "code",
   "execution_count": 43,
   "id": "de2eb07d-013e-46a6-a62e-f056c71adf5b",
   "metadata": {
    "tags": []
   },
   "outputs": [
    {
     "data": {
      "text/plain": [
       "Text(0.5, 1.0, 'Salary VS. Years of Experience')"
      ]
     },
     "execution_count": 43,
     "metadata": {},
     "output_type": "execute_result"
    },
    {
     "data": {
      "image/png": "[encoded data removed]",
      "text/plain": [
       "<Figure size 640x480 with 1 Axes>"
      ]
     },
     "metadata": {},
     "output_type": "display_data"
    }
   ],
   "source": [
    "plt.scatter(X_train, y_train, color = 'gray')\n",
    "plt.plot(X_train, regression_model_sklearn.predict(X_train), color = 'red')\n",
    "plt.ylabel('Salary')\n",
    "plt.xlabel('Number of Years of Experience')\n",
    "plt.title('Salary VS. Years of Experience')"
   ]
  },
  {
   "cell_type": "markdown",
   "id": "196b2940-a9c8-418a-b7da-d5e5c89afbbe",
   "metadata": {},
   "source": [
    "MINI CHALLENGE\n",
    " - Use the trained model, obtain the salary corresponding to eployees who have years of experience = 5"
   ]
  },
  {
   "cell_type": "code",
   "execution_count": 44,
   "id": "ec7ab20e-38cb-40b1-ab08-f2a1aca8ccdf",
   "metadata": {
    "tags": []
   },
   "outputs": [],
   "source": [
    "num_years_exp = [[5]]"
   ]
  },
  {
   "cell_type": "code",
   "execution_count": 45,
   "id": "46dcab5f-9ce4-48b2-a40f-1497269d8f8e",
   "metadata": {
    "tags": []
   },
   "outputs": [
    {
     "data": {
      "text/plain": [
       "array([[60978.95507812]])"
      ]
     },
     "execution_count": 45,
     "metadata": {},
     "output_type": "execute_result"
    }
   ],
   "source": [
    "salary = regression_model_sklearn.predict(num_years_exp)\n",
    "salary"
   ]
  },
  {
   "cell_type": "markdown",
   "id": "73c66e6c-a22a-4430-86ca-dba3792e9a72",
   "metadata": {},
   "source": [
    "### TASK #7: Train A Linear Learner Model Using SageMaker"
   ]
  },
  {
   "cell_type": "code",
   "execution_count": 46,
   "id": "c5dba78b-da10-46a9-ac75-4024bf95b071",
   "metadata": {
    "tags": []
   },
   "outputs": [
    {
     "name": "stdout",
     "output_type": "stream",
     "text": [
      "sagemaker.config INFO - Not applying SDK defaults from location: /etc/xdg/sagemaker/config.yaml\n",
      "sagemaker.config INFO - Not applying SDK defaults from location: /root/.config/sagemaker/config.yaml\n"
     ]
    }
   ],
   "source": [
    "# Boto3 is the Amazon Web Services (AWS) Software Development Kit (SDK) for Python\n",
    "# Boto3 allows Python developer to writer software that makes use of services like Amazon S3 and Amazon EC2\n",
    "\n",
    "import sagemaker\n",
    "import boto3\n",
    "from sagemaker import Session"
   ]
  },
  {
   "cell_type": "code",
   "execution_count": 47,
   "id": "1442dd69-fe2b-41d4-832c-43ef0fe9112f",
   "metadata": {
    "tags": []
   },
   "outputs": [
    {
     "name": "stdout",
     "output_type": "stream",
     "text": [
      "sagemaker.config INFO - Not applying SDK defaults from location: /etc/xdg/sagemaker/config.yaml\n",
      "sagemaker.config INFO - Not applying SDK defaults from location: /root/.config/sagemaker/config.yaml\n"
     ]
    }
   ],
   "source": [
    "# Let's create a Sagemaker session\n",
    "sagemaker_session = sagemaker.Session()"
   ]
  },
  {
   "cell_type": "code",
   "execution_count": 48,
   "id": "f17a232b-07fc-4848-a2b6-32fe8c97276e",
   "metadata": {
    "tags": []
   },
   "outputs": [],
   "source": [
    "# Let's define the S3 bucket and prefix that we want to use in this session\n",
    "bucket = 'employee-salary-prediction-2' # bucket name\n",
    "prefix = 'linear-learner' # prefix is the subfolder within the folder. To specify this region: US East (Ohio) us-east-2\n",
    "\n",
    "# Specify the region\n",
    "region = 'us-east-2'"
   ]
  },
  {
   "cell_type": "code",
   "execution_count": 49,
   "id": "7b50c124-8a57-4401-8108-8c51bb3b098a",
   "metadata": {
    "tags": []
   },
   "outputs": [
    {
     "name": "stdout",
     "output_type": "stream",
     "text": [
      "sagemaker.config INFO - Not applying SDK defaults from location: /etc/xdg/sagemaker/config.yaml\n",
      "sagemaker.config INFO - Not applying SDK defaults from location: /root/.config/sagemaker/config.yaml\n",
      "arn:aws:iam::756970149474:role/service-role/AmazonSageMaker-ExecutionRole-20231018T143251\n"
     ]
    }
   ],
   "source": [
    "# Let's get the execution role for the notebook instance. \n",
    "# This is the IAM role that you created when you created your notebook instance. You pass the role to the training job.\n",
    "# Note that AWS Identity and Access Management (IAM) role that Amazon SageMaker can assume to perform tasks on your behalf (for example, reading training results, called model artifacts, from the S3 bucket and writing training results to Amazon S3). \n",
    "role = sagemaker.get_execution_role()\n",
    "print(role)"
   ]
  },
  {
   "cell_type": "code",
   "execution_count": 50,
   "id": "8b6c5130-ed7c-452d-ad4d-193709135348",
   "metadata": {
    "tags": []
   },
   "outputs": [
    {
     "data": {
      "text/plain": [
       "array([[ 2. ],\n",
       "       [11.2],\n",
       "       [ 3. ],\n",
       "       [13.5],\n",
       "       [ 4. ],\n",
       "       [ 8.2],\n",
       "       [ 3.2],\n",
       "       [12.9],\n",
       "       [ 8.7],\n",
       "       [10.5],\n",
       "       [ 4. ],\n",
       "       [ 2.2],\n",
       "       [ 5.9],\n",
       "       [ 4.5],\n",
       "       [ 7.1],\n",
       "       [ 9.6],\n",
       "       [11.5],\n",
       "       [ 1.3],\n",
       "       [ 6.8],\n",
       "       [ 6. ],\n",
       "       [ 3.9],\n",
       "       [ 2.9],\n",
       "       [ 1.1],\n",
       "       [ 3.7],\n",
       "       [ 9.5],\n",
       "       [10.3]], dtype=float32)"
      ]
     },
     "execution_count": 50,
     "metadata": {},
     "output_type": "execute_result"
    }
   ],
   "source": [
    "X_train"
   ]
  },
  {
   "cell_type": "code",
   "execution_count": 51,
   "id": "2707ec6f-98f7-4d89-a426-48a6d186af11",
   "metadata": {
    "tags": []
   },
   "outputs": [
    {
     "data": {
      "text/plain": [
       "array([ 43525., 127345.,  60150., 139465.,  56957., 113812.,  64445.,\n",
       "       135675., 109431., 121872.,  55794.,  39891.,  81363.,  61111.,\n",
       "        98273., 112635., 126756.,  46205.,  91738.,  93940.,  63218.,\n",
       "        56642.,  39343.,  57189., 116969., 122391.], dtype=float32)"
      ]
     },
     "execution_count": 51,
     "metadata": {},
     "output_type": "execute_result"
    }
   ],
   "source": [
    "y_train = y_train[:,0]\n",
    "y_train"
   ]
  },
  {
   "cell_type": "code",
   "execution_count": 52,
   "id": "abdf38fd-114b-4b6c-9458-61ceaf140333",
   "metadata": {
    "tags": []
   },
   "outputs": [
    {
     "data": {
      "text/plain": [
       "(26,)"
      ]
     },
     "execution_count": 52,
     "metadata": {},
     "output_type": "execute_result"
    }
   ],
   "source": [
    "y_train.shape"
   ]
  },
  {
   "cell_type": "code",
   "execution_count": 53,
   "id": "37ee45e2-a63e-4ff5-9c86-7574758e290a",
   "metadata": {
    "tags": []
   },
   "outputs": [
    {
     "data": {
      "text/plain": [
       "0"
      ]
     },
     "execution_count": 53,
     "metadata": {},
     "output_type": "execute_result"
    }
   ],
   "source": [
    "import io # The module allows for dealing with various typer of I/O (text I/O, binary I/O and raw I/O).\n",
    "import numpy as np\n",
    "import sagemaker.amazon.common as smac # Sagemaker common library\n",
    "\n",
    "# Code below converts the data in numpy array format to RecordIO format\n",
    "# This id the format required by Sagemaker Linear Learner\n",
    "buf = io.BytesIO() # Create an in-memory byte array (buf is a buffer I will be writing to)\n",
    "smac.write_numpy_to_dense_tensor(buf, X_train, y_train)\n",
    "buf.seek(0)\n",
    "# When you write to in-memory byte arrays, it increments 1 every time you write to it\n",
    "# Let's reset that back to zero"
   ]
  },
  {
   "cell_type": "code",
   "execution_count": 54,
   "id": "3427f0f5-8035-43f3-93cd-1ebae94e381d",
   "metadata": {
    "tags": []
   },
   "outputs": [
    {
     "name": "stdout",
     "output_type": "stream",
     "text": [
      "uploaded training data location: s3://employee-salary-prediction-2/linear-learner/train/linear-train-data\n"
     ]
    }
   ],
   "source": [
    "import os\n",
    "\n",
    "# Code to upload RecordIO data to S3\n",
    "\n",
    "# Key refers to the name of the file\n",
    "key = 'linear-train-data'\n",
    "\n",
    "# The following code uploads the data in reacord-io format to S3 bucket to be accessed later for training\n",
    "boto3.resource('s3').Bucket(bucket).Object(os.path.join(prefix, 'train', key)).upload_fileobj(buf)\n",
    "\n",
    "# Let's print out the training data location in S3\n",
    "s3_train_data = 's3://{}/{}/train/{}'.format(bucket, prefix, key)\n",
    "print('uploaded training data location: {}'.format(s3_train_data))"
   ]
  },
  {
   "cell_type": "code",
   "execution_count": 55,
   "id": "325dcf87-9b4e-4470-bae5-b201738515a2",
   "metadata": {
    "tags": []
   },
   "outputs": [
    {
     "data": {
      "text/plain": [
       "(9, 1)"
      ]
     },
     "execution_count": 55,
     "metadata": {},
     "output_type": "execute_result"
    }
   ],
   "source": [
    "X_test.shape"
   ]
  },
  {
   "cell_type": "code",
   "execution_count": 56,
   "id": "08531022-9253-49e5-87a6-8903bb5a529c",
   "metadata": {
    "tags": []
   },
   "outputs": [
    {
     "data": {
      "text/plain": [
       "(9, 1)"
      ]
     },
     "execution_count": 56,
     "metadata": {},
     "output_type": "execute_result"
    }
   ],
   "source": [
    "y_test.shape"
   ]
  },
  {
   "cell_type": "code",
   "execution_count": 57,
   "id": "482d442a-230b-43fc-bb5f-ac57c3ba1ff3",
   "metadata": {
    "tags": []
   },
   "outputs": [],
   "source": [
    "# Make sure that the target label is a vector\n",
    "y_test = y_test[:,0]"
   ]
  },
  {
   "cell_type": "code",
   "execution_count": 58,
   "id": "98b01ee4-dd53-4522-8b54-29b0a03d578d",
   "metadata": {
    "tags": []
   },
   "outputs": [
    {
     "data": {
      "text/plain": [
       "array([101302.,  57081.,  37731., 105582.,  54445.,  66029.,  67938.,\n",
       "        83088., 128765.], dtype=float32)"
      ]
     },
     "execution_count": 58,
     "metadata": {},
     "output_type": "execute_result"
    }
   ],
   "source": [
    "y_test"
   ]
  },
  {
   "cell_type": "code",
   "execution_count": 59,
   "id": "0a95c9a5-00b9-48d7-9d01-c24df0b95e34",
   "metadata": {
    "tags": []
   },
   "outputs": [
    {
     "data": {
      "text/plain": [
       "0"
      ]
     },
     "execution_count": 59,
     "metadata": {},
     "output_type": "execute_result"
    }
   ],
   "source": [
    "# Code to upload RecordIO data to S3\n",
    "\n",
    "buf = io.BytesIO() # Create an in-memory byte array (buf is a buffer I will be writting to)\n",
    "smac.write_numpy_to_dense_tensor(buf, X_test, y_test)\n",
    "buf.seek(0)\n",
    "# When you write to in-memory byte arrays, it increments 1 every time you write to it\n",
    "# Let's reset that back to zero "
   ]
  },
  {
   "cell_type": "code",
   "execution_count": 60,
   "id": "4465f31e-f744-469d-aebc-a6760ed82950",
   "metadata": {
    "tags": []
   },
   "outputs": [
    {
     "name": "stdout",
     "output_type": "stream",
     "text": [
      "uploaded training data location: s3://employee-salary-prediction-2/linear-learner/test/linear-test-data\n"
     ]
    }
   ],
   "source": [
    "# Key refers to the name of the file\n",
    "key = 'linear-test-data'\n",
    "\n",
    "# The following code uploads the data in record-io format to S3 bucket to be accesed later for training\n",
    "boto3.resource('s3').Bucket(bucket).Object(os.path.join(prefix, 'test', key)).upload_fileobj(buf)\n",
    "\n",
    "# Let's print out the testing data location in S3\n",
    "s3_test_data = 's3://{}/{}/test/{}'.format(bucket, prefix, key)\n",
    "print('uploaded training data location: {}'.format(s3_test_data))"
   ]
  },
  {
   "cell_type": "code",
   "execution_count": 61,
   "id": "d18a4398-17ea-44b2-ac2d-1a13e0881f5e",
   "metadata": {
    "tags": []
   },
   "outputs": [
    {
     "name": "stdout",
     "output_type": "stream",
     "text": [
      "Training artifacts will be uploaded to: s3://employee-salary-prediction-2/linear-learner/output\n"
     ]
    }
   ],
   "source": [
    "# create an output placeholder in S3 bucket to store the linear learner output\n",
    "\n",
    "output_location = 's3://{}/{}/output'.format(bucket, prefix)\n",
    "print('Training artifacts will be uploaded to: {}'.format(output_location))"
   ]
  },
  {
   "cell_type": "code",
   "execution_count": 62,
   "id": "52b1bb94-5ff8-4913-b036-f34334382ed4",
   "metadata": {
    "tags": []
   },
   "outputs": [],
   "source": [
    "# This code is used to get the training container of sagemaker built-in algorithms\n",
    "# all we have to do is to specify the name of the algorithm, that we want to use\n",
    "\n",
    "# Let's obtain a reference to the linearLearner container image\n",
    "# Note that all regression models are named estimators\n",
    "# You don't have to specify (hardcode) the region, get_image_uri will get the current region name using boto3.Session\n",
    "\n",
    "from sagemaker import image_uris\n",
    "\n",
    "container = sagemaker.image_uris.retrieve(\"linear-learner\", boto3.Session().region_name)"
   ]
  },
  {
   "cell_type": "code",
   "execution_count": 75,
   "id": "908f6ec7-b795-47f4-9d68-40f15a57442b",
   "metadata": {
    "tags": []
   },
   "outputs": [],
   "source": [
    "# We have pass in the container, the type of instance that we would like to use for training \n",
    "# output path and sagemaker session into the Estimator. \n",
    "# We can also specify how many instances we would like to use for training\n",
    "# sagemaker_session = sagemaker.Session()\n",
    "\n",
    "linear = sagemaker.estimator.Estimator(container,\n",
    "                                       role, \n",
    "                                       instance_count = 1, \n",
    "                                       instance_type = 'ml.c4.xlarge',\n",
    "                                       output_path = output_location,\n",
    "                                       sagemaker_session = sagemaker_session)\n",
    "                                       #use_spot_instances = True\n",
    "                                       #max_run = 300,\n",
    "                                       #train_max_weight = 600"
   ]
  },
  {
   "cell_type": "code",
   "execution_count": 76,
   "id": "b42e04be-a520-4ec7-aef4-c0f7738612bd",
   "metadata": {
    "tags": []
   },
   "outputs": [],
   "source": [
    "\n",
    "# We can tune parameters like the number of features that we are passing in, type of predictor like 'regressor' or 'classifier', mini batch size, epochs\n",
    "# Train 32 different versions of the model and will get the best out of them (built-in parameters optimization!)\n",
    "\n",
    "linear.set_hyperparameters(feature_dim = 1,\n",
    "                           predictor_type = 'regressor',\n",
    "                           mini_batch_size = 5,\n",
    "                           epochs = 5,\n",
    "                           num_models = 32,\n",
    "                           loss = 'absolute_loss')"
   ]
  },
  {
   "cell_type": "code",
   "execution_count": 77,
   "id": "383de8a6-8c28-48de-8e81-d78628bb0a53",
   "metadata": {},
   "outputs": [
    {
     "name": "stderr",
     "output_type": "stream",
     "text": [
      "INFO:sagemaker:Creating training-job with name: linear-learner-2023-10-19-18-32-02-160\n"
     ]
    },
    {
     "name": "stdout",
     "output_type": "stream",
     "text": [
      "2023-10-19 18:32:02 Starting - Starting the training job...\n",
      "2023-10-19 18:32:19 Starting - Preparing the instances for training......\n",
      "2023-10-19 18:33:31 Downloading - Downloading input data...\n",
      "2023-10-19 18:34:01 Training - Downloading the training image.........\n",
      "2023-10-19 18:35:27 Uploading - Uploading generated training model\u001b[34mDocker entrypoint called with argument(s): train\u001b[0m\n",
      "\u001b[34mRunning default environment configuration script\u001b[0m\n",
      "\u001b[34m[10/19/2023 18:35:23 INFO 140362276591424] Reading default configuration from /opt/amazon/lib/python3.8/site-packages/algorithm/resources/default-input.json: {'mini_batch_size': '1000', 'epochs': '15', 'feature_dim': 'auto', 'use_bias': 'true', 'binary_classifier_model_selection_criteria': 'accuracy', 'f_beta': '1.0', 'target_recall': '0.8', 'target_precision': '0.8', 'num_models': 'auto', 'num_calibration_samples': '10000000', 'init_method': 'uniform', 'init_scale': '0.07', 'init_sigma': '0.01', 'init_bias': '0.0', 'optimizer': 'auto', 'loss': 'auto', 'margin': '1.0', 'quantile': '0.5', 'loss_insensitivity': '0.01', 'huber_delta': '1.0', 'num_classes': '1', 'accuracy_top_k': '3', 'wd': 'auto', 'l1': 'auto', 'momentum': 'auto', 'learning_rate': 'auto', 'beta_1': 'auto', 'beta_2': 'auto', 'bias_lr_mult': 'auto', 'bias_wd_mult': 'auto', 'use_lr_scheduler': 'true', 'lr_scheduler_step': 'auto', 'lr_scheduler_factor': 'auto', 'lr_scheduler_minimum_lr': 'auto', 'positive_example_weight_mult': '1.0', 'balance_multiclass_weights': 'false', 'normalize_data': 'true', 'normalize_label': 'auto', 'unbias_data': 'auto', 'unbias_label': 'auto', 'num_point_for_scaler': '10000', '_kvstore': 'auto', '_num_gpus': 'auto', '_num_kv_servers': 'auto', '_log_level': 'info', '_tuning_objective_metric': '', 'early_stopping_patience': '3', 'early_stopping_tolerance': '0.001', '_enable_profiler': 'false'}\u001b[0m\n",
      "\u001b[34m[10/19/2023 18:35:23 INFO 140362276591424] Merging with provided configuration from /opt/ml/input/config/hyperparameters.json: {'epochs': '5', 'feature_dim': '1', 'loss': 'absolute_loss', 'mini_batch_size': '5', 'num_models': '32', 'predictor_type': 'regressor'}\u001b[0m\n",
      "\u001b[34m[10/19/2023 18:35:23 INFO 140362276591424] Final configuration: {'mini_batch_size': '5', 'epochs': '5', 'feature_dim': '1', 'use_bias': 'true', 'binary_classifier_model_selection_criteria': 'accuracy', 'f_beta': '1.0', 'target_recall': '0.8', 'target_precision': '0.8', 'num_models': '32', 'num_calibration_samples': '10000000', 'init_method': 'uniform', 'init_scale': '0.07', 'init_sigma': '0.01', 'init_bias': '0.0', 'optimizer': 'auto', 'loss': 'absolute_loss', 'margin': '1.0', 'quantile': '0.5', 'loss_insensitivity': '0.01', 'huber_delta': '1.0', 'num_classes': '1', 'accuracy_top_k': '3', 'wd': 'auto', 'l1': 'auto', 'momentum': 'auto', 'learning_rate': 'auto', 'beta_1': 'auto', 'beta_2': 'auto', 'bias_lr_mult': 'auto', 'bias_wd_mult': 'auto', 'use_lr_scheduler': 'true', 'lr_scheduler_step': 'auto', 'lr_scheduler_factor': 'auto', 'lr_scheduler_minimum_lr': 'auto', 'positive_example_weight_mult': '1.0', 'balance_multiclass_weights': 'false', 'normalize_data': 'true', 'normalize_label': 'auto', 'unbias_data': 'auto', 'unbias_label': 'auto', 'num_point_for_scaler': '10000', '_kvstore': 'auto', '_num_gpus': 'auto', '_num_kv_servers': 'auto', '_log_level': 'info', '_tuning_objective_metric': '', 'early_stopping_patience': '3', 'early_stopping_tolerance': '0.001', '_enable_profiler': 'false', 'predictor_type': 'regressor'}\u001b[0m\n",
      "\u001b[34m/opt/amazon/lib/python3.8/site-packages/mxnet/model.py:97: SyntaxWarning: \"is\" with a literal. Did you mean \"==\"?\n",
      "  if num_device is 1 and 'dist' not in kvstore:\u001b[0m\n",
      "\u001b[34m/opt/amazon/lib/python3.8/site-packages/scipy/optimize/_shgo.py:495: SyntaxWarning: \"is\" with a literal. Did you mean \"==\"?\n",
      "  if cons['type'] is 'ineq':\u001b[0m\n",
      "\u001b[34m/opt/amazon/lib/python3.8/site-packages/scipy/optimize/_shgo.py:743: SyntaxWarning: \"is not\" with a literal. Did you mean \"!=\"?\n",
      "  if len(self.X_min) is not 0:\u001b[0m\n",
      "\u001b[34m[10/19/2023 18:35:26 WARNING 140362276591424] Loggers have already been setup.\u001b[0m\n",
      "\u001b[34m[10/19/2023 18:35:26 INFO 140362276591424] Final configuration: {'mini_batch_size': '5', 'epochs': '5', 'feature_dim': '1', 'use_bias': 'true', 'binary_classifier_model_selection_criteria': 'accuracy', 'f_beta': '1.0', 'target_recall': '0.8', 'target_precision': '0.8', 'num_models': '32', 'num_calibration_samples': '10000000', 'init_method': 'uniform', 'init_scale': '0.07', 'init_sigma': '0.01', 'init_bias': '0.0', 'optimizer': 'auto', 'loss': 'absolute_loss', 'margin': '1.0', 'quantile': '0.5', 'loss_insensitivity': '0.01', 'huber_delta': '1.0', 'num_classes': '1', 'accuracy_top_k': '3', 'wd': 'auto', 'l1': 'auto', 'momentum': 'auto', 'learning_rate': 'auto', 'beta_1': 'auto', 'beta_2': 'auto', 'bias_lr_mult': 'auto', 'bias_wd_mult': 'auto', 'use_lr_scheduler': 'true', 'lr_scheduler_step': 'auto', 'lr_scheduler_factor': 'auto', 'lr_scheduler_minimum_lr': 'auto', 'positive_example_weight_mult': '1.0', 'balance_multiclass_weights': 'false', 'normalize_data': 'true', 'normalize_label': 'auto', 'unbias_data': 'auto', 'unbias_label': 'auto', 'num_point_for_scaler': '10000', '_kvstore': 'auto', '_num_gpus': 'auto', '_num_kv_servers': 'auto', '_log_level': 'info', '_tuning_objective_metric': '', 'early_stopping_patience': '3', 'early_stopping_tolerance': '0.001', '_enable_profiler': 'false', 'predictor_type': 'regressor'}\u001b[0m\n",
      "\u001b[34m[10/19/2023 18:35:26 WARNING 140362276591424] Loggers have already been setup.\u001b[0m\n",
      "\u001b[34mProcess 7 is a worker.\u001b[0m\n",
      "\u001b[34m[10/19/2023 18:35:26 INFO 140362276591424] Using default worker.\u001b[0m\n",
      "\u001b[34m[10/19/2023 18:35:26 INFO 140362276591424] Checkpoint loading and saving are disabled.\u001b[0m\n",
      "\u001b[34m[2023-10-19 18:35:26.251] [tensorio] [info] epoch_stats={\"data_pipeline\": \"/opt/ml/input/data/train\", \"epoch\": 0, \"duration\": 12, \"num_examples\": 1, \"num_bytes\": 240}\u001b[0m\n",
      "\u001b[34m[10/19/2023 18:35:26 INFO 140362276591424] Create Store: local\u001b[0m\n",
      "\u001b[34m[2023-10-19 18:35:26.292] [tensorio] [info] epoch_stats={\"data_pipeline\": \"/opt/ml/input/data/train\", \"epoch\": 1, \"duration\": 40, \"num_examples\": 6, \"num_bytes\": 1248}\u001b[0m\n",
      "\u001b[34m[10/19/2023 18:35:26 INFO 140362276591424] Scaler algorithm parameters\n",
      " <algorithm.scaler.ScalerAlgorithmStable object at 0x7fa812b7e520>\u001b[0m\n",
      "\u001b[34m[10/19/2023 18:35:26 INFO 140362276591424] Scaling model computed with parameters:\n",
      " {'stdev_label': \u001b[0m\n",
      "\u001b[34m[32618.877]\u001b[0m\n",
      "\u001b[34m<NDArray 1 @cpu(0)>, 'stdev_weight': \u001b[0m\n",
      "\u001b[34m[3.695762]\u001b[0m\n",
      "\u001b[34m<NDArray 1 @cpu(0)>, 'mean_label': \u001b[0m\n",
      "\u001b[34m[84549.766]\u001b[0m\n",
      "\u001b[34m<NDArray 1 @cpu(0)>, 'mean_weight': \u001b[0m\n",
      "\u001b[34m[6.288]\u001b[0m\n",
      "\u001b[34m<NDArray 1 @cpu(0)>}\u001b[0m\n",
      "\u001b[34m/opt/amazon/python3.8/lib/python3.8/subprocess.py:848: RuntimeWarning: line buffering (buffering=1) isn't supported in binary mode, the default buffer size will be used\n",
      "  self.stdout = io.open(c2pread, 'rb', bufsize)\u001b[0m\n",
      "\u001b[34m[10/19/2023 18:35:26 INFO 140362276591424] nvidia-smi: took 0.033 seconds to run.\u001b[0m\n",
      "\u001b[34m[10/19/2023 18:35:26 INFO 140362276591424] nvidia-smi identified 0 GPUs.\u001b[0m\n",
      "\u001b[34m[10/19/2023 18:35:26 INFO 140362276591424] Number of GPUs being used: 0\u001b[0m\n",
      "\u001b[34m#metrics {\"StartTime\": 1697740526.398109, \"EndTime\": 1697740526.3981452, \"Dimensions\": {\"Algorithm\": \"Linear Learner\", \"Host\": \"algo-1\", \"Operation\": \"training\", \"Meta\": \"init_train_data_iter\"}, \"Metrics\": {\"Total Records Seen\": {\"sum\": 31.0, \"count\": 1, \"min\": 31, \"max\": 31}, \"Total Batches Seen\": {\"sum\": 7.0, \"count\": 1, \"min\": 7, \"max\": 7}, \"Max Records Seen Between Resets\": {\"sum\": 26.0, \"count\": 1, \"min\": 26, \"max\": 26}, \"Max Batches Seen Between Resets\": {\"sum\": 6.0, \"count\": 1, \"min\": 6, \"max\": 6}, \"Reset Count\": {\"sum\": 2.0, \"count\": 1, \"min\": 2, \"max\": 2}, \"Number of Records Since Last Reset\": {\"sum\": 0.0, \"count\": 1, \"min\": 0, \"max\": 0}, \"Number of Batches Since Last Reset\": {\"sum\": 0.0, \"count\": 1, \"min\": 0, \"max\": 0}}}\u001b[0m\n",
      "\u001b[34m[2023-10-19 18:35:26.517] [tensorio] [info] epoch_stats={\"data_pipeline\": \"/opt/ml/input/data/train\", \"epoch\": 4, \"duration\": 118, \"num_examples\": 6, \"num_bytes\": 1248}\u001b[0m\n",
      "\u001b[34m#metrics {\"StartTime\": 1697740526.5175242, \"EndTime\": 1697740526.5176287, \"Dimensions\": {\"Algorithm\": \"Linear Learner\", \"Host\": \"algo-1\", \"Operation\": \"training\", \"epoch\": 0, \"model\": 0}, \"Metrics\": {\"train_absolute_loss_objective\": {\"sum\": 0.9062810134887695, \"count\": 1, \"min\": 0.9062810134887695, \"max\": 0.9062810134887695}}}\u001b[0m\n",
      "\u001b[34m#metrics {\"StartTime\": 1697740526.5177178, \"EndTime\": 1697740526.5177572, \"Dimensions\": {\"Algorithm\": \"Linear Learner\", \"Host\": \"algo-1\", \"Operation\": \"training\", \"epoch\": 0, \"model\": 1}, \"Metrics\": {\"train_absolute_loss_objective\": {\"sum\": 0.9262353515625, \"count\": 1, \"min\": 0.9262353515625, \"max\": 0.9262353515625}}}\u001b[0m\n",
      "\u001b[34m#metrics {\"StartTime\": 1697740526.5178232, \"EndTime\": 1697740526.5178432, \"Dimensions\": {\"Algorithm\": \"Linear Learner\", \"Host\": \"algo-1\", \"Operation\": \"training\", \"epoch\": 0, \"model\": 2}, \"Metrics\": {\"train_absolute_loss_objective\": {\"sum\": 0.9086982154846192, \"count\": 1, \"min\": 0.9086982154846192, \"max\": 0.9086982154846192}}}\u001b[0m\n",
      "\u001b[34m#metrics {\"StartTime\": 1697740526.5179083, \"EndTime\": 1697740526.5179257, \"Dimensions\": {\"Algorithm\": \"Linear Learner\", \"Host\": \"algo-1\", \"Operation\": \"training\", \"epoch\": 0, \"model\": 3}, \"Metrics\": {\"train_absolute_loss_objective\": {\"sum\": 0.92521559715271, \"count\": 1, \"min\": 0.92521559715271, \"max\": 0.92521559715271}}}\u001b[0m\n",
      "\u001b[34m#metrics {\"StartTime\": 1697740526.5179749, \"EndTime\": 1697740526.51799, \"Dimensions\": {\"Algorithm\": \"Linear Learner\", \"Host\": \"algo-1\", \"Operation\": \"training\", \"epoch\": 0, \"model\": 4}, \"Metrics\": {\"train_absolute_loss_objective\": {\"sum\": 0.9165550518035889, \"count\": 1, \"min\": 0.9165550518035889, \"max\": 0.9165550518035889}}}\u001b[0m\n",
      "\u001b[34m#metrics {\"StartTime\": 1697740526.5180385, \"EndTime\": 1697740526.5180547, \"Dimensions\": {\"Algorithm\": \"Linear Learner\", \"Host\": \"algo-1\", \"Operation\": \"training\", \"epoch\": 0, \"model\": 5}, \"Metrics\": {\"train_absolute_loss_objective\": {\"sum\": 0.9264753150939942, \"count\": 1, \"min\": 0.9264753150939942, \"max\": 0.9264753150939942}}}\u001b[0m\n",
      "\u001b[34m#metrics {\"StartTime\": 1697740526.5181127, \"EndTime\": 1697740526.5181296, \"Dimensions\": {\"Algorithm\": \"Linear Learner\", \"Host\": \"algo-1\", \"Operation\": \"training\", \"epoch\": 0, \"model\": 6}, \"Metrics\": {\"train_absolute_loss_objective\": {\"sum\": 1.0112566566467285, \"count\": 1, \"min\": 1.0112566566467285, \"max\": 1.0112566566467285}}}\u001b[0m\n",
      "\u001b[34m#metrics {\"StartTime\": 1697740526.5181882, \"EndTime\": 1697740526.518205, \"Dimensions\": {\"Algorithm\": \"Linear Learner\", \"Host\": \"algo-1\", \"Operation\": \"training\", \"epoch\": 0, \"model\": 7}, \"Metrics\": {\"train_absolute_loss_objective\": {\"sum\": 0.9817388629913331, \"count\": 1, \"min\": 0.9817388629913331, \"max\": 0.9817388629913331}}}\u001b[0m\n",
      "\u001b[34m#metrics {\"StartTime\": 1697740526.5182538, \"EndTime\": 1697740526.5182695, \"Dimensions\": {\"Algorithm\": \"Linear Learner\", \"Host\": \"algo-1\", \"Operation\": \"training\", \"epoch\": 0, \"model\": 8}, \"Metrics\": {\"train_absolute_loss_objective\": {\"sum\": 0.9623077392578125, \"count\": 1, \"min\": 0.9623077392578125, \"max\": 0.9623077392578125}}}\u001b[0m\n",
      "\u001b[34m#metrics {\"StartTime\": 1697740526.5183268, \"EndTime\": 1697740526.5183432, \"Dimensions\": {\"Algorithm\": \"Linear Learner\", \"Host\": \"algo-1\", \"Operation\": \"training\", \"epoch\": 0, \"model\": 9}, \"Metrics\": {\"train_absolute_loss_objective\": {\"sum\": 0.8942236709594726, \"count\": 1, \"min\": 0.8942236709594726, \"max\": 0.8942236709594726}}}\u001b[0m\n",
      "\u001b[34m#metrics {\"StartTime\": 1697740526.5183928, \"EndTime\": 1697740526.518409, \"Dimensions\": {\"Algorithm\": \"Linear Learner\", \"Host\": \"algo-1\", \"Operation\": \"training\", \"epoch\": 0, \"model\": 10}, \"Metrics\": {\"train_absolute_loss_objective\": {\"sum\": 0.9009377956390381, \"count\": 1, \"min\": 0.9009377956390381, \"max\": 0.9009377956390381}}}\u001b[0m\n",
      "\u001b[34m#metrics {\"StartTime\": 1697740526.518461, \"EndTime\": 1697740526.5184765, \"Dimensions\": {\"Algorithm\": \"Linear Learner\", \"Host\": \"algo-1\", \"Operation\": \"training\", \"epoch\": 0, \"model\": 11}, \"Metrics\": {\"train_absolute_loss_objective\": {\"sum\": 0.8860909271240235, \"count\": 1, \"min\": 0.8860909271240235, \"max\": 0.8860909271240235}}}\u001b[0m\n",
      "\u001b[34m#metrics {\"StartTime\": 1697740526.5185368, \"EndTime\": 1697740526.5185533, \"Dimensions\": {\"Algorithm\": \"Linear Learner\", \"Host\": \"algo-1\", \"Operation\": \"training\", \"epoch\": 0, \"model\": 12}, \"Metrics\": {\"train_absolute_loss_objective\": {\"sum\": 0.9256144618988037, \"count\": 1, \"min\": 0.9256144618988037, \"max\": 0.9256144618988037}}}\u001b[0m\n",
      "\u001b[34m#metrics {\"StartTime\": 1697740526.5186102, \"EndTime\": 1697740526.5186255, \"Dimensions\": {\"Algorithm\": \"Linear Learner\", \"Host\": \"algo-1\", \"Operation\": \"training\", \"epoch\": 0, \"model\": 13}, \"Metrics\": {\"train_absolute_loss_objective\": {\"sum\": 0.9523729515075684, \"count\": 1, \"min\": 0.9523729515075684, \"max\": 0.9523729515075684}}}\u001b[0m\n",
      "\u001b[34m#metrics {\"StartTime\": 1697740526.518674, \"EndTime\": 1697740526.5186899, \"Dimensions\": {\"Algorithm\": \"Linear Learner\", \"Host\": \"algo-1\", \"Operation\": \"training\", \"epoch\": 0, \"model\": 14}, \"Metrics\": {\"train_absolute_loss_objective\": {\"sum\": 0.9240987586975098, \"count\": 1, \"min\": 0.9240987586975098, \"max\": 0.9240987586975098}}}\u001b[0m\n",
      "\u001b[34m#metrics {\"StartTime\": 1697740526.5187438, \"EndTime\": 1697740526.5187602, \"Dimensions\": {\"Algorithm\": \"Linear Learner\", \"Host\": \"algo-1\", \"Operation\": \"training\", \"epoch\": 0, \"model\": 15}, \"Metrics\": {\"train_absolute_loss_objective\": {\"sum\": 0.9587861251831055, \"count\": 1, \"min\": 0.9587861251831055, \"max\": 0.9587861251831055}}}\u001b[0m\n",
      "\u001b[34m#metrics {\"StartTime\": 1697740526.5188181, \"EndTime\": 1697740526.5188344, \"Dimensions\": {\"Algorithm\": \"Linear Learner\", \"Host\": \"algo-1\", \"Operation\": \"training\", \"epoch\": 0, \"model\": 16}, \"Metrics\": {\"train_absolute_loss_objective\": {\"sum\": 0.8700901794433594, \"count\": 1, \"min\": 0.8700901794433594, \"max\": 0.8700901794433594}}}\u001b[0m\n",
      "\u001b[34m#metrics {\"StartTime\": 1697740526.518892, \"EndTime\": 1697740526.5189087, \"Dimensions\": {\"Algorithm\": \"Linear Learner\", \"Host\": \"algo-1\", \"Operation\": \"training\", \"epoch\": 0, \"model\": 17}, \"Metrics\": {\"train_absolute_loss_objective\": {\"sum\": 0.9214727592468261, \"count\": 1, \"min\": 0.9214727592468261, \"max\": 0.9214727592468261}}}\u001b[0m\n",
      "\u001b[34m#metrics {\"StartTime\": 1697740526.518958, \"EndTime\": 1697740526.5189734, \"Dimensions\": {\"Algorithm\": \"Linear Learner\", \"Host\": \"algo-1\", \"Operation\": \"training\", \"epoch\": 0, \"model\": 18}, \"Metrics\": {\"train_absolute_loss_objective\": {\"sum\": 0.8972232151031494, \"count\": 1, \"min\": 0.8972232151031494, \"max\": 0.8972232151031494}}}\u001b[0m\n",
      "\u001b[34m#metrics {\"StartTime\": 1697740526.519032, \"EndTime\": 1697740526.5190482, \"Dimensions\": {\"Algorithm\": \"Linear Learner\", \"Host\": \"algo-1\", \"Operation\": \"training\", \"epoch\": 0, \"model\": 19}, \"Metrics\": {\"train_absolute_loss_objective\": {\"sum\": 0.8945145225524902, \"count\": 1, \"min\": 0.8945145225524902, \"max\": 0.8945145225524902}}}\u001b[0m\n",
      "\u001b[34m#metrics {\"StartTime\": 1697740526.5191069, \"EndTime\": 1697740526.5191228, \"Dimensions\": {\"Algorithm\": \"Linear Learner\", \"Host\": \"algo-1\", \"Operation\": \"training\", \"epoch\": 0, \"model\": 20}, \"Metrics\": {\"train_absolute_loss_objective\": {\"sum\": 0.9754146099090576, \"count\": 1, \"min\": 0.9754146099090576, \"max\": 0.9754146099090576}}}\u001b[0m\n",
      "\u001b[34m#metrics {\"StartTime\": 1697740526.5191762, \"EndTime\": 1697740526.519192, \"Dimensions\": {\"Algorithm\": \"Linear Learner\", \"Host\": \"algo-1\", \"Operation\": \"training\", \"epoch\": 0, \"model\": 21}, \"Metrics\": {\"train_absolute_loss_objective\": {\"sum\": 0.9904775238037109, \"count\": 1, \"min\": 0.9904775238037109, \"max\": 0.9904775238037109}}}\u001b[0m\n",
      "\u001b[34m#metrics {\"StartTime\": 1697740526.5192442, \"EndTime\": 1697740526.5192597, \"Dimensions\": {\"Algorithm\": \"Linear Learner\", \"Host\": \"algo-1\", \"Operation\": \"training\", \"epoch\": 0, \"model\": 22}, \"Metrics\": {\"train_absolute_loss_objective\": {\"sum\": 0.9267751884460449, \"count\": 1, \"min\": 0.9267751884460449, \"max\": 0.9267751884460449}}}\u001b[0m\n",
      "\u001b[34m#metrics {\"StartTime\": 1697740526.519317, \"EndTime\": 1697740526.5193336, \"Dimensions\": {\"Algorithm\": \"Linear Learner\", \"Host\": \"algo-1\", \"Operation\": \"training\", \"epoch\": 0, \"model\": 23}, \"Metrics\": {\"train_absolute_loss_objective\": {\"sum\": 1.0164391708374023, \"count\": 1, \"min\": 1.0164391708374023, \"max\": 1.0164391708374023}}}\u001b[0m\n",
      "\u001b[34m#metrics {\"StartTime\": 1697740526.5193846, \"EndTime\": 1697740526.5193994, \"Dimensions\": {\"Algorithm\": \"Linear Learner\", \"Host\": \"algo-1\", \"Operation\": \"training\", \"epoch\": 0, \"model\": 24}, \"Metrics\": {\"train_absolute_loss_objective\": {\"sum\": 0.8714352512359619, \"count\": 1, \"min\": 0.8714352512359619, \"max\": 0.8714352512359619}}}\u001b[0m\n",
      "\u001b[34m#metrics {\"StartTime\": 1697740526.5194566, \"EndTime\": 1697740526.519472, \"Dimensions\": {\"Algorithm\": \"Linear Learner\", \"Host\": \"algo-1\", \"Operation\": \"training\", \"epoch\": 0, \"model\": 25}, \"Metrics\": {\"train_absolute_loss_objective\": {\"sum\": 0.939713077545166, \"count\": 1, \"min\": 0.939713077545166, \"max\": 0.939713077545166}}}\u001b[0m\n",
      "\u001b[34m#metrics {\"StartTime\": 1697740526.519528, \"EndTime\": 1697740526.5195441, \"Dimensions\": {\"Algorithm\": \"Linear Learner\", \"Host\": \"algo-1\", \"Operation\": \"training\", \"epoch\": 0, \"model\": 26}, \"Metrics\": {\"train_absolute_loss_objective\": {\"sum\": 0.9264332008361816, \"count\": 1, \"min\": 0.9264332008361816, \"max\": 0.9264332008361816}}}\u001b[0m\n",
      "\u001b[34m#metrics {\"StartTime\": 1697740526.5195982, \"EndTime\": 1697740526.5196147, \"Dimensions\": {\"Algorithm\": \"Linear Learner\", \"Host\": \"algo-1\", \"Operation\": \"training\", \"epoch\": 0, \"model\": 27}, \"Metrics\": {\"train_absolute_loss_objective\": {\"sum\": 0.9158798027038574, \"count\": 1, \"min\": 0.9158798027038574, \"max\": 0.9158798027038574}}}\u001b[0m\n",
      "\u001b[34m#metrics {\"StartTime\": 1697740526.5196683, \"EndTime\": 1697740526.5196846, \"Dimensions\": {\"Algorithm\": \"Linear Learner\", \"Host\": \"algo-1\", \"Operation\": \"training\", \"epoch\": 0, \"model\": 28}, \"Metrics\": {\"train_absolute_loss_objective\": {\"sum\": 1.0909219360351563, \"count\": 1, \"min\": 1.0909219360351563, \"max\": 1.0909219360351563}}}\u001b[0m\n",
      "\u001b[34m#metrics {\"StartTime\": 1697740526.5197449, \"EndTime\": 1697740526.5197616, \"Dimensions\": {\"Algorithm\": \"Linear Learner\", \"Host\": \"algo-1\", \"Operation\": \"training\", \"epoch\": 0, \"model\": 29}, \"Metrics\": {\"train_absolute_loss_objective\": {\"sum\": 1.0911077022552491, \"count\": 1, \"min\": 1.0911077022552491, \"max\": 1.0911077022552491}}}\u001b[0m\n",
      "\u001b[34m#metrics {\"StartTime\": 1697740526.519815, \"EndTime\": 1697740526.5198307, \"Dimensions\": {\"Algorithm\": \"Linear Learner\", \"Host\": \"algo-1\", \"Operation\": \"training\", \"epoch\": 0, \"model\": 30}, \"Metrics\": {\"train_absolute_loss_objective\": {\"sum\": 1.1057258605957032, \"count\": 1, \"min\": 1.1057258605957032, \"max\": 1.1057258605957032}}}\u001b[0m\n",
      "\u001b[34m#metrics {\"StartTime\": 1697740526.5198889, \"EndTime\": 1697740526.5199082, \"Dimensions\": {\"Algorithm\": \"Linear Learner\", \"Host\": \"algo-1\", \"Operation\": \"training\", \"epoch\": 0, \"model\": 31}, \"Metrics\": {\"train_absolute_loss_objective\": {\"sum\": 1.103456974029541, \"count\": 1, \"min\": 1.103456974029541, \"max\": 1.103456974029541}}}\u001b[0m\n",
      "\u001b[34m[10/19/2023 18:35:26 INFO 140362276591424] #quality_metric: host=algo-1, epoch=0, train absolute_loss_objective <loss>=0.9062810134887695\u001b[0m\n",
      "\u001b[34m[10/19/2023 18:35:26 INFO 140362276591424] #early_stopping_criteria_metric: host=algo-1, epoch=0, criteria=absolute_loss_objective, value=0.8700901794433594\u001b[0m\n",
      "\u001b[34m[10/19/2023 18:35:26 INFO 140362276591424] Epoch 0: Loss improved. Updating best model\u001b[0m\n",
      "\u001b[34m[10/19/2023 18:35:26 INFO 140362276591424] Saving model for epoch: 0\u001b[0m\n",
      "\u001b[34m[10/19/2023 18:35:26 INFO 140362276591424] Saved checkpoint to \"/tmp/tmp955k34ci/mx-mod-0000.params\"\u001b[0m\n",
      "\u001b[34m[10/19/2023 18:35:26 INFO 140362276591424] #progress_metric: host=algo-1, completed 20.0 % of epochs\u001b[0m\n",
      "\u001b[34m#metrics {\"StartTime\": 1697740526.398404, \"EndTime\": 1697740526.5304766, \"Dimensions\": {\"Algorithm\": \"Linear Learner\", \"Host\": \"algo-1\", \"Operation\": \"training\", \"epoch\": 0, \"Meta\": \"training_data_iter\"}, \"Metrics\": {\"Total Records Seen\": {\"sum\": 57.0, \"count\": 1, \"min\": 57, \"max\": 57}, \"Total Batches Seen\": {\"sum\": 13.0, \"count\": 1, \"min\": 13, \"max\": 13}, \"Max Records Seen Between Resets\": {\"sum\": 26.0, \"count\": 1, \"min\": 26, \"max\": 26}, \"Max Batches Seen Between Resets\": {\"sum\": 6.0, \"count\": 1, \"min\": 6, \"max\": 6}, \"Reset Count\": {\"sum\": 3.0, \"count\": 1, \"min\": 3, \"max\": 3}, \"Number of Records Since Last Reset\": {\"sum\": 26.0, \"count\": 1, \"min\": 26, \"max\": 26}, \"Number of Batches Since Last Reset\": {\"sum\": 6.0, \"count\": 1, \"min\": 6, \"max\": 6}}}\u001b[0m\n",
      "\u001b[34m[10/19/2023 18:35:26 INFO 140362276591424] #throughput_metric: host=algo-1, train throughput=196.67631665326056 records/second\u001b[0m\n",
      "\u001b[34m[2023-10-19 18:35:26.639] [tensorio] [info] epoch_stats={\"data_pipeline\": \"/opt/ml/input/data/train\", \"epoch\": 6, \"duration\": 108, \"num_examples\": 6, \"num_bytes\": 1248}\u001b[0m\n",
      "\u001b[34m#metrics {\"StartTime\": 1697740526.6391845, \"EndTime\": 1697740526.6392543, \"Dimensions\": {\"Algorithm\": \"Linear Learner\", \"Host\": \"algo-1\", \"Operation\": \"training\", \"epoch\": 1, \"model\": 0}, \"Metrics\": {\"train_absolute_loss_objective\": {\"sum\": 0.8811155891418457, \"count\": 1, \"min\": 0.8811155891418457, \"max\": 0.8811155891418457}}}\u001b[0m\n",
      "\u001b[34m#metrics {\"StartTime\": 1697740526.639328, \"EndTime\": 1697740526.6393476, \"Dimensions\": {\"Algorithm\": \"Linear Learner\", \"Host\": \"algo-1\", \"Operation\": \"training\", \"epoch\": 1, \"model\": 1}, \"Metrics\": {\"train_absolute_loss_objective\": {\"sum\": 0.9010699081420899, \"count\": 1, \"min\": 0.9010699081420899, \"max\": 0.9010699081420899}}}\u001b[0m\n",
      "\u001b[34m#metrics {\"StartTime\": 1697740526.6394124, \"EndTime\": 1697740526.6394303, \"Dimensions\": {\"Algorithm\": \"Linear Learner\", \"Host\": \"algo-1\", \"Operation\": \"training\", \"epoch\": 1, \"model\": 2}, \"Metrics\": {\"train_absolute_loss_objective\": {\"sum\": 0.8835327625274658, \"count\": 1, \"min\": 0.8835327625274658, \"max\": 0.8835327625274658}}}\u001b[0m\n",
      "\u001b[34m#metrics {\"StartTime\": 1697740526.6394947, \"EndTime\": 1697740526.6395125, \"Dimensions\": {\"Algorithm\": \"Linear Learner\", \"Host\": \"algo-1\", \"Operation\": \"training\", \"epoch\": 1, \"model\": 3}, \"Metrics\": {\"train_absolute_loss_objective\": {\"sum\": 0.9000501728057861, \"count\": 1, \"min\": 0.9000501728057861, \"max\": 0.9000501728057861}}}\u001b[0m\n",
      "\u001b[34m#metrics {\"StartTime\": 1697740526.6395724, \"EndTime\": 1697740526.6395893, \"Dimensions\": {\"Algorithm\": \"Linear Learner\", \"Host\": \"algo-1\", \"Operation\": \"training\", \"epoch\": 1, \"model\": 4}, \"Metrics\": {\"train_absolute_loss_objective\": {\"sum\": 0.3573132348060608, \"count\": 1, \"min\": 0.3573132348060608, \"max\": 0.3573132348060608}}}\u001b[0m\n",
      "\u001b[34m#metrics {\"StartTime\": 1697740526.6396399, \"EndTime\": 1697740526.6396563, \"Dimensions\": {\"Algorithm\": \"Linear Learner\", \"Host\": \"algo-1\", \"Operation\": \"training\", \"epoch\": 1, \"model\": 5}, \"Metrics\": {\"train_absolute_loss_objective\": {\"sum\": 0.4157615375518799, \"count\": 1, \"min\": 0.4157615375518799, \"max\": 0.4157615375518799}}}\u001b[0m\n",
      "\u001b[34m#metrics {\"StartTime\": 1697740526.63971, \"EndTime\": 1697740526.6397269, \"Dimensions\": {\"Algorithm\": \"Linear Learner\", \"Host\": \"algo-1\", \"Operation\": \"training\", \"epoch\": 1, \"model\": 6}, \"Metrics\": {\"train_absolute_loss_objective\": {\"sum\": 0.45078646659851074, \"count\": 1, \"min\": 0.45078646659851074, \"max\": 0.45078646659851074}}}\u001b[0m\n",
      "\u001b[34m#metrics {\"StartTime\": 1697740526.6397734, \"EndTime\": 1697740526.6397889, \"Dimensions\": {\"Algorithm\": \"Linear Learner\", \"Host\": \"algo-1\", \"Operation\": \"training\", \"epoch\": 1, \"model\": 7}, \"Metrics\": {\"train_absolute_loss_objective\": {\"sum\": 0.4360083699226379, \"count\": 1, \"min\": 0.4360083699226379, \"max\": 0.4360083699226379}}}\u001b[0m\n",
      "\u001b[34m#metrics {\"StartTime\": 1697740526.6398418, \"EndTime\": 1697740526.6398582, \"Dimensions\": {\"Algorithm\": \"Linear Learner\", \"Host\": \"algo-1\", \"Operation\": \"training\", \"epoch\": 1, \"model\": 8}, \"Metrics\": {\"train_absolute_loss_objective\": {\"sum\": 0.9371419048309326, \"count\": 1, \"min\": 0.9371419048309326, \"max\": 0.9371419048309326}}}\u001b[0m\n",
      "\u001b[34m#metrics {\"StartTime\": 1697740526.6399148, \"EndTime\": 1697740526.6399317, \"Dimensions\": {\"Algorithm\": \"Linear Learner\", \"Host\": \"algo-1\", \"Operation\": \"training\", \"epoch\": 1, \"model\": 9}, \"Metrics\": {\"train_absolute_loss_objective\": {\"sum\": 0.8690591716766357, \"count\": 1, \"min\": 0.8690591716766357, \"max\": 0.8690591716766357}}}\u001b[0m\n",
      "\u001b[34m#metrics {\"StartTime\": 1697740526.6399775, \"EndTime\": 1697740526.6399941, \"Dimensions\": {\"Algorithm\": \"Linear Learner\", \"Host\": \"algo-1\", \"Operation\": \"training\", \"epoch\": 1, \"model\": 10}, \"Metrics\": {\"train_absolute_loss_objective\": {\"sum\": 0.8757731628417968, \"count\": 1, \"min\": 0.8757731628417968, \"max\": 0.8757731628417968}}}\u001b[0m\n",
      "\u001b[34m#metrics {\"StartTime\": 1697740526.6400456, \"EndTime\": 1697740526.6400611, \"Dimensions\": {\"Algorithm\": \"Linear Learner\", \"Host\": \"algo-1\", \"Operation\": \"training\", \"epoch\": 1, \"model\": 11}, \"Metrics\": {\"train_absolute_loss_objective\": {\"sum\": 0.8609265995025634, \"count\": 1, \"min\": 0.8609265995025634, \"max\": 0.8609265995025634}}}\u001b[0m\n",
      "\u001b[34m#metrics {\"StartTime\": 1697740526.6401126, \"EndTime\": 1697740526.6401289, \"Dimensions\": {\"Algorithm\": \"Linear Learner\", \"Host\": \"algo-1\", \"Operation\": \"training\", \"epoch\": 1, \"model\": 12}, \"Metrics\": {\"train_absolute_loss_objective\": {\"sum\": 0.4155598735809326, \"count\": 1, \"min\": 0.4155598735809326, \"max\": 0.4155598735809326}}}\u001b[0m\n",
      "\u001b[34m#metrics {\"StartTime\": 1697740526.6401744, \"EndTime\": 1697740526.6401896, \"Dimensions\": {\"Algorithm\": \"Linear Learner\", \"Host\": \"algo-1\", \"Operation\": \"training\", \"epoch\": 1, \"model\": 13}, \"Metrics\": {\"train_absolute_loss_objective\": {\"sum\": 0.42326248168945313, \"count\": 1, \"min\": 0.42326248168945313, \"max\": 0.42326248168945313}}}\u001b[0m\n",
      "\u001b[34m#metrics {\"StartTime\": 1697740526.6402373, \"EndTime\": 1697740526.6402526, \"Dimensions\": {\"Algorithm\": \"Linear Learner\", \"Host\": \"algo-1\", \"Operation\": \"training\", \"epoch\": 1, \"model\": 14}, \"Metrics\": {\"train_absolute_loss_objective\": {\"sum\": 0.41512356281280516, \"count\": 1, \"min\": 0.41512356281280516, \"max\": 0.41512356281280516}}}\u001b[0m\n",
      "\u001b[34m#metrics {\"StartTime\": 1697740526.6403003, \"EndTime\": 1697740526.6403167, \"Dimensions\": {\"Algorithm\": \"Linear Learner\", \"Host\": \"algo-1\", \"Operation\": \"training\", \"epoch\": 1, \"model\": 15}, \"Metrics\": {\"train_absolute_loss_objective\": {\"sum\": 0.42510855436325073, \"count\": 1, \"min\": 0.42510855436325073, \"max\": 0.42510855436325073}}}\u001b[0m\n",
      "\u001b[34m#metrics {\"StartTime\": 1697740526.6403682, \"EndTime\": 1697740526.6403842, \"Dimensions\": {\"Algorithm\": \"Linear Learner\", \"Host\": \"algo-1\", \"Operation\": \"training\", \"epoch\": 1, \"model\": 16}, \"Metrics\": {\"train_absolute_loss_objective\": {\"sum\": 0.8450815963745117, \"count\": 1, \"min\": 0.8450815963745117, \"max\": 0.8450815963745117}}}\u001b[0m\n",
      "\u001b[34m#metrics {\"StartTime\": 1697740526.6404397, \"EndTime\": 1697740526.6404555, \"Dimensions\": {\"Algorithm\": \"Linear Learner\", \"Host\": \"algo-1\", \"Operation\": \"training\", \"epoch\": 1, \"model\": 17}, \"Metrics\": {\"train_absolute_loss_objective\": {\"sum\": 0.8963470458984375, \"count\": 1, \"min\": 0.8963470458984375, \"max\": 0.8963470458984375}}}\u001b[0m\n",
      "\u001b[34m#metrics {\"StartTime\": 1697740526.6405036, \"EndTime\": 1697740526.6405182, \"Dimensions\": {\"Algorithm\": \"Linear Learner\", \"Host\": \"algo-1\", \"Operation\": \"training\", \"epoch\": 1, \"model\": 18}, \"Metrics\": {\"train_absolute_loss_objective\": {\"sum\": 0.8721501541137695, \"count\": 1, \"min\": 0.8721501541137695, \"max\": 0.8721501541137695}}}\u001b[0m\n",
      "\u001b[34m#metrics {\"StartTime\": 1697740526.640565, \"EndTime\": 1697740526.6405814, \"Dimensions\": {\"Algorithm\": \"Linear Learner\", \"Host\": \"algo-1\", \"Operation\": \"training\", \"epoch\": 1, \"model\": 19}, \"Metrics\": {\"train_absolute_loss_objective\": {\"sum\": 0.8694476318359375, \"count\": 1, \"min\": 0.8694476318359375, \"max\": 0.8694476318359375}}}\u001b[0m\n",
      "\u001b[34m#metrics {\"StartTime\": 1697740526.6406307, \"EndTime\": 1697740526.6406465, \"Dimensions\": {\"Algorithm\": \"Linear Learner\", \"Host\": \"algo-1\", \"Operation\": \"training\", \"epoch\": 1, \"model\": 20}, \"Metrics\": {\"train_absolute_loss_objective\": {\"sum\": 0.461668701171875, \"count\": 1, \"min\": 0.461668701171875, \"max\": 0.461668701171875}}}\u001b[0m\n",
      "\u001b[34m#metrics {\"StartTime\": 1697740526.640686, \"EndTime\": 1697740526.6407, \"Dimensions\": {\"Algorithm\": \"Linear Learner\", \"Host\": \"algo-1\", \"Operation\": \"training\", \"epoch\": 1, \"model\": 21}, \"Metrics\": {\"train_absolute_loss_objective\": {\"sum\": 0.46772966384887693, \"count\": 1, \"min\": 0.46772966384887693, \"max\": 0.46772966384887693}}}\u001b[0m\n",
      "\u001b[34m#metrics {\"StartTime\": 1697740526.6407478, \"EndTime\": 1697740526.6407638, \"Dimensions\": {\"Algorithm\": \"Linear Learner\", \"Host\": \"algo-1\", \"Operation\": \"training\", \"epoch\": 1, \"model\": 22}, \"Metrics\": {\"train_absolute_loss_objective\": {\"sum\": 0.443689341545105, \"count\": 1, \"min\": 0.443689341545105, \"max\": 0.443689341545105}}}\u001b[0m\n",
      "\u001b[34m#metrics {\"StartTime\": 1697740526.640811, \"EndTime\": 1697740526.6408265, \"Dimensions\": {\"Algorithm\": \"Linear Learner\", \"Host\": \"algo-1\", \"Operation\": \"training\", \"epoch\": 1, \"model\": 23}, \"Metrics\": {\"train_absolute_loss_objective\": {\"sum\": 0.4885499143600464, \"count\": 1, \"min\": 0.4885499143600464, \"max\": 0.4885499143600464}}}\u001b[0m\n",
      "\u001b[34m#metrics {\"StartTime\": 1697740526.6408741, \"EndTime\": 1697740526.6408906, \"Dimensions\": {\"Algorithm\": \"Linear Learner\", \"Host\": \"algo-1\", \"Operation\": \"training\", \"epoch\": 1, \"model\": 24}, \"Metrics\": {\"train_absolute_loss_objective\": {\"sum\": 0.8878558444976806, \"count\": 1, \"min\": 0.8878558444976806, \"max\": 0.8878558444976806}}}\u001b[0m\n",
      "\u001b[34m#metrics {\"StartTime\": 1697740526.6409402, \"EndTime\": 1697740526.6409554, \"Dimensions\": {\"Algorithm\": \"Linear Learner\", \"Host\": \"algo-1\", \"Operation\": \"training\", \"epoch\": 1, \"model\": 25}, \"Metrics\": {\"train_absolute_loss_objective\": {\"sum\": 0.9153482723236084, \"count\": 1, \"min\": 0.9153482723236084, \"max\": 0.9153482723236084}}}\u001b[0m\n",
      "\u001b[34m#metrics {\"StartTime\": 1697740526.6410027, \"EndTime\": 1697740526.6410174, \"Dimensions\": {\"Algorithm\": \"Linear Learner\", \"Host\": \"algo-1\", \"Operation\": \"training\", \"epoch\": 1, \"model\": 26}, \"Metrics\": {\"train_absolute_loss_objective\": {\"sum\": 0.9047665214538574, \"count\": 1, \"min\": 0.9047665214538574, \"max\": 0.9047665214538574}}}\u001b[0m\n",
      "\u001b[34m#metrics {\"StartTime\": 1697740526.6410782, \"EndTime\": 1697740526.6410947, \"Dimensions\": {\"Algorithm\": \"Linear Learner\", \"Host\": \"algo-1\", \"Operation\": \"training\", \"epoch\": 1, \"model\": 27}, \"Metrics\": {\"train_absolute_loss_objective\": {\"sum\": 0.903565731048584, \"count\": 1, \"min\": 0.903565731048584, \"max\": 0.903565731048584}}}\u001b[0m\n",
      "\u001b[34m#metrics {\"StartTime\": 1697740526.6411471, \"EndTime\": 1697740526.6411636, \"Dimensions\": {\"Algorithm\": \"Linear Learner\", \"Host\": \"algo-1\", \"Operation\": \"training\", \"epoch\": 1, \"model\": 28}, \"Metrics\": {\"train_absolute_loss_objective\": {\"sum\": 1.076248083114624, \"count\": 1, \"min\": 1.076248083114624, \"max\": 1.076248083114624}}}\u001b[0m\n",
      "\u001b[34m#metrics {\"StartTime\": 1697740526.6412086, \"EndTime\": 1697740526.6412237, \"Dimensions\": {\"Algorithm\": \"Linear Learner\", \"Host\": \"algo-1\", \"Operation\": \"training\", \"epoch\": 1, \"model\": 29}, \"Metrics\": {\"train_absolute_loss_objective\": {\"sum\": 1.075598154067993, \"count\": 1, \"min\": 1.075598154067993, \"max\": 1.075598154067993}}}\u001b[0m\n",
      "\u001b[34m#metrics {\"StartTime\": 1697740526.6413057, \"EndTime\": 1697740526.641324, \"Dimensions\": {\"Algorithm\": \"Linear Learner\", \"Host\": \"algo-1\", \"Operation\": \"training\", \"epoch\": 1, \"model\": 30}, \"Metrics\": {\"train_absolute_loss_objective\": {\"sum\": 1.0784142017364502, \"count\": 1, \"min\": 1.0784142017364502, \"max\": 1.0784142017364502}}}\u001b[0m\n",
      "\u001b[34m#metrics {\"StartTime\": 1697740526.6413753, \"EndTime\": 1697740526.6413913, \"Dimensions\": {\"Algorithm\": \"Linear Learner\", \"Host\": \"algo-1\", \"Operation\": \"training\", \"epoch\": 1, \"model\": 31}, \"Metrics\": {\"train_absolute_loss_objective\": {\"sum\": 1.085682716369629, \"count\": 1, \"min\": 1.085682716369629, \"max\": 1.085682716369629}}}\u001b[0m\n",
      "\u001b[34m[10/19/2023 18:35:26 INFO 140362276591424] #quality_metric: host=algo-1, epoch=1, train absolute_loss_objective <loss>=0.8811155891418457\u001b[0m\n",
      "\u001b[34m[10/19/2023 18:35:26 INFO 140362276591424] #early_stopping_criteria_metric: host=algo-1, epoch=1, criteria=absolute_loss_objective, value=0.3573132348060608\u001b[0m\n",
      "\u001b[34m[10/19/2023 18:35:26 INFO 140362276591424] Epoch 1: Loss improved. Updating best model\u001b[0m\n",
      "\u001b[34m[10/19/2023 18:35:26 INFO 140362276591424] Saving model for epoch: 1\u001b[0m\n",
      "\u001b[34m[10/19/2023 18:35:26 INFO 140362276591424] Saved checkpoint to \"/tmp/tmp22oy9_8t/mx-mod-0000.params\"\u001b[0m\n",
      "\u001b[34m[10/19/2023 18:35:26 INFO 140362276591424] #progress_metric: host=algo-1, completed 40.0 % of epochs\u001b[0m\n",
      "\u001b[34m#metrics {\"StartTime\": 1697740526.5307744, \"EndTime\": 1697740526.649956, \"Dimensions\": {\"Algorithm\": \"Linear Learner\", \"Host\": \"algo-1\", \"Operation\": \"training\", \"epoch\": 1, \"Meta\": \"training_data_iter\"}, \"Metrics\": {\"Total Records Seen\": {\"sum\": 83.0, \"count\": 1, \"min\": 83, \"max\": 83}, \"Total Batches Seen\": {\"sum\": 19.0, \"count\": 1, \"min\": 19, \"max\": 19}, \"Max Records Seen Between Resets\": {\"sum\": 26.0, \"count\": 1, \"min\": 26, \"max\": 26}, \"Max Batches Seen Between Resets\": {\"sum\": 6.0, \"count\": 1, \"min\": 6, \"max\": 6}, \"Reset Count\": {\"sum\": 4.0, \"count\": 1, \"min\": 4, \"max\": 4}, \"Number of Records Since Last Reset\": {\"sum\": 26.0, \"count\": 1, \"min\": 26, \"max\": 26}, \"Number of Batches Since Last Reset\": {\"sum\": 6.0, \"count\": 1, \"min\": 6, \"max\": 6}}}\u001b[0m\n",
      "\u001b[34m[10/19/2023 18:35:26 INFO 140362276591424] #throughput_metric: host=algo-1, train throughput=217.9046431561553 records/second\u001b[0m\n",
      "\u001b[34m[2023-10-19 18:35:26.741] [tensorio] [info] epoch_stats={\"data_pipeline\": \"/opt/ml/input/data/train\", \"epoch\": 8, \"duration\": 90, \"num_examples\": 6, \"num_bytes\": 1248}\u001b[0m\n",
      "\u001b[34m#metrics {\"StartTime\": 1697740526.7411833, \"EndTime\": 1697740526.741299, \"Dimensions\": {\"Algorithm\": \"Linear Learner\", \"Host\": \"algo-1\", \"Operation\": \"training\", \"epoch\": 2, \"model\": 0}, \"Metrics\": {\"train_absolute_loss_objective\": {\"sum\": 0.8593894958496093, \"count\": 1, \"min\": 0.8593894958496093, \"max\": 0.8593894958496093}}}\u001b[0m\n",
      "\u001b[34m#metrics {\"StartTime\": 1697740526.7413843, \"EndTime\": 1697740526.7414038, \"Dimensions\": {\"Algorithm\": \"Linear Learner\", \"Host\": \"algo-1\", \"Operation\": \"training\", \"epoch\": 2, \"model\": 1}, \"Metrics\": {\"train_absolute_loss_objective\": {\"sum\": 0.8792719173431397, \"count\": 1, \"min\": 0.8792719173431397, \"max\": 0.8792719173431397}}}\u001b[0m\n",
      "\u001b[34m#metrics {\"StartTime\": 1697740526.7414706, \"EndTime\": 1697740526.7415092, \"Dimensions\": {\"Algorithm\": \"Linear Learner\", \"Host\": \"algo-1\", \"Operation\": \"training\", \"epoch\": 2, \"model\": 2}, \"Metrics\": {\"train_absolute_loss_objective\": {\"sum\": 0.8618066787719727, \"count\": 1, \"min\": 0.8618066787719727, \"max\": 0.8618066787719727}}}\u001b[0m\n",
      "\u001b[34m#metrics {\"StartTime\": 1697740526.7415771, \"EndTime\": 1697740526.7415962, \"Dimensions\": {\"Algorithm\": \"Linear Learner\", \"Host\": \"algo-1\", \"Operation\": \"training\", \"epoch\": 2, \"model\": 3}, \"Metrics\": {\"train_absolute_loss_objective\": {\"sum\": 0.8782521724700928, \"count\": 1, \"min\": 0.8782521724700928, \"max\": 0.8782521724700928}}}\u001b[0m\n",
      "\u001b[34m#metrics {\"StartTime\": 1697740526.741661, \"EndTime\": 1697740526.7416785, \"Dimensions\": {\"Algorithm\": \"Linear Learner\", \"Host\": \"algo-1\", \"Operation\": \"training\", \"epoch\": 2, \"model\": 4}, \"Metrics\": {\"train_absolute_loss_objective\": {\"sum\": 0.18821454286575318, \"count\": 1, \"min\": 0.18821454286575318, \"max\": 0.18821454286575318}}}\u001b[0m\n",
      "\u001b[34m#metrics {\"StartTime\": 1697740526.7417362, \"EndTime\": 1697740526.7417536, \"Dimensions\": {\"Algorithm\": \"Linear Learner\", \"Host\": \"algo-1\", \"Operation\": \"training\", \"epoch\": 2, \"model\": 5}, \"Metrics\": {\"train_absolute_loss_objective\": {\"sum\": 0.2690057945251465, \"count\": 1, \"min\": 0.2690057945251465, \"max\": 0.2690057945251465}}}\u001b[0m\n",
      "\u001b[34m#metrics {\"StartTime\": 1697740526.7418127, \"EndTime\": 1697740526.741831, \"Dimensions\": {\"Algorithm\": \"Linear Learner\", \"Host\": \"algo-1\", \"Operation\": \"training\", \"epoch\": 2, \"model\": 6}, \"Metrics\": {\"train_absolute_loss_objective\": {\"sum\": 0.3119744348526001, \"count\": 1, \"min\": 0.3119744348526001, \"max\": 0.3119744348526001}}}\u001b[0m\n",
      "\u001b[34m#metrics {\"StartTime\": 1697740526.7418919, \"EndTime\": 1697740526.7419102, \"Dimensions\": {\"Algorithm\": \"Linear Learner\", \"Host\": \"algo-1\", \"Operation\": \"training\", \"epoch\": 2, \"model\": 7}, \"Metrics\": {\"train_absolute_loss_objective\": {\"sum\": 0.3049656510353088, \"count\": 1, \"min\": 0.3049656510353088, \"max\": 0.3049656510353088}}}\u001b[0m\n",
      "\u001b[34m#metrics {\"StartTime\": 1697740526.7419605, \"EndTime\": 1697740526.7419765, \"Dimensions\": {\"Algorithm\": \"Linear Learner\", \"Host\": \"algo-1\", \"Operation\": \"training\", \"epoch\": 2, \"model\": 8}, \"Metrics\": {\"train_absolute_loss_objective\": {\"sum\": 0.9154162502288818, \"count\": 1, \"min\": 0.9154162502288818, \"max\": 0.9154162502288818}}}\u001b[0m\n",
      "\u001b[34m#metrics {\"StartTime\": 1697740526.742038, \"EndTime\": 1697740526.7420547, \"Dimensions\": {\"Algorithm\": \"Linear Learner\", \"Host\": \"algo-1\", \"Operation\": \"training\", \"epoch\": 2, \"model\": 9}, \"Metrics\": {\"train_absolute_loss_objective\": {\"sum\": 0.8472630405426025, \"count\": 1, \"min\": 0.8472630405426025, \"max\": 0.8472630405426025}}}\u001b[0m\n",
      "\u001b[34m#metrics {\"StartTime\": 1697740526.7421098, \"EndTime\": 1697740526.7421272, \"Dimensions\": {\"Algorithm\": \"Linear Learner\", \"Host\": \"algo-1\", \"Operation\": \"training\", \"epoch\": 2, \"model\": 10}, \"Metrics\": {\"train_absolute_loss_objective\": {\"sum\": 0.8540487957000732, \"count\": 1, \"min\": 0.8540487957000732, \"max\": 0.8540487957000732}}}\u001b[0m\n",
      "\u001b[34m#metrics {\"StartTime\": 1697740526.7421782, \"EndTime\": 1697740526.742194, \"Dimensions\": {\"Algorithm\": \"Linear Learner\", \"Host\": \"algo-1\", \"Operation\": \"training\", \"epoch\": 2, \"model\": 11}, \"Metrics\": {\"train_absolute_loss_objective\": {\"sum\": 0.8391306591033936, \"count\": 1, \"min\": 0.8391306591033936, \"max\": 0.8391306591033936}}}\u001b[0m\n",
      "\u001b[34m#metrics {\"StartTime\": 1697740526.7422497, \"EndTime\": 1697740526.7422657, \"Dimensions\": {\"Algorithm\": \"Linear Learner\", \"Host\": \"algo-1\", \"Operation\": \"training\", \"epoch\": 2, \"model\": 12}, \"Metrics\": {\"train_absolute_loss_objective\": {\"sum\": 0.2677752876281738, \"count\": 1, \"min\": 0.2677752876281738, \"max\": 0.2677752876281738}}}\u001b[0m\n",
      "\u001b[34m#metrics {\"StartTime\": 1697740526.742319, \"EndTime\": 1697740526.7423356, \"Dimensions\": {\"Algorithm\": \"Linear Learner\", \"Host\": \"algo-1\", \"Operation\": \"training\", \"epoch\": 2, \"model\": 13}, \"Metrics\": {\"train_absolute_loss_objective\": {\"sum\": 0.2265293788909912, \"count\": 1, \"min\": 0.2265293788909912, \"max\": 0.2265293788909912}}}\u001b[0m\n",
      "\u001b[34m#metrics {\"StartTime\": 1697740526.7423842, \"EndTime\": 1697740526.7424, \"Dimensions\": {\"Algorithm\": \"Linear Learner\", \"Host\": \"algo-1\", \"Operation\": \"training\", \"epoch\": 2, \"model\": 14}, \"Metrics\": {\"train_absolute_loss_objective\": {\"sum\": 0.2670684242248535, \"count\": 1, \"min\": 0.2670684242248535, \"max\": 0.2670684242248535}}}\u001b[0m\n",
      "\u001b[34m#metrics {\"StartTime\": 1697740526.7424521, \"EndTime\": 1697740526.7424695, \"Dimensions\": {\"Algorithm\": \"Linear Learner\", \"Host\": \"algo-1\", \"Operation\": \"training\", \"epoch\": 2, \"model\": 15}, \"Metrics\": {\"train_absolute_loss_objective\": {\"sum\": 0.22940002679824828, \"count\": 1, \"min\": 0.22940002679824828, \"max\": 0.22940002679824828}}}\u001b[0m\n",
      "\u001b[34m#metrics {\"StartTime\": 1697740526.742524, \"EndTime\": 1697740526.7425401, \"Dimensions\": {\"Algorithm\": \"Linear Learner\", \"Host\": \"algo-1\", \"Operation\": \"training\", \"epoch\": 2, \"model\": 16}, \"Metrics\": {\"train_absolute_loss_objective\": {\"sum\": 0.8236158847808838, \"count\": 1, \"min\": 0.8236158847808838, \"max\": 0.8236158847808838}}}\u001b[0m\n",
      "\u001b[34m#metrics {\"StartTime\": 1697740526.742601, \"EndTime\": 1697740526.7426188, \"Dimensions\": {\"Algorithm\": \"Linear Learner\", \"Host\": \"algo-1\", \"Operation\": \"training\", \"epoch\": 2, \"model\": 17}, \"Metrics\": {\"train_absolute_loss_objective\": {\"sum\": 0.8746807861328125, \"count\": 1, \"min\": 0.8746807861328125, \"max\": 0.8746807861328125}}}\u001b[0m\n",
      "\u001b[34m#metrics {\"StartTime\": 1697740526.7427323, \"EndTime\": 1697740526.7427545, \"Dimensions\": {\"Algorithm\": \"Linear Learner\", \"Host\": \"algo-1\", \"Operation\": \"training\", \"epoch\": 2, \"model\": 18}, \"Metrics\": {\"train_absolute_loss_objective\": {\"sum\": 0.8506132125854492, \"count\": 1, \"min\": 0.8506132125854492, \"max\": 0.8506132125854492}}}\u001b[0m\n",
      "\u001b[34m#metrics {\"StartTime\": 1697740526.7428665, \"EndTime\": 1697740526.742888, \"Dimensions\": {\"Algorithm\": \"Linear Learner\", \"Host\": \"algo-1\", \"Operation\": \"training\", \"epoch\": 2, \"model\": 19}, \"Metrics\": {\"train_absolute_loss_objective\": {\"sum\": 0.8478464889526367, \"count\": 1, \"min\": 0.8478464889526367, \"max\": 0.8478464889526367}}}\u001b[0m\n",
      "\u001b[34m#metrics {\"StartTime\": 1697740526.743, \"EndTime\": 1697740526.7430203, \"Dimensions\": {\"Algorithm\": \"Linear Learner\", \"Host\": \"algo-1\", \"Operation\": \"training\", \"epoch\": 2, \"model\": 20}, \"Metrics\": {\"train_absolute_loss_objective\": {\"sum\": 0.456025562286377, \"count\": 1, \"min\": 0.456025562286377, \"max\": 0.456025562286377}}}\u001b[0m\n",
      "\u001b[34m#metrics {\"StartTime\": 1697740526.7430835, \"EndTime\": 1697740526.7431002, \"Dimensions\": {\"Algorithm\": \"Linear Learner\", \"Host\": \"algo-1\", \"Operation\": \"training\", \"epoch\": 2, \"model\": 21}, \"Metrics\": {\"train_absolute_loss_objective\": {\"sum\": 0.48477924823760987, \"count\": 1, \"min\": 0.48477924823760987, \"max\": 0.48477924823760987}}}\u001b[0m\n",
      "\u001b[34m#metrics {\"StartTime\": 1697740526.7431588, \"EndTime\": 1697740526.7431746, \"Dimensions\": {\"Algorithm\": \"Linear Learner\", \"Host\": \"algo-1\", \"Operation\": \"training\", \"epoch\": 2, \"model\": 22}, \"Metrics\": {\"train_absolute_loss_objective\": {\"sum\": 0.44866947174072264, \"count\": 1, \"min\": 0.44866947174072264, \"max\": 0.44866947174072264}}}\u001b[0m\n",
      "\u001b[34m#metrics {\"StartTime\": 1697740526.7432365, \"EndTime\": 1697740526.7432542, \"Dimensions\": {\"Algorithm\": \"Linear Learner\", \"Host\": \"algo-1\", \"Operation\": \"training\", \"epoch\": 2, \"model\": 23}, \"Metrics\": {\"train_absolute_loss_objective\": {\"sum\": 0.4550164604187012, \"count\": 1, \"min\": 0.4550164604187012, \"max\": 0.4550164604187012}}}\u001b[0m\n",
      "\u001b[34m#metrics {\"StartTime\": 1697740526.7433236, \"EndTime\": 1697740526.7433407, \"Dimensions\": {\"Algorithm\": \"Linear Learner\", \"Host\": \"algo-1\", \"Operation\": \"training\", \"epoch\": 2, \"model\": 24}, \"Metrics\": {\"train_absolute_loss_objective\": {\"sum\": 0.9043718528747559, \"count\": 1, \"min\": 0.9043718528747559, \"max\": 0.9043718528747559}}}\u001b[0m\n",
      "\u001b[34m#metrics {\"StartTime\": 1697740526.74344, \"EndTime\": 1697740526.7434587, \"Dimensions\": {\"Algorithm\": \"Linear Learner\", \"Host\": \"algo-1\", \"Operation\": \"training\", \"epoch\": 2, \"model\": 25}, \"Metrics\": {\"train_absolute_loss_objective\": {\"sum\": 0.9002847099304199, \"count\": 1, \"min\": 0.9002847099304199, \"max\": 0.9002847099304199}}}\u001b[0m\n",
      "\u001b[34m#metrics {\"StartTime\": 1697740526.7435136, \"EndTime\": 1697740526.7435303, \"Dimensions\": {\"Algorithm\": \"Linear Learner\", \"Host\": \"algo-1\", \"Operation\": \"training\", \"epoch\": 2, \"model\": 26}, \"Metrics\": {\"train_absolute_loss_objective\": {\"sum\": 0.8987767028808594, \"count\": 1, \"min\": 0.8987767028808594, \"max\": 0.8987767028808594}}}\u001b[0m\n",
      "\u001b[34m#metrics {\"StartTime\": 1697740526.7435913, \"EndTime\": 1697740526.7436087, \"Dimensions\": {\"Algorithm\": \"Linear Learner\", \"Host\": \"algo-1\", \"Operation\": \"training\", \"epoch\": 2, \"model\": 27}, \"Metrics\": {\"train_absolute_loss_objective\": {\"sum\": 0.9073797035217285, \"count\": 1, \"min\": 0.9073797035217285, \"max\": 0.9073797035217285}}}\u001b[0m\n",
      "\u001b[34m#metrics {\"StartTime\": 1697740526.7436683, \"EndTime\": 1697740526.7436857, \"Dimensions\": {\"Algorithm\": \"Linear Learner\", \"Host\": \"algo-1\", \"Operation\": \"training\", \"epoch\": 2, \"model\": 28}, \"Metrics\": {\"train_absolute_loss_objective\": {\"sum\": 0.8957694339752197, \"count\": 1, \"min\": 0.8957694339752197, \"max\": 0.8957694339752197}}}\u001b[0m\n",
      "\u001b[34m#metrics {\"StartTime\": 1697740526.7437296, \"EndTime\": 1697740526.7437446, \"Dimensions\": {\"Algorithm\": \"Linear Learner\", \"Host\": \"algo-1\", \"Operation\": \"training\", \"epoch\": 2, \"model\": 29}, \"Metrics\": {\"train_absolute_loss_objective\": {\"sum\": 0.8957948875427246, \"count\": 1, \"min\": 0.8957948875427246, \"max\": 0.8957948875427246}}}\u001b[0m\n",
      "\u001b[34m#metrics {\"StartTime\": 1697740526.743804, \"EndTime\": 1697740526.7438211, \"Dimensions\": {\"Algorithm\": \"Linear Learner\", \"Host\": \"algo-1\", \"Operation\": \"training\", \"epoch\": 2, \"model\": 30}, \"Metrics\": {\"train_absolute_loss_objective\": {\"sum\": 0.8968002033233643, \"count\": 1, \"min\": 0.8968002033233643, \"max\": 0.8968002033233643}}}\u001b[0m\n",
      "\u001b[34m#metrics {\"StartTime\": 1697740526.743877, \"EndTime\": 1697740526.7438931, \"Dimensions\": {\"Algorithm\": \"Linear Learner\", \"Host\": \"algo-1\", \"Operation\": \"training\", \"epoch\": 2, \"model\": 31}, \"Metrics\": {\"train_absolute_loss_objective\": {\"sum\": 0.8847867774963379, \"count\": 1, \"min\": 0.8847867774963379, \"max\": 0.8847867774963379}}}\u001b[0m\n",
      "\u001b[34m[10/19/2023 18:35:26 INFO 140362276591424] #quality_metric: host=algo-1, epoch=2, train absolute_loss_objective <loss>=0.8593894958496093\u001b[0m\n",
      "\u001b[34m[10/19/2023 18:35:26 INFO 140362276591424] #early_stopping_criteria_metric: host=algo-1, epoch=2, criteria=absolute_loss_objective, value=0.18821454286575318\u001b[0m\n",
      "\u001b[34m[10/19/2023 18:35:26 INFO 140362276591424] Epoch 2: Loss improved. Updating best model\u001b[0m\n",
      "\u001b[34m[10/19/2023 18:35:26 INFO 140362276591424] Saving model for epoch: 2\u001b[0m\n",
      "\u001b[34m[10/19/2023 18:35:26 INFO 140362276591424] Saved checkpoint to \"/tmp/tmpiy6ejlz3/mx-mod-0000.params\"\u001b[0m\n",
      "\u001b[34m[10/19/2023 18:35:26 INFO 140362276591424] #progress_metric: host=algo-1, completed 60.0 % of epochs\u001b[0m\n",
      "\u001b[34m#metrics {\"StartTime\": 1697740526.6502442, \"EndTime\": 1697740526.751937, \"Dimensions\": {\"Algorithm\": \"Linear Learner\", \"Host\": \"algo-1\", \"Operation\": \"training\", \"epoch\": 2, \"Meta\": \"training_data_iter\"}, \"Metrics\": {\"Total Records Seen\": {\"sum\": 109.0, \"count\": 1, \"min\": 109, \"max\": 109}, \"Total Batches Seen\": {\"sum\": 25.0, \"count\": 1, \"min\": 25, \"max\": 25}, \"Max Records Seen Between Resets\": {\"sum\": 26.0, \"count\": 1, \"min\": 26, \"max\": 26}, \"Max Batches Seen Between Resets\": {\"sum\": 6.0, \"count\": 1, \"min\": 6, \"max\": 6}, \"Reset Count\": {\"sum\": 5.0, \"count\": 1, \"min\": 5, \"max\": 5}, \"Number of Records Since Last Reset\": {\"sum\": 26.0, \"count\": 1, \"min\": 26, \"max\": 26}, \"Number of Batches Since Last Reset\": {\"sum\": 6.0, \"count\": 1, \"min\": 6, \"max\": 6}}}\u001b[0m\n",
      "\u001b[34m[10/19/2023 18:35:26 INFO 140362276591424] #throughput_metric: host=algo-1, train throughput=255.32510126197 records/second\u001b[0m\n",
      "\u001b[34m[2023-10-19 18:35:26.862] [tensorio] [info] epoch_stats={\"data_pipeline\": \"/opt/ml/input/data/train\", \"epoch\": 10, \"duration\": 109, \"num_examples\": 6, \"num_bytes\": 1248}\u001b[0m\n",
      "\u001b[34m#metrics {\"StartTime\": 1697740526.862306, \"EndTime\": 1697740526.8623755, \"Dimensions\": {\"Algorithm\": \"Linear Learner\", \"Host\": \"algo-1\", \"Operation\": \"training\", \"epoch\": 3, \"model\": 0}, \"Metrics\": {\"train_absolute_loss_objective\": {\"sum\": 0.8379933261871337, \"count\": 1, \"min\": 0.8379933261871337, \"max\": 0.8379933261871337}}}\u001b[0m\n",
      "\u001b[34m#metrics {\"StartTime\": 1697740526.8624349, \"EndTime\": 1697740526.8624525, \"Dimensions\": {\"Algorithm\": \"Linear Learner\", \"Host\": \"algo-1\", \"Operation\": \"training\", \"epoch\": 3, \"model\": 1}, \"Metrics\": {\"train_absolute_loss_objective\": {\"sum\": 0.857659616470337, \"count\": 1, \"min\": 0.857659616470337, \"max\": 0.857659616470337}}}\u001b[0m\n",
      "\u001b[34m#metrics {\"StartTime\": 1697740526.862513, \"EndTime\": 1697740526.8625283, \"Dimensions\": {\"Algorithm\": \"Linear Learner\", \"Host\": \"algo-1\", \"Operation\": \"training\", \"epoch\": 3, \"model\": 2}, \"Metrics\": {\"train_absolute_loss_objective\": {\"sum\": 0.8404104995727539, \"count\": 1, \"min\": 0.8404104995727539, \"max\": 0.8404104995727539}}}\u001b[0m\n",
      "\u001b[34m#metrics {\"StartTime\": 1697740526.862581, \"EndTime\": 1697740526.8625977, \"Dimensions\": {\"Algorithm\": \"Linear Learner\", \"Host\": \"algo-1\", \"Operation\": \"training\", \"epoch\": 3, \"model\": 3}, \"Metrics\": {\"train_absolute_loss_objective\": {\"sum\": 0.8566398811340332, \"count\": 1, \"min\": 0.8566398811340332, \"max\": 0.8566398811340332}}}\u001b[0m\n",
      "\u001b[34m#metrics {\"StartTime\": 1697740526.8626516, \"EndTime\": 1697740526.8626683, \"Dimensions\": {\"Algorithm\": \"Linear Learner\", \"Host\": \"algo-1\", \"Operation\": \"training\", \"epoch\": 3, \"model\": 4}, \"Metrics\": {\"train_absolute_loss_objective\": {\"sum\": 0.27238657236099245, \"count\": 1, \"min\": 0.27238657236099245, \"max\": 0.27238657236099245}}}\u001b[0m\n",
      "\u001b[34m#metrics {\"StartTime\": 1697740526.8627186, \"EndTime\": 1697740526.8627343, \"Dimensions\": {\"Algorithm\": \"Linear Learner\", \"Host\": \"algo-1\", \"Operation\": \"training\", \"epoch\": 3, \"model\": 5}, \"Metrics\": {\"train_absolute_loss_objective\": {\"sum\": 0.28582450389862063, \"count\": 1, \"min\": 0.28582450389862063, \"max\": 0.28582450389862063}}}\u001b[0m\n",
      "\u001b[34m#metrics {\"StartTime\": 1697740526.8627925, \"EndTime\": 1697740526.8628094, \"Dimensions\": {\"Algorithm\": \"Linear Learner\", \"Host\": \"algo-1\", \"Operation\": \"training\", \"epoch\": 3, \"model\": 6}, \"Metrics\": {\"train_absolute_loss_objective\": {\"sum\": 0.3232391834259033, \"count\": 1, \"min\": 0.3232391834259033, \"max\": 0.3232391834259033}}}\u001b[0m\n",
      "\u001b[34m#metrics {\"StartTime\": 1697740526.86285, \"EndTime\": 1697740526.862864, \"Dimensions\": {\"Algorithm\": \"Linear Learner\", \"Host\": \"algo-1\", \"Operation\": \"training\", \"epoch\": 3, \"model\": 7}, \"Metrics\": {\"train_absolute_loss_objective\": {\"sum\": 0.30250499725341795, \"count\": 1, \"min\": 0.30250499725341795, \"max\": 0.30250499725341795}}}\u001b[0m\n",
      "\u001b[34m#metrics {\"StartTime\": 1697740526.8629115, \"EndTime\": 1697740526.8629274, \"Dimensions\": {\"Algorithm\": \"Linear Learner\", \"Host\": \"algo-1\", \"Operation\": \"training\", \"epoch\": 3, \"model\": 8}, \"Metrics\": {\"train_absolute_loss_objective\": {\"sum\": 0.8940217781066895, \"count\": 1, \"min\": 0.8940217781066895, \"max\": 0.8940217781066895}}}\u001b[0m\n",
      "\u001b[34m#metrics {\"StartTime\": 1697740526.8629737, \"EndTime\": 1697740526.862989, \"Dimensions\": {\"Algorithm\": \"Linear Learner\", \"Host\": \"algo-1\", \"Operation\": \"training\", \"epoch\": 3, \"model\": 9}, \"Metrics\": {\"train_absolute_loss_objective\": {\"sum\": 0.8256539154052734, \"count\": 1, \"min\": 0.8256539154052734, \"max\": 0.8256539154052734}}}\u001b[0m\n",
      "\u001b[34m#metrics {\"StartTime\": 1697740526.8630478, \"EndTime\": 1697740526.8630648, \"Dimensions\": {\"Algorithm\": \"Linear Learner\", \"Host\": \"algo-1\", \"Operation\": \"training\", \"epoch\": 3, \"model\": 10}, \"Metrics\": {\"train_absolute_loss_objective\": {\"sum\": 0.8326556015014649, \"count\": 1, \"min\": 0.8326556015014649, \"max\": 0.8326556015014649}}}\u001b[0m\n",
      "\u001b[34m#metrics {\"StartTime\": 1697740526.8631165, \"EndTime\": 1697740526.8631322, \"Dimensions\": {\"Algorithm\": \"Linear Learner\", \"Host\": \"algo-1\", \"Operation\": \"training\", \"epoch\": 3, \"model\": 11}, \"Metrics\": {\"train_absolute_loss_objective\": {\"sum\": 0.8175216674804687, \"count\": 1, \"min\": 0.8175216674804687, \"max\": 0.8175216674804687}}}\u001b[0m\n",
      "\u001b[34m#metrics {\"StartTime\": 1697740526.8631787, \"EndTime\": 1697740526.863195, \"Dimensions\": {\"Algorithm\": \"Linear Learner\", \"Host\": \"algo-1\", \"Operation\": \"training\", \"epoch\": 3, \"model\": 12}, \"Metrics\": {\"train_absolute_loss_objective\": {\"sum\": 0.28047396898269655, \"count\": 1, \"min\": 0.28047396898269655, \"max\": 0.28047396898269655}}}\u001b[0m\n",
      "\u001b[34m#metrics {\"StartTime\": 1697740526.8632524, \"EndTime\": 1697740526.86327, \"Dimensions\": {\"Algorithm\": \"Linear Learner\", \"Host\": \"algo-1\", \"Operation\": \"training\", \"epoch\": 3, \"model\": 13}, \"Metrics\": {\"train_absolute_loss_objective\": {\"sum\": 0.25983898639678954, \"count\": 1, \"min\": 0.25983898639678954, \"max\": 0.25983898639678954}}}\u001b[0m\n",
      "\u001b[34m#metrics {\"StartTime\": 1697740526.8633218, \"EndTime\": 1697740526.8633382, \"Dimensions\": {\"Algorithm\": \"Linear Learner\", \"Host\": \"algo-1\", \"Operation\": \"training\", \"epoch\": 3, \"model\": 14}, \"Metrics\": {\"train_absolute_loss_objective\": {\"sum\": 0.2814954733848572, \"count\": 1, \"min\": 0.2814954733848572, \"max\": 0.2814954733848572}}}\u001b[0m\n",
      "\u001b[34m#metrics {\"StartTime\": 1697740526.8633866, \"EndTime\": 1697740526.8634036, \"Dimensions\": {\"Algorithm\": \"Linear Learner\", \"Host\": \"algo-1\", \"Operation\": \"training\", \"epoch\": 3, \"model\": 15}, \"Metrics\": {\"train_absolute_loss_objective\": {\"sum\": 0.2562480640411377, \"count\": 1, \"min\": 0.2562480640411377, \"max\": 0.2562480640411377}}}\u001b[0m\n",
      "\u001b[34m#metrics {\"StartTime\": 1697740526.8634539, \"EndTime\": 1697740526.8634703, \"Dimensions\": {\"Algorithm\": \"Linear Learner\", \"Host\": \"algo-1\", \"Operation\": \"training\", \"epoch\": 3, \"model\": 16}, \"Metrics\": {\"train_absolute_loss_objective\": {\"sum\": 0.8026303577423096, \"count\": 1, \"min\": 0.8026303577423096, \"max\": 0.8026303577423096}}}\u001b[0m\n",
      "\u001b[34m#metrics {\"StartTime\": 1697740526.863519, \"EndTime\": 1697740526.8635356, \"Dimensions\": {\"Algorithm\": \"Linear Learner\", \"Host\": \"algo-1\", \"Operation\": \"training\", \"epoch\": 3, \"model\": 17}, \"Metrics\": {\"train_absolute_loss_objective\": {\"sum\": 0.8533436965942383, \"count\": 1, \"min\": 0.8533436965942383, \"max\": 0.8533436965942383}}}\u001b[0m\n",
      "\u001b[34m#metrics {\"StartTime\": 1697740526.8635895, \"EndTime\": 1697740526.8636055, \"Dimensions\": {\"Algorithm\": \"Linear Learner\", \"Host\": \"algo-1\", \"Operation\": \"training\", \"epoch\": 3, \"model\": 18}, \"Metrics\": {\"train_absolute_loss_objective\": {\"sum\": 0.8295511817932129, \"count\": 1, \"min\": 0.8295511817932129, \"max\": 0.8295511817932129}}}\u001b[0m\n",
      "\u001b[34m#metrics {\"StartTime\": 1697740526.8636582, \"EndTime\": 1697740526.8636742, \"Dimensions\": {\"Algorithm\": \"Linear Learner\", \"Host\": \"algo-1\", \"Operation\": \"training\", \"epoch\": 3, \"model\": 19}, \"Metrics\": {\"train_absolute_loss_objective\": {\"sum\": 0.8265798377990723, \"count\": 1, \"min\": 0.8265798377990723, \"max\": 0.8265798377990723}}}\u001b[0m\n",
      "\u001b[34m#metrics {\"StartTime\": 1697740526.8637261, \"EndTime\": 1697740526.8637416, \"Dimensions\": {\"Algorithm\": \"Linear Learner\", \"Host\": \"algo-1\", \"Operation\": \"training\", \"epoch\": 3, \"model\": 20}, \"Metrics\": {\"train_absolute_loss_objective\": {\"sum\": 0.34534823417663574, \"count\": 1, \"min\": 0.34534823417663574, \"max\": 0.34534823417663574}}}\u001b[0m\n",
      "\u001b[34m#metrics {\"StartTime\": 1697740526.8638034, \"EndTime\": 1697740526.8638198, \"Dimensions\": {\"Algorithm\": \"Linear Learner\", \"Host\": \"algo-1\", \"Operation\": \"training\", \"epoch\": 3, \"model\": 21}, \"Metrics\": {\"train_absolute_loss_objective\": {\"sum\": 0.31866451978683474, \"count\": 1, \"min\": 0.31866451978683474, \"max\": 0.31866451978683474}}}\u001b[0m\n",
      "\u001b[34m#metrics {\"StartTime\": 1697740526.8639183, \"EndTime\": 1697740526.8639398, \"Dimensions\": {\"Algorithm\": \"Linear Learner\", \"Host\": \"algo-1\", \"Operation\": \"training\", \"epoch\": 3, \"model\": 22}, \"Metrics\": {\"train_absolute_loss_objective\": {\"sum\": 0.3524028730392456, \"count\": 1, \"min\": 0.3524028730392456, \"max\": 0.3524028730392456}}}\u001b[0m\n",
      "\u001b[34m#metrics {\"StartTime\": 1697740526.863987, \"EndTime\": 1697740526.8640018, \"Dimensions\": {\"Algorithm\": \"Linear Learner\", \"Host\": \"algo-1\", \"Operation\": \"training\", \"epoch\": 3, \"model\": 23}, \"Metrics\": {\"train_absolute_loss_objective\": {\"sum\": 0.30435451030731203, \"count\": 1, \"min\": 0.30435451030731203, \"max\": 0.30435451030731203}}}\u001b[0m\n",
      "\u001b[34m#metrics {\"StartTime\": 1697740526.8640492, \"EndTime\": 1697740526.864064, \"Dimensions\": {\"Algorithm\": \"Linear Learner\", \"Host\": \"algo-1\", \"Operation\": \"training\", \"epoch\": 3, \"model\": 24}, \"Metrics\": {\"train_absolute_loss_objective\": {\"sum\": 0.9145946407318115, \"count\": 1, \"min\": 0.9145946407318115, \"max\": 0.9145946407318115}}}\u001b[0m\n",
      "\u001b[34m#metrics {\"StartTime\": 1697740526.8641112, \"EndTime\": 1697740526.8641264, \"Dimensions\": {\"Algorithm\": \"Linear Learner\", \"Host\": \"algo-1\", \"Operation\": \"training\", \"epoch\": 3, \"model\": 25}, \"Metrics\": {\"train_absolute_loss_objective\": {\"sum\": 0.8954142665863037, \"count\": 1, \"min\": 0.8954142665863037, \"max\": 0.8954142665863037}}}\u001b[0m\n",
      "\u001b[34m#metrics {\"StartTime\": 1697740526.8641777, \"EndTime\": 1697740526.8641932, \"Dimensions\": {\"Algorithm\": \"Linear Learner\", \"Host\": \"algo-1\", \"Operation\": \"training\", \"epoch\": 3, \"model\": 26}, \"Metrics\": {\"train_absolute_loss_objective\": {\"sum\": 0.9031844139099121, \"count\": 1, \"min\": 0.9031844139099121, \"max\": 0.9031844139099121}}}\u001b[0m\n",
      "\u001b[34m#metrics {\"StartTime\": 1697740526.8642423, \"EndTime\": 1697740526.8642576, \"Dimensions\": {\"Algorithm\": \"Linear Learner\", \"Host\": \"algo-1\", \"Operation\": \"training\", \"epoch\": 3, \"model\": 27}, \"Metrics\": {\"train_absolute_loss_objective\": {\"sum\": 0.9085466480255127, \"count\": 1, \"min\": 0.9085466480255127, \"max\": 0.9085466480255127}}}\u001b[0m\n",
      "\u001b[34m#metrics {\"StartTime\": 1697740526.8643105, \"EndTime\": 1697740526.8643267, \"Dimensions\": {\"Algorithm\": \"Linear Learner\", \"Host\": \"algo-1\", \"Operation\": \"training\", \"epoch\": 3, \"model\": 28}, \"Metrics\": {\"train_absolute_loss_objective\": {\"sum\": 0.96370849609375, \"count\": 1, \"min\": 0.96370849609375, \"max\": 0.96370849609375}}}\u001b[0m\n",
      "\u001b[34m#metrics {\"StartTime\": 1697740526.8643758, \"EndTime\": 1697740526.864391, \"Dimensions\": {\"Algorithm\": \"Linear Learner\", \"Host\": \"algo-1\", \"Operation\": \"training\", \"epoch\": 3, \"model\": 29}, \"Metrics\": {\"train_absolute_loss_objective\": {\"sum\": 0.9652366352081299, \"count\": 1, \"min\": 0.9652366352081299, \"max\": 0.9652366352081299}}}\u001b[0m\n",
      "\u001b[34m#metrics {\"StartTime\": 1697740526.8644488, \"EndTime\": 1697740526.8644643, \"Dimensions\": {\"Algorithm\": \"Linear Learner\", \"Host\": \"algo-1\", \"Operation\": \"training\", \"epoch\": 3, \"model\": 30}, \"Metrics\": {\"train_absolute_loss_objective\": {\"sum\": 0.9652483367919922, \"count\": 1, \"min\": 0.9652483367919922, \"max\": 0.9652483367919922}}}\u001b[0m\n",
      "\u001b[34m#metrics {\"StartTime\": 1697740526.864524, \"EndTime\": 1697740526.8645413, \"Dimensions\": {\"Algorithm\": \"Linear Learner\", \"Host\": \"algo-1\", \"Operation\": \"training\", \"epoch\": 3, \"model\": 31}, \"Metrics\": {\"train_absolute_loss_objective\": {\"sum\": 0.9763541889190673, \"count\": 1, \"min\": 0.9763541889190673, \"max\": 0.9763541889190673}}}\u001b[0m\n",
      "\u001b[34m[10/19/2023 18:35:26 INFO 140362276591424] #quality_metric: host=algo-1, epoch=3, train absolute_loss_objective <loss>=0.8379933261871337\u001b[0m\n",
      "\u001b[34m[10/19/2023 18:35:26 INFO 140362276591424] #early_stopping_criteria_metric: host=algo-1, epoch=3, criteria=absolute_loss_objective, value=0.2562480640411377\u001b[0m\n",
      "\u001b[34m[10/19/2023 18:35:26 INFO 140362276591424] Saving model for epoch: 3\u001b[0m\n",
      "\u001b[34m[10/19/2023 18:35:26 INFO 140362276591424] Saved checkpoint to \"/tmp/tmp6efs_48j/mx-mod-0000.params\"\u001b[0m\n",
      "\u001b[34m[10/19/2023 18:35:26 INFO 140362276591424] #progress_metric: host=algo-1, completed 80.0 % of epochs\u001b[0m\n",
      "\u001b[34m#metrics {\"StartTime\": 1697740526.7522304, \"EndTime\": 1697740526.8728337, \"Dimensions\": {\"Algorithm\": \"Linear Learner\", \"Host\": \"algo-1\", \"Operation\": \"training\", \"epoch\": 3, \"Meta\": \"training_data_iter\"}, \"Metrics\": {\"Total Records Seen\": {\"sum\": 135.0, \"count\": 1, \"min\": 135, \"max\": 135}, \"Total Batches Seen\": {\"sum\": 31.0, \"count\": 1, \"min\": 31, \"max\": 31}, \"Max Records Seen Between Resets\": {\"sum\": 26.0, \"count\": 1, \"min\": 26, \"max\": 26}, \"Max Batches Seen Between Resets\": {\"sum\": 6.0, \"count\": 1, \"min\": 6, \"max\": 6}, \"Reset Count\": {\"sum\": 6.0, \"count\": 1, \"min\": 6, \"max\": 6}, \"Number of Records Since Last Reset\": {\"sum\": 26.0, \"count\": 1, \"min\": 26, \"max\": 26}, \"Number of Batches Since Last Reset\": {\"sum\": 6.0, \"count\": 1, \"min\": 6, \"max\": 6}}}\u001b[0m\n",
      "\u001b[34m[10/19/2023 18:35:26 INFO 140362276591424] #throughput_metric: host=algo-1, train throughput=215.23642830215863 records/second\u001b[0m\n",
      "\u001b[34m[2023-10-19 18:35:26.976] [tensorio] [info] epoch_stats={\"data_pipeline\": \"/opt/ml/input/data/train\", \"epoch\": 12, \"duration\": 103, \"num_examples\": 6, \"num_bytes\": 1248}\u001b[0m\n",
      "\u001b[34m#metrics {\"StartTime\": 1697740526.97684, \"EndTime\": 1697740526.9769068, \"Dimensions\": {\"Algorithm\": \"Linear Learner\", \"Host\": \"algo-1\", \"Operation\": \"training\", \"epoch\": 4, \"model\": 0}, \"Metrics\": {\"train_absolute_loss_objective\": {\"sum\": 0.8167087936401367, \"count\": 1, \"min\": 0.8167087936401367, \"max\": 0.8167087936401367}}}\u001b[0m\n",
      "\u001b[34m#metrics {\"StartTime\": 1697740526.9769807, \"EndTime\": 1697740526.9769952, \"Dimensions\": {\"Algorithm\": \"Linear Learner\", \"Host\": \"algo-1\", \"Operation\": \"training\", \"epoch\": 4, \"model\": 1}, \"Metrics\": {\"train_absolute_loss_objective\": {\"sum\": 0.8360848426818848, \"count\": 1, \"min\": 0.8360848426818848, \"max\": 0.8360848426818848}}}\u001b[0m\n",
      "\u001b[34m#metrics {\"StartTime\": 1697740526.9770424, \"EndTime\": 1697740526.9770532, \"Dimensions\": {\"Algorithm\": \"Linear Learner\", \"Host\": \"algo-1\", \"Operation\": \"training\", \"epoch\": 4, \"model\": 2}, \"Metrics\": {\"train_absolute_loss_objective\": {\"sum\": 0.8191259670257568, \"count\": 1, \"min\": 0.8191259670257568, \"max\": 0.8191259670257568}}}\u001b[0m\n",
      "\u001b[34m#metrics {\"StartTime\": 1697740526.977093, \"EndTime\": 1697740526.9771028, \"Dimensions\": {\"Algorithm\": \"Linear Learner\", \"Host\": \"algo-1\", \"Operation\": \"training\", \"epoch\": 4, \"model\": 3}, \"Metrics\": {\"train_absolute_loss_objective\": {\"sum\": 0.8350651264190674, \"count\": 1, \"min\": 0.8350651264190674, \"max\": 0.8350651264190674}}}\u001b[0m\n",
      "\u001b[34m#metrics {\"StartTime\": 1697740526.9771383, \"EndTime\": 1697740526.9771476, \"Dimensions\": {\"Algorithm\": \"Linear Learner\", \"Host\": \"algo-1\", \"Operation\": \"training\", \"epoch\": 4, \"model\": 4}, \"Metrics\": {\"train_absolute_loss_objective\": {\"sum\": 0.27161843299865723, \"count\": 1, \"min\": 0.27161843299865723, \"max\": 0.27161843299865723}}}\u001b[0m\n",
      "\u001b[34m#metrics {\"StartTime\": 1697740526.9771879, \"EndTime\": 1697740526.9771976, \"Dimensions\": {\"Algorithm\": \"Linear Learner\", \"Host\": \"algo-1\", \"Operation\": \"training\", \"epoch\": 4, \"model\": 5}, \"Metrics\": {\"train_absolute_loss_objective\": {\"sum\": 0.276663122177124, \"count\": 1, \"min\": 0.276663122177124, \"max\": 0.276663122177124}}}\u001b[0m\n",
      "\u001b[34m#metrics {\"StartTime\": 1697740526.977233, \"EndTime\": 1697740526.9772425, \"Dimensions\": {\"Algorithm\": \"Linear Learner\", \"Host\": \"algo-1\", \"Operation\": \"training\", \"epoch\": 4, \"model\": 6}, \"Metrics\": {\"train_absolute_loss_objective\": {\"sum\": 0.22538724184036255, \"count\": 1, \"min\": 0.22538724184036255, \"max\": 0.22538724184036255}}}\u001b[0m\n",
      "\u001b[34m#metrics {\"StartTime\": 1697740526.9772742, \"EndTime\": 1697740526.977283, \"Dimensions\": {\"Algorithm\": \"Linear Learner\", \"Host\": \"algo-1\", \"Operation\": \"training\", \"epoch\": 4, \"model\": 7}, \"Metrics\": {\"train_absolute_loss_objective\": {\"sum\": 0.24279590606689452, \"count\": 1, \"min\": 0.24279590606689452, \"max\": 0.24279590606689452}}}\u001b[0m\n",
      "\u001b[34m#metrics {\"StartTime\": 1697740526.9773173, \"EndTime\": 1697740526.9773264, \"Dimensions\": {\"Algorithm\": \"Linear Learner\", \"Host\": \"algo-1\", \"Operation\": \"training\", \"epoch\": 4, \"model\": 8}, \"Metrics\": {\"train_absolute_loss_objective\": {\"sum\": 0.8727407169342041, \"count\": 1, \"min\": 0.8727407169342041, \"max\": 0.8727407169342041}}}\u001b[0m\n",
      "\u001b[34m#metrics {\"StartTime\": 1697740526.9773586, \"EndTime\": 1697740526.9773676, \"Dimensions\": {\"Algorithm\": \"Linear Learner\", \"Host\": \"algo-1\", \"Operation\": \"training\", \"epoch\": 4, \"model\": 9}, \"Metrics\": {\"train_absolute_loss_objective\": {\"sum\": 0.8040840435028076, \"count\": 1, \"min\": 0.8040840435028076, \"max\": 0.8040840435028076}}}\u001b[0m\n",
      "\u001b[34m#metrics {\"StartTime\": 1697740526.977402, \"EndTime\": 1697740526.977411, \"Dimensions\": {\"Algorithm\": \"Linear Learner\", \"Host\": \"algo-1\", \"Operation\": \"training\", \"epoch\": 4, \"model\": 10}, \"Metrics\": {\"train_absolute_loss_objective\": {\"sum\": 0.8113757514953613, \"count\": 1, \"min\": 0.8113757514953613, \"max\": 0.8113757514953613}}}\u001b[0m\n",
      "\u001b[34m#metrics {\"StartTime\": 1697740526.977442, \"EndTime\": 1697740526.9774508, \"Dimensions\": {\"Algorithm\": \"Linear Learner\", \"Host\": \"algo-1\", \"Operation\": \"training\", \"epoch\": 4, \"model\": 11}, \"Metrics\": {\"train_absolute_loss_objective\": {\"sum\": 0.7959519863128662, \"count\": 1, \"min\": 0.7959519863128662, \"max\": 0.7959519863128662}}}\u001b[0m\n",
      "\u001b[34m#metrics {\"StartTime\": 1697740526.9774814, \"EndTime\": 1697740526.9775124, \"Dimensions\": {\"Algorithm\": \"Linear Learner\", \"Host\": \"algo-1\", \"Operation\": \"training\", \"epoch\": 4, \"model\": 12}, \"Metrics\": {\"train_absolute_loss_objective\": {\"sum\": 0.2666877126693726, \"count\": 1, \"min\": 0.2666877126693726, \"max\": 0.2666877126693726}}}\u001b[0m\n",
      "\u001b[34m#metrics {\"StartTime\": 1697740526.977559, \"EndTime\": 1697740526.977571, \"Dimensions\": {\"Algorithm\": \"Linear Learner\", \"Host\": \"algo-1\", \"Operation\": \"training\", \"epoch\": 4, \"model\": 13}, \"Metrics\": {\"train_absolute_loss_objective\": {\"sum\": 0.28024194955825804, \"count\": 1, \"min\": 0.28024194955825804, \"max\": 0.28024194955825804}}}\u001b[0m\n",
      "\u001b[34m#metrics {\"StartTime\": 1697740526.9776046, \"EndTime\": 1697740526.977614, \"Dimensions\": {\"Algorithm\": \"Linear Learner\", \"Host\": \"algo-1\", \"Operation\": \"training\", \"epoch\": 4, \"model\": 14}, \"Metrics\": {\"train_absolute_loss_objective\": {\"sum\": 0.2676092576980591, \"count\": 1, \"min\": 0.2676092576980591, \"max\": 0.2676092576980591}}}\u001b[0m\n",
      "\u001b[34m#metrics {\"StartTime\": 1697740526.9776459, \"EndTime\": 1697740526.9776545, \"Dimensions\": {\"Algorithm\": \"Linear Learner\", \"Host\": \"algo-1\", \"Operation\": \"training\", \"epoch\": 4, \"model\": 15}, \"Metrics\": {\"train_absolute_loss_objective\": {\"sum\": 0.27634157419204713, \"count\": 1, \"min\": 0.27634157419204713, \"max\": 0.27634157419204713}}}\u001b[0m\n",
      "\u001b[34m#metrics {\"StartTime\": 1697740526.977686, \"EndTime\": 1697740526.9776947, \"Dimensions\": {\"Algorithm\": \"Linear Learner\", \"Host\": \"algo-1\", \"Operation\": \"training\", \"epoch\": 4, \"model\": 16}, \"Metrics\": {\"train_absolute_loss_objective\": {\"sum\": 0.7819528961181641, \"count\": 1, \"min\": 0.7819528961181641, \"max\": 0.7819528961181641}}}\u001b[0m\n",
      "\u001b[34m#metrics {\"StartTime\": 1697740526.97773, \"EndTime\": 1697740526.97774, \"Dimensions\": {\"Algorithm\": \"Linear Learner\", \"Host\": \"algo-1\", \"Operation\": \"training\", \"epoch\": 4, \"model\": 17}, \"Metrics\": {\"train_absolute_loss_objective\": {\"sum\": 0.8322327423095703, \"count\": 1, \"min\": 0.8322327423095703, \"max\": 0.8322327423095703}}}\u001b[0m\n",
      "\u001b[34m#metrics {\"StartTime\": 1697740526.9777753, \"EndTime\": 1697740526.9777846, \"Dimensions\": {\"Algorithm\": \"Linear Learner\", \"Host\": \"algo-1\", \"Operation\": \"training\", \"epoch\": 4, \"model\": 18}, \"Metrics\": {\"train_absolute_loss_objective\": {\"sum\": 0.808789873123169, \"count\": 1, \"min\": 0.808789873123169, \"max\": 0.808789873123169}}}\u001b[0m\n",
      "\u001b[34m#metrics {\"StartTime\": 1697740526.977824, \"EndTime\": 1697740526.9778337, \"Dimensions\": {\"Algorithm\": \"Linear Learner\", \"Host\": \"algo-1\", \"Operation\": \"training\", \"epoch\": 4, \"model\": 19}, \"Metrics\": {\"train_absolute_loss_objective\": {\"sum\": 0.8055464458465577, \"count\": 1, \"min\": 0.8055464458465577, \"max\": 0.8055464458465577}}}\u001b[0m\n",
      "\u001b[34m#metrics {\"StartTime\": 1697740526.9778666, \"EndTime\": 1697740526.9778755, \"Dimensions\": {\"Algorithm\": \"Linear Learner\", \"Host\": \"algo-1\", \"Operation\": \"training\", \"epoch\": 4, \"model\": 20}, \"Metrics\": {\"train_absolute_loss_objective\": {\"sum\": 0.36485641479492187, \"count\": 1, \"min\": 0.36485641479492187, \"max\": 0.36485641479492187}}}\u001b[0m\n",
      "\u001b[34m#metrics {\"StartTime\": 1697740526.9779093, \"EndTime\": 1697740526.9779184, \"Dimensions\": {\"Algorithm\": \"Linear Learner\", \"Host\": \"algo-1\", \"Operation\": \"training\", \"epoch\": 4, \"model\": 21}, \"Metrics\": {\"train_absolute_loss_objective\": {\"sum\": 0.3487347459793091, \"count\": 1, \"min\": 0.3487347459793091, \"max\": 0.3487347459793091}}}\u001b[0m\n",
      "\u001b[34m#metrics {\"StartTime\": 1697740526.9779575, \"EndTime\": 1697740526.9779668, \"Dimensions\": {\"Algorithm\": \"Linear Learner\", \"Host\": \"algo-1\", \"Operation\": \"training\", \"epoch\": 4, \"model\": 22}, \"Metrics\": {\"train_absolute_loss_objective\": {\"sum\": 0.3768511343002319, \"count\": 1, \"min\": 0.3768511343002319, \"max\": 0.3768511343002319}}}\u001b[0m\n",
      "\u001b[34m#metrics {\"StartTime\": 1697740526.9780018, \"EndTime\": 1697740526.9780114, \"Dimensions\": {\"Algorithm\": \"Linear Learner\", \"Host\": \"algo-1\", \"Operation\": \"training\", \"epoch\": 4, \"model\": 23}, \"Metrics\": {\"train_absolute_loss_objective\": {\"sum\": 0.4318551015853882, \"count\": 1, \"min\": 0.4318551015853882, \"max\": 0.4318551015853882}}}\u001b[0m\n",
      "\u001b[34m#metrics {\"StartTime\": 1697740526.978043, \"EndTime\": 1697740526.9780524, \"Dimensions\": {\"Algorithm\": \"Linear Learner\", \"Host\": \"algo-1\", \"Operation\": \"training\", \"epoch\": 4, \"model\": 24}, \"Metrics\": {\"train_absolute_loss_objective\": {\"sum\": 0.9169031143188476, \"count\": 1, \"min\": 0.9169031143188476, \"max\": 0.9169031143188476}}}\u001b[0m\n",
      "\u001b[34m#metrics {\"StartTime\": 1697740526.9780853, \"EndTime\": 1697740526.9780946, \"Dimensions\": {\"Algorithm\": \"Linear Learner\", \"Host\": \"algo-1\", \"Operation\": \"training\", \"epoch\": 4, \"model\": 25}, \"Metrics\": {\"train_absolute_loss_objective\": {\"sum\": 0.8986214828491211, \"count\": 1, \"min\": 0.8986214828491211, \"max\": 0.8986214828491211}}}\u001b[0m\n",
      "\u001b[34m#metrics {\"StartTime\": 1697740526.9781332, \"EndTime\": 1697740526.978143, \"Dimensions\": {\"Algorithm\": \"Linear Learner\", \"Host\": \"algo-1\", \"Operation\": \"training\", \"epoch\": 4, \"model\": 26}, \"Metrics\": {\"train_absolute_loss_objective\": {\"sum\": 0.9082352638244628, \"count\": 1, \"min\": 0.9082352638244628, \"max\": 0.9082352638244628}}}\u001b[0m\n",
      "\u001b[34m#metrics {\"StartTime\": 1697740526.978178, \"EndTime\": 1697740526.9781876, \"Dimensions\": {\"Algorithm\": \"Linear Learner\", \"Host\": \"algo-1\", \"Operation\": \"training\", \"epoch\": 4, \"model\": 27}, \"Metrics\": {\"train_absolute_loss_objective\": {\"sum\": 0.9045491600036621, \"count\": 1, \"min\": 0.9045491600036621, \"max\": 0.9045491600036621}}}\u001b[0m\n",
      "\u001b[34m#metrics {\"StartTime\": 1697740526.9782193, \"EndTime\": 1697740526.9782283, \"Dimensions\": {\"Algorithm\": \"Linear Learner\", \"Host\": \"algo-1\", \"Operation\": \"training\", \"epoch\": 4, \"model\": 28}, \"Metrics\": {\"train_absolute_loss_objective\": {\"sum\": 0.9550403690338135, \"count\": 1, \"min\": 0.9550403690338135, \"max\": 0.9550403690338135}}}\u001b[0m\n",
      "\u001b[34m#metrics {\"StartTime\": 1697740526.9782655, \"EndTime\": 1697740526.9782755, \"Dimensions\": {\"Algorithm\": \"Linear Learner\", \"Host\": \"algo-1\", \"Operation\": \"training\", \"epoch\": 4, \"model\": 29}, \"Metrics\": {\"train_absolute_loss_objective\": {\"sum\": 0.9571397590637207, \"count\": 1, \"min\": 0.9571397590637207, \"max\": 0.9571397590637207}}}\u001b[0m\n",
      "\u001b[34m#metrics {\"StartTime\": 1697740526.9783244, \"EndTime\": 1697740526.97834, \"Dimensions\": {\"Algorithm\": \"Linear Learner\", \"Host\": \"algo-1\", \"Operation\": \"training\", \"epoch\": 4, \"model\": 30}, \"Metrics\": {\"train_absolute_loss_objective\": {\"sum\": 0.9512868213653565, \"count\": 1, \"min\": 0.9512868213653565, \"max\": 0.9512868213653565}}}\u001b[0m\n",
      "\u001b[34m#metrics {\"StartTime\": 1697740526.9783986, \"EndTime\": 1697740526.9784095, \"Dimensions\": {\"Algorithm\": \"Linear Learner\", \"Host\": \"algo-1\", \"Operation\": \"training\", \"epoch\": 4, \"model\": 31}, \"Metrics\": {\"train_absolute_loss_objective\": {\"sum\": 0.9479507827758789, \"count\": 1, \"min\": 0.9479507827758789, \"max\": 0.9479507827758789}}}\u001b[0m\n",
      "\u001b[34m[10/19/2023 18:35:26 INFO 140362276591424] #quality_metric: host=algo-1, epoch=4, train absolute_loss_objective <loss>=0.8167087936401367\u001b[0m\n",
      "\u001b[34m[10/19/2023 18:35:26 INFO 140362276591424] #early_stopping_criteria_metric: host=algo-1, epoch=4, criteria=absolute_loss_objective, value=0.22538724184036255\u001b[0m\n",
      "\u001b[34m[10/19/2023 18:35:26 INFO 140362276591424] Saving model for epoch: 4\u001b[0m\n",
      "\u001b[34m[10/19/2023 18:35:26 INFO 140362276591424] Saved checkpoint to \"/tmp/tmpa4b81duf/mx-mod-0000.params\"\u001b[0m\n",
      "\u001b[34m[10/19/2023 18:35:26 INFO 140362276591424] #progress_metric: host=algo-1, completed 100.0 % of epochs\u001b[0m\n",
      "\u001b[34m#metrics {\"StartTime\": 1697740526.873229, \"EndTime\": 1697740526.9857213, \"Dimensions\": {\"Algorithm\": \"Linear Learner\", \"Host\": \"algo-1\", \"Operation\": \"training\", \"epoch\": 4, \"Meta\": \"training_data_iter\"}, \"Metrics\": {\"Total Records Seen\": {\"sum\": 161.0, \"count\": 1, \"min\": 161, \"max\": 161}, \"Total Batches Seen\": {\"sum\": 37.0, \"count\": 1, \"min\": 37, \"max\": 37}, \"Max Records Seen Between Resets\": {\"sum\": 26.0, \"count\": 1, \"min\": 26, \"max\": 26}, \"Max Batches Seen Between Resets\": {\"sum\": 6.0, \"count\": 1, \"min\": 6, \"max\": 6}, \"Reset Count\": {\"sum\": 7.0, \"count\": 1, \"min\": 7, \"max\": 7}, \"Number of Records Since Last Reset\": {\"sum\": 26.0, \"count\": 1, \"min\": 26, \"max\": 26}, \"Number of Batches Since Last Reset\": {\"sum\": 6.0, \"count\": 1, \"min\": 6, \"max\": 6}}}\u001b[0m\n",
      "\u001b[34m[10/19/2023 18:35:26 INFO 140362276591424] #throughput_metric: host=algo-1, train throughput=230.8313891340746 records/second\u001b[0m\n",
      "\u001b[34m[10/19/2023 18:35:26 WARNING 140362276591424] wait_for_all_workers will not sync workers since the kv store is not running distributed\u001b[0m\n",
      "\u001b[34m[10/19/2023 18:35:26 WARNING 140362276591424] wait_for_all_workers will not sync workers since the kv store is not running distributed\u001b[0m\n",
      "\u001b[34m[2023-10-19 18:35:26.986] [tensorio] [info] epoch_stats={\"data_pipeline\": \"/opt/ml/input/data/train\", \"epoch\": 14, \"duration\": 0, \"num_examples\": 1, \"num_bytes\": 240}\u001b[0m\n",
      "\u001b[34m[2023-10-19 18:35:26.998] [tensorio] [info] epoch_stats={\"data_pipeline\": \"/opt/ml/input/data/train\", \"epoch\": 16, \"duration\": 9, \"num_examples\": 6, \"num_bytes\": 1248}\u001b[0m\n",
      "\u001b[34m[10/19/2023 18:35:27 INFO 140362276591424] #train_score (algo-1) : ('absolute_loss_objective', 7806.111929086538)\u001b[0m\n",
      "\u001b[34m[10/19/2023 18:35:27 INFO 140362276591424] #train_score (algo-1) : ('mse', 93592255.53846154)\u001b[0m\n",
      "\u001b[34m[10/19/2023 18:35:27 INFO 140362276591424] #train_score (algo-1) : ('absolute_loss', 7806.111929086538)\u001b[0m\n",
      "\u001b[34m[10/19/2023 18:35:27 INFO 140362276591424] #train_score (algo-1) : ('rmse', 9674.30904708246)\u001b[0m\n",
      "\u001b[34m[10/19/2023 18:35:27 INFO 140362276591424] #train_score (algo-1) : ('r2', 0.9130204134301496)\u001b[0m\n",
      "\u001b[34m[10/19/2023 18:35:27 INFO 140362276591424] #train_score (algo-1) : ('mae', 7806.111929086538)\u001b[0m\n",
      "\u001b[34m[10/19/2023 18:35:27 INFO 140362276591424] #quality_metric: host=algo-1, train absolute_loss_objective <loss>=7806.111929086538\u001b[0m\n",
      "\u001b[34m[10/19/2023 18:35:27 INFO 140362276591424] #quality_metric: host=algo-1, train mse <loss>=93592255.53846154\u001b[0m\n",
      "\u001b[34m[10/19/2023 18:35:27 INFO 140362276591424] #quality_metric: host=algo-1, train absolute_loss <loss>=7806.111929086538\u001b[0m\n",
      "\u001b[34m[10/19/2023 18:35:27 INFO 140362276591424] #quality_metric: host=algo-1, train rmse <loss>=9674.30904708246\u001b[0m\n",
      "\u001b[34m[10/19/2023 18:35:27 INFO 140362276591424] #quality_metric: host=algo-1, train r2 <loss>=0.9130204134301496\u001b[0m\n",
      "\u001b[34m[10/19/2023 18:35:27 INFO 140362276591424] #quality_metric: host=algo-1, train mae <loss>=7806.111929086538\u001b[0m\n",
      "\u001b[34m[10/19/2023 18:35:27 INFO 140362276591424] Best model found for hyperparameters: {\"optimizer\": \"adam\", \"learning_rate\": 0.1, \"wd\": 0.0001, \"l1\": 0.0, \"lr_scheduler_step\": 10, \"lr_scheduler_factor\": 0.99, \"lr_scheduler_minimum_lr\": 1e-05}\u001b[0m\n",
      "\u001b[34m[10/19/2023 18:35:27 INFO 140362276591424] Saved checkpoint to \"/tmp/tmpj6_lskrj/mx-mod-0000.params\"\u001b[0m\n",
      "\u001b[34m[10/19/2023 18:35:27 INFO 140362276591424] Test data is not provided.\u001b[0m\n",
      "\u001b[34m#metrics {\"StartTime\": 1697740526.2379947, \"EndTime\": 1697740527.0056107, \"Dimensions\": {\"Algorithm\": \"Linear Learner\", \"Host\": \"algo-1\", \"Operation\": \"training\"}, \"Metrics\": {\"initialize.time\": {\"sum\": 159.29293632507324, \"count\": 1, \"min\": 159.29293632507324, \"max\": 159.29293632507324}, \"epochs\": {\"sum\": 5.0, \"count\": 1, \"min\": 5, \"max\": 5}, \"check_early_stopping.time\": {\"sum\": 3.4067630767822266, \"count\": 5, \"min\": 0.18334388732910156, \"max\": 1.0673999786376953}, \"update.time\": {\"sum\": 570.7311630249023, \"count\": 5, \"min\": 99.1368293762207, \"max\": 128.24058532714844}, \"finalize.time\": {\"sum\": 15.172243118286133, \"count\": 1, \"min\": 15.172243118286133, \"max\": 15.172243118286133}, \"setuptime\": {\"sum\": 2.232074737548828, \"count\": 1, \"min\": 2.232074737548828, \"max\": 2.232074737548828}, \"totaltime\": {\"sum\": 874.1962909698486, \"count\": 1, \"min\": 874.1962909698486, \"max\": 874.1962909698486}}}\u001b[0m\n",
      "\n",
      "2023-10-19 18:35:43 Completed - Training job completed\n",
      "Training seconds: 132\n",
      "Billable seconds: 132\n"
     ]
    }
   ],
   "source": [
    "# Now we are ready to pass in the training data from S3 to train the linear learner model\n",
    "\n",
    "linear.fit({'train': s3_train_data})\n",
    "\n",
    "# Let's see the progress using cloudwatch logs"
   ]
  },
  {
   "cell_type": "code",
   "execution_count": null,
   "id": "020da2b3-310c-4bb0-bcff-5d949e84a983",
   "metadata": {},
   "outputs": [],
   "source": []
  }
 ],
 "metadata": {
  "availableInstances": [
   {
    "_defaultOrder": 0,
    "_isFastLaunch": true,
    "category": "General purpose",
    "gpuNum": 0,
    "hideHardwareSpecs": false,
    "memoryGiB": 4,
    "name": "ml.t3.medium",
    "vcpuNum": 2
   },
   {
    "_defaultOrder": 1,
    "_isFastLaunch": false,
    "category": "General purpose",
    "gpuNum": 0,
    "hideHardwareSpecs": false,
    "memoryGiB": 8,
    "name": "ml.t3.large",
    "vcpuNum": 2
   },
   {
    "_defaultOrder": 2,
    "_isFastLaunch": false,
    "category": "General purpose",
    "gpuNum": 0,
    "hideHardwareSpecs": false,
    "memoryGiB": 16,
    "name": "ml.t3.xlarge",
    "vcpuNum": 4
   },
   {
    "_defaultOrder": 3,
    "_isFastLaunch": false,
    "category": "General purpose",
    "gpuNum": 0,
    "hideHardwareSpecs": false,
    "memoryGiB": 32,
    "name": "ml.t3.2xlarge",
    "vcpuNum": 8
   },
   {
    "_defaultOrder": 4,
    "_isFastLaunch": true,
    "category": "General purpose",
    "gpuNum": 0,
    "hideHardwareSpecs": false,
    "memoryGiB": 8,
    "name": "ml.m5.large",
    "vcpuNum": 2
   },
   {
    "_defaultOrder": 5,
    "_isFastLaunch": false,
    "category": "General purpose",
    "gpuNum": 0,
    "hideHardwareSpecs": false,
    "memoryGiB": 16,
    "name": "ml.m5.xlarge",
    "vcpuNum": 4
   },
   {
    "_defaultOrder": 6,
    "_isFastLaunch": false,
    "category": "General purpose",
    "gpuNum": 0,
    "hideHardwareSpecs": false,
    "memoryGiB": 32,
    "name": "ml.m5.2xlarge",
    "vcpuNum": 8
   },
   {
    "_defaultOrder": 7,
    "_isFastLaunch": false,
    "category": "General purpose",
    "gpuNum": 0,
    "hideHardwareSpecs": false,
    "memoryGiB": 64,
    "name": "ml.m5.4xlarge",
    "vcpuNum": 16
   },
   {
    "_defaultOrder": 8,
    "_isFastLaunch": false,
    "category": "General purpose",
    "gpuNum": 0,
    "hideHardwareSpecs": false,
    "memoryGiB": 128,
    "name": "ml.m5.8xlarge",
    "vcpuNum": 32
   },
   {
    "_defaultOrder": 9,
    "_isFastLaunch": false,
    "category": "General purpose",
    "gpuNum": 0,
    "hideHardwareSpecs": false,
    "memoryGiB": 192,
    "name": "ml.m5.12xlarge",
    "vcpuNum": 48
   },
   {
    "_defaultOrder": 10,
    "_isFastLaunch": false,
    "category": "General purpose",
    "gpuNum": 0,
    "hideHardwareSpecs": false,
    "memoryGiB": 256,
    "name": "ml.m5.16xlarge",
    "vcpuNum": 64
   },
   {
    "_defaultOrder": 11,
    "_isFastLaunch": false,
    "category": "General purpose",
    "gpuNum": 0,
    "hideHardwareSpecs": false,
    "memoryGiB": 384,
    "name": "ml.m5.24xlarge",
    "vcpuNum": 96
   },
   {
    "_defaultOrder": 12,
    "_isFastLaunch": false,
    "category": "General purpose",
    "gpuNum": 0,
    "hideHardwareSpecs": false,
    "memoryGiB": 8,
    "name": "ml.m5d.large",
    "vcpuNum": 2
   },
   {
    "_defaultOrder": 13,
    "_isFastLaunch": false,
    "category": "General purpose",
    "gpuNum": 0,
    "hideHardwareSpecs": false,
    "memoryGiB": 16,
    "name": "ml.m5d.xlarge",
    "vcpuNum": 4
   },
   {
    "_defaultOrder": 14,
    "_isFastLaunch": false,
    "category": "General purpose",
    "gpuNum": 0,
    "hideHardwareSpecs": false,
    "memoryGiB": 32,
    "name": "ml.m5d.2xlarge",
    "vcpuNum": 8
   },
   {
    "_defaultOrder": 15,
    "_isFastLaunch": false,
    "category": "General purpose",
    "gpuNum": 0,
    "hideHardwareSpecs": false,
    "memoryGiB": 64,
    "name": "ml.m5d.4xlarge",
    "vcpuNum": 16
   },
   {
    "_defaultOrder": 16,
    "_isFastLaunch": false,
    "category": "General purpose",
    "gpuNum": 0,
    "hideHardwareSpecs": false,
    "memoryGiB": 128,
    "name": "ml.m5d.8xlarge",
    "vcpuNum": 32
   },
   {
    "_defaultOrder": 17,
    "_isFastLaunch": false,
    "category": "General purpose",
    "gpuNum": 0,
    "hideHardwareSpecs": false,
    "memoryGiB": 192,
    "name": "ml.m5d.12xlarge",
    "vcpuNum": 48
   },
   {
    "_defaultOrder": 18,
    "_isFastLaunch": false,
    "category": "General purpose",
    "gpuNum": 0,
    "hideHardwareSpecs": false,
    "memoryGiB": 256,
    "name": "ml.m5d.16xlarge",
    "vcpuNum": 64
   },
   {
    "_defaultOrder": 19,
    "_isFastLaunch": false,
    "category": "General purpose",
    "gpuNum": 0,
    "hideHardwareSpecs": false,
    "memoryGiB": 384,
    "name": "ml.m5d.24xlarge",
    "vcpuNum": 96
   },
   {
    "_defaultOrder": 20,
    "_isFastLaunch": false,
    "category": "General purpose",
    "gpuNum": 0,
    "hideHardwareSpecs": true,
    "memoryGiB": 0,
    "name": "ml.geospatial.interactive",
    "supportedImageNames": [
     "sagemaker-geospatial-v1-0"
    ],
    "vcpuNum": 0
   },
   {
    "_defaultOrder": 21,
    "_isFastLaunch": true,
    "category": "Compute optimized",
    "gpuNum": 0,
    "hideHardwareSpecs": false,
    "memoryGiB": 4,
    "name": "ml.c5.large",
    "vcpuNum": 2
   },
   {
    "_defaultOrder": 22,
    "_isFastLaunch": false,
    "category": "Compute optimized",
    "gpuNum": 0,
    "hideHardwareSpecs": false,
    "memoryGiB": 8,
    "name": "ml.c5.xlarge",
    "vcpuNum": 4
   },
   {
    "_defaultOrder": 23,
    "_isFastLaunch": false,
    "category": "Compute optimized",
    "gpuNum": 0,
    "hideHardwareSpecs": false,
    "memoryGiB": 16,
    "name": "ml.c5.2xlarge",
    "vcpuNum": 8
   },
   {
    "_defaultOrder": 24,
    "_isFastLaunch": false,
    "category": "Compute optimized",
    "gpuNum": 0,
    "hideHardwareSpecs": false,
    "memoryGiB": 32,
    "name": "ml.c5.4xlarge",
    "vcpuNum": 16
   },
   {
    "_defaultOrder": 25,
    "_isFastLaunch": false,
    "category": "Compute optimized",
    "gpuNum": 0,
    "hideHardwareSpecs": false,
    "memoryGiB": 72,
    "name": "ml.c5.9xlarge",
    "vcpuNum": 36
   },
   {
    "_defaultOrder": 26,
    "_isFastLaunch": false,
    "category": "Compute optimized",
    "gpuNum": 0,
    "hideHardwareSpecs": false,
    "memoryGiB": 96,
    "name": "ml.c5.12xlarge",
    "vcpuNum": 48
   },
   {
    "_defaultOrder": 27,
    "_isFastLaunch": false,
    "category": "Compute optimized",
    "gpuNum": 0,
    "hideHardwareSpecs": false,
    "memoryGiB": 144,
    "name": "ml.c5.18xlarge",
    "vcpuNum": 72
   },
   {
    "_defaultOrder": 28,
    "_isFastLaunch": false,
    "category": "Compute optimized",
    "gpuNum": 0,
    "hideHardwareSpecs": false,
    "memoryGiB": 192,
    "name": "ml.c5.24xlarge",
    "vcpuNum": 96
   },
   {
    "_defaultOrder": 29,
    "_isFastLaunch": true,
    "category": "Accelerated computing",
    "gpuNum": 1,
    "hideHardwareSpecs": false,
    "memoryGiB": 16,
    "name": "ml.g4dn.xlarge",
    "vcpuNum": 4
   },
   {
    "_defaultOrder": 30,
    "_isFastLaunch": false,
    "category": "Accelerated computing",
    "gpuNum": 1,
    "hideHardwareSpecs": false,
    "memoryGiB": 32,
    "name": "ml.g4dn.2xlarge",
    "vcpuNum": 8
   },
   {
    "_defaultOrder": 31,
    "_isFastLaunch": false,
    "category": "Accelerated computing",
    "gpuNum": 1,
    "hideHardwareSpecs": false,
    "memoryGiB": 64,
    "name": "ml.g4dn.4xlarge",
    "vcpuNum": 16
   },
   {
    "_defaultOrder": 32,
    "_isFastLaunch": false,
    "category": "Accelerated computing",
    "gpuNum": 1,
    "hideHardwareSpecs": false,
    "memoryGiB": 128,
    "name": "ml.g4dn.8xlarge",
    "vcpuNum": 32
   },
   {
    "_defaultOrder": 33,
    "_isFastLaunch": false,
    "category": "Accelerated computing",
    "gpuNum": 4,
    "hideHardwareSpecs": false,
    "memoryGiB": 192,
    "name": "ml.g4dn.12xlarge",
    "vcpuNum": 48
   },
   {
    "_defaultOrder": 34,
    "_isFastLaunch": false,
    "category": "Accelerated computing",
    "gpuNum": 1,
    "hideHardwareSpecs": false,
    "memoryGiB": 256,
    "name": "ml.g4dn.16xlarge",
    "vcpuNum": 64
   },
   {
    "_defaultOrder": 35,
    "_isFastLaunch": false,
    "category": "Accelerated computing",
    "gpuNum": 1,
    "hideHardwareSpecs": false,
    "memoryGiB": 61,
    "name": "ml.p3.2xlarge",
    "vcpuNum": 8
   },
   {
    "_defaultOrder": 36,
    "_isFastLaunch": false,
    "category": "Accelerated computing",
    "gpuNum": 4,
    "hideHardwareSpecs": false,
    "memoryGiB": 244,
    "name": "ml.p3.8xlarge",
    "vcpuNum": 32
   },
   {
    "_defaultOrder": 37,
    "_isFastLaunch": false,
    "category": "Accelerated computing",
    "gpuNum": 8,
    "hideHardwareSpecs": false,
    "memoryGiB": 488,
    "name": "ml.p3.16xlarge",
    "vcpuNum": 64
   },
   {
    "_defaultOrder": 38,
    "_isFastLaunch": false,
    "category": "Accelerated computing",
    "gpuNum": 8,
    "hideHardwareSpecs": false,
    "memoryGiB": 768,
    "name": "ml.p3dn.24xlarge",
    "vcpuNum": 96
   },
   {
    "_defaultOrder": 39,
    "_isFastLaunch": false,
    "category": "Memory Optimized",
    "gpuNum": 0,
    "hideHardwareSpecs": false,
    "memoryGiB": 16,
    "name": "ml.r5.large",
    "vcpuNum": 2
   },
   {
    "_defaultOrder": 40,
    "_isFastLaunch": false,
    "category": "Memory Optimized",
    "gpuNum": 0,
    "hideHardwareSpecs": false,
    "memoryGiB": 32,
    "name": "ml.r5.xlarge",
    "vcpuNum": 4
   },
   {
    "_defaultOrder": 41,
    "_isFastLaunch": false,
    "category": "Memory Optimized",
    "gpuNum": 0,
    "hideHardwareSpecs": false,
    "memoryGiB": 64,
    "name": "ml.r5.2xlarge",
    "vcpuNum": 8
   },
   {
    "_defaultOrder": 42,
    "_isFastLaunch": false,
    "category": "Memory Optimized",
    "gpuNum": 0,
    "hideHardwareSpecs": false,
    "memoryGiB": 128,
    "name": "ml.r5.4xlarge",
    "vcpuNum": 16
   },
   {
    "_defaultOrder": 43,
    "_isFastLaunch": false,
    "category": "Memory Optimized",
    "gpuNum": 0,
    "hideHardwareSpecs": false,
    "memoryGiB": 256,
    "name": "ml.r5.8xlarge",
    "vcpuNum": 32
   },
   {
    "_defaultOrder": 44,
    "_isFastLaunch": false,
    "category": "Memory Optimized",
    "gpuNum": 0,
    "hideHardwareSpecs": false,
    "memoryGiB": 384,
    "name": "ml.r5.12xlarge",
    "vcpuNum": 48
   },
   {
    "_defaultOrder": 45,
    "_isFastLaunch": false,
    "category": "Memory Optimized",
    "gpuNum": 0,
    "hideHardwareSpecs": false,
    "memoryGiB": 512,
    "name": "ml.r5.16xlarge",
    "vcpuNum": 64
   },
   {
    "_defaultOrder": 46,
    "_isFastLaunch": false,
    "category": "Memory Optimized",
    "gpuNum": 0,
    "hideHardwareSpecs": false,
    "memoryGiB": 768,
    "name": "ml.r5.24xlarge",
    "vcpuNum": 96
   },
   {
    "_defaultOrder": 47,
    "_isFastLaunch": false,
    "category": "Accelerated computing",
    "gpuNum": 1,
    "hideHardwareSpecs": false,
    "memoryGiB": 16,
    "name": "ml.g5.xlarge",
    "vcpuNum": 4
   },
   {
    "_defaultOrder": 48,
    "_isFastLaunch": false,
    "category": "Accelerated computing",
    "gpuNum": 1,
    "hideHardwareSpecs": false,
    "memoryGiB": 32,
    "name": "ml.g5.2xlarge",
    "vcpuNum": 8
   },
   {
    "_defaultOrder": 49,
    "_isFastLaunch": false,
    "category": "Accelerated computing",
    "gpuNum": 1,
    "hideHardwareSpecs": false,
    "memoryGiB": 64,
    "name": "ml.g5.4xlarge",
    "vcpuNum": 16
   },
   {
    "_defaultOrder": 50,
    "_isFastLaunch": false,
    "category": "Accelerated computing",
    "gpuNum": 1,
    "hideHardwareSpecs": false,
    "memoryGiB": 128,
    "name": "ml.g5.8xlarge",
    "vcpuNum": 32
   },
   {
    "_defaultOrder": 51,
    "_isFastLaunch": false,
    "category": "Accelerated computing",
    "gpuNum": 1,
    "hideHardwareSpecs": false,
    "memoryGiB": 256,
    "name": "ml.g5.16xlarge",
    "vcpuNum": 64
   },
   {
    "_defaultOrder": 52,
    "_isFastLaunch": false,
    "category": "Accelerated computing",
    "gpuNum": 4,
    "hideHardwareSpecs": false,
    "memoryGiB": 192,
    "name": "ml.g5.12xlarge",
    "vcpuNum": 48
   },
   {
    "_defaultOrder": 53,
    "_isFastLaunch": false,
    "category": "Accelerated computing",
    "gpuNum": 4,
    "hideHardwareSpecs": false,
    "memoryGiB": 384,
    "name": "ml.g5.24xlarge",
    "vcpuNum": 96
   },
   {
    "_defaultOrder": 54,
    "_isFastLaunch": false,
    "category": "Accelerated computing",
    "gpuNum": 8,
    "hideHardwareSpecs": false,
    "memoryGiB": 768,
    "name": "ml.g5.48xlarge",
    "vcpuNum": 192
   },
   {
    "_defaultOrder": 55,
    "_isFastLaunch": false,
    "category": "Accelerated computing",
    "gpuNum": 8,
    "hideHardwareSpecs": false,
    "memoryGiB": 1152,
    "name": "ml.p4d.24xlarge",
    "vcpuNum": 96
   },
   {
    "_defaultOrder": 56,
    "_isFastLaunch": false,
    "category": "Accelerated computing",
    "gpuNum": 8,
    "hideHardwareSpecs": false,
    "memoryGiB": 1152,
    "name": "ml.p4de.24xlarge",
    "vcpuNum": 96
   }
  ],
  "instance_type": "ml.t3.medium",
  "kernelspec": {
   "display_name": "Python 3 (Data Science 3.0)",
   "language": "python",
   "name": "python3__SAGEMAKER_INTERNAL__arn:aws:sagemaker:us-east-2:429704687514:image/sagemaker-data-science-310-v1"
  },
  "language_info": {
   "codemirror_mode": {
    "name": "ipython",
    "version": 3
   },
   "file_extension": ".py",
   "mimetype": "text/x-python",
   "name": "python",
   "nbconvert_exporter": "python",
   "pygments_lexer": "ipython3",
   "version": "3.10.6"
  }
 },
 "nbformat": 4,
 "nbformat_minor": 5
}
